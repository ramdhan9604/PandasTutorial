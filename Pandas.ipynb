{
 "cells": [
  {
   "cell_type": "markdown",
   "id": "3f867cdf-c356-4cfe-9bc4-be5f55617a70",
   "metadata": {},
   "source": [
    "# Pandas Series"
   ]
  },
  {
   "cell_type": "markdown",
   "id": "ea9abc10-3764-4df9-beff-2d09215c3900",
   "metadata": {},
   "source": [
    "# 1.Series from list"
   ]
  },
  {
   "cell_type": "code",
   "execution_count": 1,
   "id": "c5b6b470-f8ef-4613-97fe-a55a07dc5594",
   "metadata": {},
   "outputs": [],
   "source": [
    "import numpy as np"
   ]
  },
  {
   "cell_type": "code",
   "execution_count": 2,
   "id": "9f5162bd-7a35-49e1-a0e5-d98d48931865",
   "metadata": {},
   "outputs": [],
   "source": [
    "import pandas as pd"
   ]
  },
  {
   "cell_type": "code",
   "execution_count": 3,
   "id": "fac07fc5-25e0-42fa-a497-d77e23a3e379",
   "metadata": {},
   "outputs": [],
   "source": [
    "# strings"
   ]
  },
  {
   "cell_type": "code",
   "execution_count": 4,
   "id": "e7fe7282-9974-4df4-a742-0e618cdf5b95",
   "metadata": {},
   "outputs": [],
   "source": [
    "country = ['India','Pakistan','USA','Nepal']"
   ]
  },
  {
   "cell_type": "code",
   "execution_count": 5,
   "id": "4d00aa16-57c0-4efd-81da-5f76831c1810",
   "metadata": {},
   "outputs": [
    {
     "data": {
      "text/plain": [
       "0       India\n",
       "1    Pakistan\n",
       "2         USA\n",
       "3       Nepal\n",
       "dtype: object"
      ]
     },
     "execution_count": 5,
     "metadata": {},
     "output_type": "execute_result"
    }
   ],
   "source": [
    "pd.Series(country)"
   ]
  },
  {
   "cell_type": "code",
   "execution_count": 6,
   "id": "a77da779-537a-491d-81bd-37a108299612",
   "metadata": {},
   "outputs": [],
   "source": [
    "#integers\n",
    "\n",
    "runs = [14,35,46,57,60,80]"
   ]
  },
  {
   "cell_type": "code",
   "execution_count": 7,
   "id": "8ebcf682-ef24-43a0-9e4f-468620e00209",
   "metadata": {},
   "outputs": [],
   "source": [
    "RUNS = pd.Series(runs)"
   ]
  },
  {
   "cell_type": "code",
   "execution_count": 8,
   "id": "8518f73c-b4eb-44f5-89b4-3338873964a2",
   "metadata": {},
   "outputs": [
    {
     "data": {
      "text/plain": [
       "0    14\n",
       "1    35\n",
       "2    46\n",
       "3    57\n",
       "4    60\n",
       "5    80\n",
       "dtype: int64"
      ]
     },
     "execution_count": 8,
     "metadata": {},
     "output_type": "execute_result"
    }
   ],
   "source": [
    "RUNS"
   ]
  },
  {
   "cell_type": "code",
   "execution_count": 9,
   "id": "4c7b3bfc-4fb8-4622-bbcd-43c0de6d9e05",
   "metadata": {},
   "outputs": [],
   "source": [
    "# CUSTUM INDEX \n",
    "\n",
    "marks = [100,99,96,89]\n",
    "subjects = ['Maths','Physics','Chemistry','Hindi']"
   ]
  },
  {
   "cell_type": "code",
   "execution_count": 10,
   "id": "f21f0367-a654-4728-a2b5-7e0256b52e13",
   "metadata": {},
   "outputs": [],
   "source": [
    "MARKS = pd.Series(marks,index=subjects)"
   ]
  },
  {
   "cell_type": "code",
   "execution_count": 11,
   "id": "67e9d93e-3821-423b-abcf-32dca50b1a6f",
   "metadata": {},
   "outputs": [
    {
     "data": {
      "text/plain": [
       "Maths        100\n",
       "Physics       99\n",
       "Chemistry     96\n",
       "Hindi         89\n",
       "dtype: int64"
      ]
     },
     "execution_count": 11,
     "metadata": {},
     "output_type": "execute_result"
    }
   ],
   "source": [
    "MARKS"
   ]
  },
  {
   "cell_type": "code",
   "execution_count": 12,
   "id": "b2588e7c-2863-4c9c-85cc-7a19f264b90a",
   "metadata": {},
   "outputs": [],
   "source": [
    "MARKS = pd.Series(marks,index=subjects,name='Ramdhan ke Marks')"
   ]
  },
  {
   "cell_type": "code",
   "execution_count": 13,
   "id": "af51154c-4bd1-4044-9974-63166e10d681",
   "metadata": {},
   "outputs": [
    {
     "data": {
      "text/plain": [
       "Maths        100\n",
       "Physics       99\n",
       "Chemistry     96\n",
       "Hindi         89\n",
       "Name: Ramdhan ke Marks, dtype: int64"
      ]
     },
     "execution_count": 13,
     "metadata": {},
     "output_type": "execute_result"
    }
   ],
   "source": [
    "MARKS"
   ]
  },
  {
   "cell_type": "markdown",
   "id": "73191ba3-4feb-49a6-bbac-bd171281a4eb",
   "metadata": {},
   "source": [
    "# 2.Series from Dictionary"
   ]
  },
  {
   "cell_type": "code",
   "execution_count": 14,
   "id": "3cbdfdfd-ca8b-47ff-b53c-9e94b7d0fe65",
   "metadata": {},
   "outputs": [],
   "source": [
    "MARKS1 = {'Math':100,'Physics':99,'Chemistry':96,'Hindi':89}"
   ]
  },
  {
   "cell_type": "code",
   "execution_count": 15,
   "id": "e86181d3-c311-4f79-b698-4fbd4ee1c006",
   "metadata": {},
   "outputs": [],
   "source": [
    "MARKS_series = pd.Series(MARKS,name='Ramdhan ke marks')"
   ]
  },
  {
   "cell_type": "code",
   "execution_count": 16,
   "id": "ece27065-37b5-482b-8780-035e02891cd1",
   "metadata": {},
   "outputs": [
    {
     "data": {
      "text/plain": [
       "Maths        100\n",
       "Physics       99\n",
       "Chemistry     96\n",
       "Hindi         89\n",
       "Name: Ramdhan ke marks, dtype: int64"
      ]
     },
     "execution_count": 16,
     "metadata": {},
     "output_type": "execute_result"
    }
   ],
   "source": [
    "MARKS_series"
   ]
  },
  {
   "cell_type": "markdown",
   "id": "39a2fc73-5e69-4cc0-a8ae-445ed4b8143c",
   "metadata": {},
   "source": [
    "# SERIES ATTRIBUTES"
   ]
  },
  {
   "cell_type": "code",
   "execution_count": 17,
   "id": "d10d2d48-89f9-4e2d-ad60-637a0d23a17f",
   "metadata": {},
   "outputs": [
    {
     "data": {
      "text/plain": [
       "4"
      ]
     },
     "execution_count": 17,
     "metadata": {},
     "output_type": "execute_result"
    }
   ],
   "source": [
    "#size \n",
    "\n",
    "MARKS_series.size"
   ]
  },
  {
   "cell_type": "code",
   "execution_count": 18,
   "id": "f0b8c141-7529-4c28-89af-043d0c949cdf",
   "metadata": {},
   "outputs": [
    {
     "data": {
      "text/plain": [
       "dtype('int64')"
      ]
     },
     "execution_count": 18,
     "metadata": {},
     "output_type": "execute_result"
    }
   ],
   "source": [
    "#dtype \n",
    "\n",
    "MARKS_series.dtype"
   ]
  },
  {
   "cell_type": "code",
   "execution_count": 19,
   "id": "e3827afd-c517-437b-bb0e-6289befaa5dc",
   "metadata": {},
   "outputs": [
    {
     "data": {
      "text/plain": [
       "'Ramdhan ke marks'"
      ]
     },
     "execution_count": 19,
     "metadata": {},
     "output_type": "execute_result"
    }
   ],
   "source": [
    "#name \n",
    "\n",
    "MARKS_series.name"
   ]
  },
  {
   "cell_type": "code",
   "execution_count": 20,
   "id": "b5ed4144-08a0-4351-8bb7-927f1d3a2fe0",
   "metadata": {},
   "outputs": [
    {
     "data": {
      "text/plain": [
       "True"
      ]
     },
     "execution_count": 20,
     "metadata": {},
     "output_type": "execute_result"
    }
   ],
   "source": [
    "#is_unique \n",
    "\n",
    "MARKS_series.is_unique"
   ]
  },
  {
   "cell_type": "code",
   "execution_count": 21,
   "id": "58306ab6-9c23-4a8d-abfa-7df97ac5e186",
   "metadata": {},
   "outputs": [
    {
     "data": {
      "text/plain": [
       "False"
      ]
     },
     "execution_count": 21,
     "metadata": {},
     "output_type": "execute_result"
    }
   ],
   "source": [
    "pd.Series([1,1,2,3,3,4,5]).is_unique"
   ]
  },
  {
   "cell_type": "code",
   "execution_count": 22,
   "id": "8b86e8ae-2a48-401c-9ffc-9870e96616b1",
   "metadata": {},
   "outputs": [
    {
     "data": {
      "text/plain": [
       "Index(['Maths', 'Physics', 'Chemistry', 'Hindi'], dtype='object')"
      ]
     },
     "execution_count": 22,
     "metadata": {},
     "output_type": "execute_result"
    }
   ],
   "source": [
    "#index \n",
    "\n",
    "MARKS_series.index"
   ]
  },
  {
   "cell_type": "code",
   "execution_count": 23,
   "id": "1f069e8b-3f8b-4232-8464-6c2d71f12be1",
   "metadata": {},
   "outputs": [
    {
     "data": {
      "text/plain": [
       "RangeIndex(start=0, stop=7, step=1)"
      ]
     },
     "execution_count": 23,
     "metadata": {},
     "output_type": "execute_result"
    }
   ],
   "source": [
    "pd.Series([1,2,3,4,5,6,7]).index"
   ]
  },
  {
   "cell_type": "code",
   "execution_count": 25,
   "id": "9681bc69-36e7-43e2-b97c-3d9d061e2cbc",
   "metadata": {},
   "outputs": [
    {
     "data": {
      "text/plain": [
       "array([100,  99,  96,  89], dtype=int64)"
      ]
     },
     "execution_count": 25,
     "metadata": {},
     "output_type": "execute_result"
    }
   ],
   "source": [
    "#values \n",
    "\n",
    "MARKS_series.values"
   ]
  },
  {
   "cell_type": "code",
   "execution_count": 26,
   "id": "67f59e94-321e-413e-a028-a108e86503e3",
   "metadata": {},
   "outputs": [
    {
     "data": {
      "text/plain": [
       "numpy.ndarray"
      ]
     },
     "execution_count": 26,
     "metadata": {},
     "output_type": "execute_result"
    }
   ],
   "source": [
    "type(MARKS_series.values)"
   ]
  },
  {
   "cell_type": "code",
   "execution_count": 27,
   "id": "5693333b-35ed-4061-8443-016f9f66e5fe",
   "metadata": {},
   "outputs": [
    {
     "data": {
      "text/plain": [
       "array([14, 35, 46, 57, 60, 80], dtype=int64)"
      ]
     },
     "execution_count": 27,
     "metadata": {},
     "output_type": "execute_result"
    }
   ],
   "source": [
    "RUNS.values"
   ]
  },
  {
   "cell_type": "markdown",
   "id": "77e72138-3455-4baa-9bd5-655c7dfd6bf3",
   "metadata": {},
   "source": [
    "# SERIES USING read_csv"
   ]
  },
  {
   "cell_type": "code",
   "execution_count": 28,
   "id": "da0962ba-d66b-404f-aa3b-b995cc98a1d9",
   "metadata": {},
   "outputs": [],
   "source": [
    "# with one col \n",
    "\n",
    "subs = pd.read_csv('subs.csv')"
   ]
  },
  {
   "cell_type": "code",
   "execution_count": 29,
   "id": "3452b3e8-5e30-4ce3-b613-ef0182f0b46b",
   "metadata": {},
   "outputs": [
    {
     "data": {
      "text/html": [
       "<div>\n",
       "<style scoped>\n",
       "    .dataframe tbody tr th:only-of-type {\n",
       "        vertical-align: middle;\n",
       "    }\n",
       "\n",
       "    .dataframe tbody tr th {\n",
       "        vertical-align: top;\n",
       "    }\n",
       "\n",
       "    .dataframe thead th {\n",
       "        text-align: right;\n",
       "    }\n",
       "</style>\n",
       "<table border=\"1\" class=\"dataframe\">\n",
       "  <thead>\n",
       "    <tr style=\"text-align: right;\">\n",
       "      <th></th>\n",
       "      <th>Subscribers gained</th>\n",
       "    </tr>\n",
       "  </thead>\n",
       "  <tbody>\n",
       "    <tr>\n",
       "      <th>0</th>\n",
       "      <td>48</td>\n",
       "    </tr>\n",
       "    <tr>\n",
       "      <th>1</th>\n",
       "      <td>57</td>\n",
       "    </tr>\n",
       "    <tr>\n",
       "      <th>2</th>\n",
       "      <td>40</td>\n",
       "    </tr>\n",
       "    <tr>\n",
       "      <th>3</th>\n",
       "      <td>43</td>\n",
       "    </tr>\n",
       "    <tr>\n",
       "      <th>4</th>\n",
       "      <td>44</td>\n",
       "    </tr>\n",
       "    <tr>\n",
       "      <th>...</th>\n",
       "      <td>...</td>\n",
       "    </tr>\n",
       "    <tr>\n",
       "      <th>360</th>\n",
       "      <td>231</td>\n",
       "    </tr>\n",
       "    <tr>\n",
       "      <th>361</th>\n",
       "      <td>226</td>\n",
       "    </tr>\n",
       "    <tr>\n",
       "      <th>362</th>\n",
       "      <td>155</td>\n",
       "    </tr>\n",
       "    <tr>\n",
       "      <th>363</th>\n",
       "      <td>144</td>\n",
       "    </tr>\n",
       "    <tr>\n",
       "      <th>364</th>\n",
       "      <td>172</td>\n",
       "    </tr>\n",
       "  </tbody>\n",
       "</table>\n",
       "<p>365 rows × 1 columns</p>\n",
       "</div>"
      ],
      "text/plain": [
       "     Subscribers gained\n",
       "0                    48\n",
       "1                    57\n",
       "2                    40\n",
       "3                    43\n",
       "4                    44\n",
       "..                  ...\n",
       "360                 231\n",
       "361                 226\n",
       "362                 155\n",
       "363                 144\n",
       "364                 172\n",
       "\n",
       "[365 rows x 1 columns]"
      ]
     },
     "execution_count": 29,
     "metadata": {},
     "output_type": "execute_result"
    }
   ],
   "source": [
    "subs"
   ]
  },
  {
   "cell_type": "code",
   "execution_count": 30,
   "id": "7d38f405-292a-47d3-af41-7f4e9ef9444d",
   "metadata": {},
   "outputs": [
    {
     "data": {
      "text/plain": [
       "pandas.core.frame.DataFrame"
      ]
     },
     "execution_count": 30,
     "metadata": {},
     "output_type": "execute_result"
    }
   ],
   "source": [
    "type(subs)"
   ]
  },
  {
   "cell_type": "code",
   "execution_count": 31,
   "id": "51cbba91-09dd-43e0-8851-44a8888d933e",
   "metadata": {},
   "outputs": [],
   "source": [
    "SUBS = subs.squeeze()"
   ]
  },
  {
   "cell_type": "code",
   "execution_count": 32,
   "id": "60a72fea-34a8-4394-aae1-e171f11c5e96",
   "metadata": {},
   "outputs": [],
   "source": [
    "#squeeze() function used to convert data frame into series"
   ]
  },
  {
   "cell_type": "code",
   "execution_count": 33,
   "id": "c5eb6dfb-6e01-44ab-bcb4-bca55879cff9",
   "metadata": {},
   "outputs": [
    {
     "data": {
      "text/plain": [
       "0       48\n",
       "1       57\n",
       "2       40\n",
       "3       43\n",
       "4       44\n",
       "      ... \n",
       "360    231\n",
       "361    226\n",
       "362    155\n",
       "363    144\n",
       "364    172\n",
       "Name: Subscribers gained, Length: 365, dtype: int64"
      ]
     },
     "execution_count": 33,
     "metadata": {},
     "output_type": "execute_result"
    }
   ],
   "source": [
    "SUBS"
   ]
  },
  {
   "cell_type": "code",
   "execution_count": 34,
   "id": "cd2ef9f1-c28e-4f6e-ba0f-50257086e122",
   "metadata": {},
   "outputs": [
    {
     "data": {
      "text/plain": [
       "0       48\n",
       "1       57\n",
       "2       40\n",
       "3       43\n",
       "4       44\n",
       "      ... \n",
       "360    231\n",
       "361    226\n",
       "362    155\n",
       "363    144\n",
       "364    172\n",
       "Name: Subscribers gained, Length: 365, dtype: int64"
      ]
     },
     "execution_count": 34,
     "metadata": {},
     "output_type": "execute_result"
    }
   ],
   "source": [
    "SUBS"
   ]
  },
  {
   "cell_type": "code",
   "execution_count": 35,
   "id": "c6cda85b-9ec4-40c9-a24f-f75b3e934c1f",
   "metadata": {},
   "outputs": [
    {
     "data": {
      "text/html": [
       "<div>\n",
       "<style scoped>\n",
       "    .dataframe tbody tr th:only-of-type {\n",
       "        vertical-align: middle;\n",
       "    }\n",
       "\n",
       "    .dataframe tbody tr th {\n",
       "        vertical-align: top;\n",
       "    }\n",
       "\n",
       "    .dataframe thead th {\n",
       "        text-align: right;\n",
       "    }\n",
       "</style>\n",
       "<table border=\"1\" class=\"dataframe\">\n",
       "  <thead>\n",
       "    <tr style=\"text-align: right;\">\n",
       "      <th></th>\n",
       "      <th>match_no</th>\n",
       "      <th>runs</th>\n",
       "    </tr>\n",
       "  </thead>\n",
       "  <tbody>\n",
       "    <tr>\n",
       "      <th>0</th>\n",
       "      <td>1</td>\n",
       "      <td>1</td>\n",
       "    </tr>\n",
       "    <tr>\n",
       "      <th>1</th>\n",
       "      <td>2</td>\n",
       "      <td>23</td>\n",
       "    </tr>\n",
       "    <tr>\n",
       "      <th>2</th>\n",
       "      <td>3</td>\n",
       "      <td>13</td>\n",
       "    </tr>\n",
       "    <tr>\n",
       "      <th>3</th>\n",
       "      <td>4</td>\n",
       "      <td>12</td>\n",
       "    </tr>\n",
       "    <tr>\n",
       "      <th>4</th>\n",
       "      <td>5</td>\n",
       "      <td>1</td>\n",
       "    </tr>\n",
       "    <tr>\n",
       "      <th>...</th>\n",
       "      <td>...</td>\n",
       "      <td>...</td>\n",
       "    </tr>\n",
       "    <tr>\n",
       "      <th>210</th>\n",
       "      <td>211</td>\n",
       "      <td>0</td>\n",
       "    </tr>\n",
       "    <tr>\n",
       "      <th>211</th>\n",
       "      <td>212</td>\n",
       "      <td>20</td>\n",
       "    </tr>\n",
       "    <tr>\n",
       "      <th>212</th>\n",
       "      <td>213</td>\n",
       "      <td>73</td>\n",
       "    </tr>\n",
       "    <tr>\n",
       "      <th>213</th>\n",
       "      <td>214</td>\n",
       "      <td>25</td>\n",
       "    </tr>\n",
       "    <tr>\n",
       "      <th>214</th>\n",
       "      <td>215</td>\n",
       "      <td>7</td>\n",
       "    </tr>\n",
       "  </tbody>\n",
       "</table>\n",
       "<p>215 rows × 2 columns</p>\n",
       "</div>"
      ],
      "text/plain": [
       "     match_no  runs\n",
       "0           1     1\n",
       "1           2    23\n",
       "2           3    13\n",
       "3           4    12\n",
       "4           5     1\n",
       "..        ...   ...\n",
       "210       211     0\n",
       "211       212    20\n",
       "212       213    73\n",
       "213       214    25\n",
       "214       215     7\n",
       "\n",
       "[215 rows x 2 columns]"
      ]
     },
     "execution_count": 35,
     "metadata": {},
     "output_type": "execute_result"
    }
   ],
   "source": [
    "# with two col \n",
    "\n",
    "pd.read_csv('kohli_ipl.csv')"
   ]
  },
  {
   "cell_type": "code",
   "execution_count": 36,
   "id": "90cd8d85-ed7e-442c-b39c-dcba2356c6e4",
   "metadata": {},
   "outputs": [
    {
     "data": {
      "text/html": [
       "<div>\n",
       "<style scoped>\n",
       "    .dataframe tbody tr th:only-of-type {\n",
       "        vertical-align: middle;\n",
       "    }\n",
       "\n",
       "    .dataframe tbody tr th {\n",
       "        vertical-align: top;\n",
       "    }\n",
       "\n",
       "    .dataframe thead th {\n",
       "        text-align: right;\n",
       "    }\n",
       "</style>\n",
       "<table border=\"1\" class=\"dataframe\">\n",
       "  <thead>\n",
       "    <tr style=\"text-align: right;\">\n",
       "      <th></th>\n",
       "      <th>runs</th>\n",
       "    </tr>\n",
       "    <tr>\n",
       "      <th>match_no</th>\n",
       "      <th></th>\n",
       "    </tr>\n",
       "  </thead>\n",
       "  <tbody>\n",
       "    <tr>\n",
       "      <th>1</th>\n",
       "      <td>1</td>\n",
       "    </tr>\n",
       "    <tr>\n",
       "      <th>2</th>\n",
       "      <td>23</td>\n",
       "    </tr>\n",
       "    <tr>\n",
       "      <th>3</th>\n",
       "      <td>13</td>\n",
       "    </tr>\n",
       "    <tr>\n",
       "      <th>4</th>\n",
       "      <td>12</td>\n",
       "    </tr>\n",
       "    <tr>\n",
       "      <th>5</th>\n",
       "      <td>1</td>\n",
       "    </tr>\n",
       "    <tr>\n",
       "      <th>...</th>\n",
       "      <td>...</td>\n",
       "    </tr>\n",
       "    <tr>\n",
       "      <th>211</th>\n",
       "      <td>0</td>\n",
       "    </tr>\n",
       "    <tr>\n",
       "      <th>212</th>\n",
       "      <td>20</td>\n",
       "    </tr>\n",
       "    <tr>\n",
       "      <th>213</th>\n",
       "      <td>73</td>\n",
       "    </tr>\n",
       "    <tr>\n",
       "      <th>214</th>\n",
       "      <td>25</td>\n",
       "    </tr>\n",
       "    <tr>\n",
       "      <th>215</th>\n",
       "      <td>7</td>\n",
       "    </tr>\n",
       "  </tbody>\n",
       "</table>\n",
       "<p>215 rows × 1 columns</p>\n",
       "</div>"
      ],
      "text/plain": [
       "          runs\n",
       "match_no      \n",
       "1            1\n",
       "2           23\n",
       "3           13\n",
       "4           12\n",
       "5            1\n",
       "...        ...\n",
       "211          0\n",
       "212         20\n",
       "213         73\n",
       "214         25\n",
       "215          7\n",
       "\n",
       "[215 rows x 1 columns]"
      ]
     },
     "execution_count": 36,
     "metadata": {},
     "output_type": "execute_result"
    }
   ],
   "source": [
    "pd.read_csv('kohli_ipl.csv',index_col='match_no')"
   ]
  },
  {
   "cell_type": "code",
   "execution_count": 37,
   "id": "0213c4e6-f00f-41c5-9eba-f653d0f004d5",
   "metadata": {},
   "outputs": [],
   "source": [
    "vk = pd.read_csv('kohli_ipl.csv',index_col='match_no').squeeze()"
   ]
  },
  {
   "cell_type": "code",
   "execution_count": 38,
   "id": "0517c687-3ef5-482e-8658-b4910110634a",
   "metadata": {},
   "outputs": [
    {
     "data": {
      "text/plain": [
       "match_no\n",
       "1       1\n",
       "2      23\n",
       "3      13\n",
       "4      12\n",
       "5       1\n",
       "       ..\n",
       "211     0\n",
       "212    20\n",
       "213    73\n",
       "214    25\n",
       "215     7\n",
       "Name: runs, Length: 215, dtype: int64"
      ]
     },
     "execution_count": 38,
     "metadata": {},
     "output_type": "execute_result"
    }
   ],
   "source": [
    "vk"
   ]
  },
  {
   "cell_type": "code",
   "execution_count": 39,
   "id": "331c76c3-a072-4c40-b8f5-8ce2e1ce1985",
   "metadata": {},
   "outputs": [],
   "source": [
    "movies = pd.read_csv('bollywood.csv',index_col='movie').squeeze()"
   ]
  },
  {
   "cell_type": "code",
   "execution_count": 40,
   "id": "84d69b6b-c0b1-44e2-8f24-3cf571c939a3",
   "metadata": {},
   "outputs": [
    {
     "data": {
      "text/plain": [
       "movie\n",
       "Uri: The Surgical Strike                   Vicky Kaushal\n",
       "Battalion 609                                Vicky Ahuja\n",
       "The Accidental Prime Minister (film)         Anupam Kher\n",
       "Why Cheat India                            Emraan Hashmi\n",
       "Evening Shadows                         Mona Ambegaonkar\n",
       "                                              ...       \n",
       "Hum Tumhare Hain Sanam                    Shah Rukh Khan\n",
       "Aankhen (2002 film)                     Amitabh Bachchan\n",
       "Saathiya (film)                             Vivek Oberoi\n",
       "Company (film)                                Ajay Devgn\n",
       "Awara Paagal Deewana                        Akshay Kumar\n",
       "Name: lead, Length: 1500, dtype: object"
      ]
     },
     "execution_count": 40,
     "metadata": {},
     "output_type": "execute_result"
    }
   ],
   "source": [
    "movies"
   ]
  },
  {
   "cell_type": "markdown",
   "id": "8dcdb71f-ea4b-425a-82b9-e99db2090fe2",
   "metadata": {},
   "source": [
    "# Series Methods"
   ]
  },
  {
   "cell_type": "markdown",
   "id": "03dad348-15d2-4366-8e7d-8bb3f04ff415",
   "metadata": {},
   "source": [
    "# 1. head and tail"
   ]
  },
  {
   "cell_type": "code",
   "execution_count": 41,
   "id": "2d9578ab-b7c0-4c7c-bec8-5a0322cebfd8",
   "metadata": {},
   "outputs": [
    {
     "data": {
      "text/plain": [
       "0    48\n",
       "1    57\n",
       "2    40\n",
       "3    43\n",
       "4    44\n",
       "Name: Subscribers gained, dtype: int64"
      ]
     },
     "execution_count": 41,
     "metadata": {},
     "output_type": "execute_result"
    }
   ],
   "source": [
    "SUBS.head()"
   ]
  },
  {
   "cell_type": "code",
   "execution_count": 42,
   "id": "672255d3-0476-4d41-b3d8-6ed6ab569e0f",
   "metadata": {},
   "outputs": [
    {
     "data": {
      "text/plain": [
       "0    48\n",
       "1    57\n",
       "2    40\n",
       "Name: Subscribers gained, dtype: int64"
      ]
     },
     "execution_count": 42,
     "metadata": {},
     "output_type": "execute_result"
    }
   ],
   "source": [
    "SUBS.head(3)"
   ]
  },
  {
   "cell_type": "code",
   "execution_count": 43,
   "id": "1158ddd6-204c-47b4-87d0-c56883c6b312",
   "metadata": {},
   "outputs": [
    {
     "data": {
      "text/plain": [
       "match_no\n",
       "1     1\n",
       "2    23\n",
       "3    13\n",
       "4    12\n",
       "Name: runs, dtype: int64"
      ]
     },
     "execution_count": 43,
     "metadata": {},
     "output_type": "execute_result"
    }
   ],
   "source": [
    "vk.head(4)"
   ]
  },
  {
   "cell_type": "code",
   "execution_count": 44,
   "id": "39b689ee-5e01-4401-8137-e4512dd6b8f0",
   "metadata": {},
   "outputs": [
    {
     "data": {
      "text/plain": [
       "movie\n",
       "Uri: The Surgical Strike                Vicky Kaushal\n",
       "Battalion 609                             Vicky Ahuja\n",
       "The Accidental Prime Minister (film)      Anupam Kher\n",
       "Name: lead, dtype: object"
      ]
     },
     "execution_count": 44,
     "metadata": {},
     "output_type": "execute_result"
    }
   ],
   "source": [
    "movies.head(3)"
   ]
  },
  {
   "cell_type": "code",
   "execution_count": 45,
   "id": "a4b93468-e7b3-4a2c-9cb6-81beac9e623c",
   "metadata": {},
   "outputs": [
    {
     "data": {
      "text/plain": [
       "match_no\n",
       "211     0\n",
       "212    20\n",
       "213    73\n",
       "214    25\n",
       "215     7\n",
       "Name: runs, dtype: int64"
      ]
     },
     "execution_count": 45,
     "metadata": {},
     "output_type": "execute_result"
    }
   ],
   "source": [
    "#tail\n",
    "\n",
    "vk.tail()"
   ]
  },
  {
   "cell_type": "code",
   "execution_count": 46,
   "id": "ad98f4d5-e2e8-4587-81f7-7091d3205ae9",
   "metadata": {},
   "outputs": [
    {
     "data": {
      "text/plain": [
       "match_no\n",
       "213    73\n",
       "214    25\n",
       "215     7\n",
       "Name: runs, dtype: int64"
      ]
     },
     "execution_count": 46,
     "metadata": {},
     "output_type": "execute_result"
    }
   ],
   "source": [
    "vk.tail(3)"
   ]
  },
  {
   "cell_type": "code",
   "execution_count": 47,
   "id": "4dc38b53-66b2-40f6-a151-007026acd6cf",
   "metadata": {},
   "outputs": [
    {
     "data": {
      "text/plain": [
       "movie\n",
       "Aankhen (2002 film)     Amitabh Bachchan\n",
       "Saathiya (film)             Vivek Oberoi\n",
       "Company (film)                Ajay Devgn\n",
       "Awara Paagal Deewana        Akshay Kumar\n",
       "Name: lead, dtype: object"
      ]
     },
     "execution_count": 47,
     "metadata": {},
     "output_type": "execute_result"
    }
   ],
   "source": [
    "movies.tail(4)"
   ]
  },
  {
   "cell_type": "markdown",
   "id": "1bc0c9c8-452e-4495-9982-0f15cf7b9c80",
   "metadata": {},
   "source": [
    "# 2.sample"
   ]
  },
  {
   "cell_type": "code",
   "execution_count": 48,
   "id": "ff29901b-a297-48f0-955e-f6f2ff172f90",
   "metadata": {},
   "outputs": [],
   "source": [
    "# it gives randomly one result \n",
    "#if we specify that we need to how many random results from series"
   ]
  },
  {
   "cell_type": "code",
   "execution_count": 49,
   "id": "fc2bfc40-8a26-4f9a-8d71-7928711ce2c2",
   "metadata": {},
   "outputs": [
    {
     "data": {
      "text/plain": [
       "movie\n",
       "Golmaal: Fun Unlimited    Ajay Devgn\n",
       "Name: lead, dtype: object"
      ]
     },
     "execution_count": 49,
     "metadata": {},
     "output_type": "execute_result"
    }
   ],
   "source": [
    "movies.sample()"
   ]
  },
  {
   "cell_type": "code",
   "execution_count": 50,
   "id": "f8514fc1-ef4f-456c-8694-a0a950ab1b24",
   "metadata": {},
   "outputs": [
    {
     "data": {
      "text/plain": [
       "movie\n",
       "Iqbal (film)            Shreyas Talpade\n",
       "Fox (film)                 Arjun Rampal\n",
       "Yeh Dil                  Tusshar Kapoor\n",
       "Ek Hasina Thi (film)      Saif Ali Khan\n",
       "Name: lead, dtype: object"
      ]
     },
     "execution_count": 50,
     "metadata": {},
     "output_type": "execute_result"
    }
   ],
   "source": [
    "movies.sample(4)"
   ]
  },
  {
   "cell_type": "code",
   "execution_count": 51,
   "id": "81285e7a-ee69-464c-8614-c0e9ee1c55f3",
   "metadata": {},
   "outputs": [
    {
     "data": {
      "text/plain": [
       "match_no\n",
       "85     56\n",
       "27     16\n",
       "91      0\n",
       "134    64\n",
       "Name: runs, dtype: int64"
      ]
     },
     "execution_count": 51,
     "metadata": {},
     "output_type": "execute_result"
    }
   ],
   "source": [
    "vk.sample(4)"
   ]
  },
  {
   "cell_type": "markdown",
   "id": "f705b44c-e67b-474a-b27e-cdf766800fd2",
   "metadata": {},
   "source": [
    "# 3.value_counts()"
   ]
  },
  {
   "cell_type": "code",
   "execution_count": 52,
   "id": "5a6e3583-f1df-4d04-b374-9fa9b0b07522",
   "metadata": {},
   "outputs": [],
   "source": [
    "#it gives the frequency of each data "
   ]
  },
  {
   "cell_type": "code",
   "execution_count": 53,
   "id": "b6bd31f8-3448-4dc2-883a-bb65c6077951",
   "metadata": {},
   "outputs": [
    {
     "data": {
      "text/plain": [
       "lead\n",
       "Akshay Kumar        48\n",
       "Amitabh Bachchan    45\n",
       "Ajay Devgn          38\n",
       "Salman Khan         31\n",
       "Sanjay Dutt         26\n",
       "                    ..\n",
       "Diganth              1\n",
       "Parveen Kaur         1\n",
       "Seema Azmi           1\n",
       "Akanksha Puri        1\n",
       "Edwin Fernandes      1\n",
       "Name: count, Length: 566, dtype: int64"
      ]
     },
     "execution_count": 53,
     "metadata": {},
     "output_type": "execute_result"
    }
   ],
   "source": [
    "movies.value_counts()"
   ]
  },
  {
   "cell_type": "markdown",
   "id": "cb40350c-0495-455d-888e-565060fa4176",
   "metadata": {},
   "source": [
    "# 4. sort_values()"
   ]
  },
  {
   "cell_type": "code",
   "execution_count": 54,
   "id": "1e52685f-56bd-464b-93b9-ebd68b800640",
   "metadata": {},
   "outputs": [
    {
     "data": {
      "text/plain": [
       "match_no\n",
       "87       0\n",
       "211      0\n",
       "207      0\n",
       "206      0\n",
       "91       0\n",
       "      ... \n",
       "164    100\n",
       "120    100\n",
       "123    108\n",
       "126    109\n",
       "128    113\n",
       "Name: runs, Length: 215, dtype: int64"
      ]
     },
     "execution_count": 54,
     "metadata": {},
     "output_type": "execute_result"
    }
   ],
   "source": [
    "vk.sort_values()"
   ]
  },
  {
   "cell_type": "code",
   "execution_count": 55,
   "id": "24c71919-83f8-460f-b4d9-6050c2dd6f06",
   "metadata": {},
   "outputs": [
    {
     "data": {
      "text/plain": [
       "match_no\n",
       "128    113\n",
       "126    109\n",
       "123    108\n",
       "164    100\n",
       "120    100\n",
       "      ... \n",
       "93       0\n",
       "211      0\n",
       "130      0\n",
       "8        0\n",
       "135      0\n",
       "Name: runs, Length: 215, dtype: int64"
      ]
     },
     "execution_count": 55,
     "metadata": {},
     "output_type": "execute_result"
    }
   ],
   "source": [
    "vk.sort_values(ascending=False)"
   ]
  },
  {
   "cell_type": "code",
   "execution_count": 56,
   "id": "c8f57f77-35a4-48ec-b833-1707653862ba",
   "metadata": {},
   "outputs": [],
   "source": [
    "#calculate the highest score of virat kohli"
   ]
  },
  {
   "cell_type": "code",
   "execution_count": 57,
   "id": "f532d6f6-3f31-4328-b358-693f7432ad03",
   "metadata": {},
   "outputs": [
    {
     "data": {
      "text/plain": [
       "match_no\n",
       "1       1\n",
       "2      23\n",
       "3      13\n",
       "4      12\n",
       "5       1\n",
       "       ..\n",
       "211     0\n",
       "212    20\n",
       "213    73\n",
       "214    25\n",
       "215     7\n",
       "Name: runs, Length: 215, dtype: int64"
      ]
     },
     "execution_count": 57,
     "metadata": {},
     "output_type": "execute_result"
    }
   ],
   "source": [
    "vk"
   ]
  },
  {
   "cell_type": "code",
   "execution_count": 62,
   "id": "e02d2fbf-a1c6-4916-a686-f3964958f84d",
   "metadata": {},
   "outputs": [
    {
     "data": {
      "text/plain": [
       "113"
      ]
     },
     "execution_count": 62,
     "metadata": {},
     "output_type": "execute_result"
    }
   ],
   "source": [
    "vk.sort_values(ascending=False).head(1).values[0]"
   ]
  },
  {
   "cell_type": "code",
   "execution_count": 63,
   "id": "3c3126ff-1444-4cef-8487-d4ea8312da14",
   "metadata": {},
   "outputs": [],
   "source": [
    "vk = vk.sort_values()"
   ]
  },
  {
   "cell_type": "code",
   "execution_count": 64,
   "id": "8082ace6-4072-40e2-b9d0-22b7abafe61f",
   "metadata": {},
   "outputs": [
    {
     "data": {
      "text/plain": [
       "match_no\n",
       "87       0\n",
       "211      0\n",
       "207      0\n",
       "206      0\n",
       "91       0\n",
       "      ... \n",
       "164    100\n",
       "120    100\n",
       "123    108\n",
       "126    109\n",
       "128    113\n",
       "Name: runs, Length: 215, dtype: int64"
      ]
     },
     "execution_count": 64,
     "metadata": {},
     "output_type": "execute_result"
    }
   ],
   "source": [
    "vk"
   ]
  },
  {
   "cell_type": "markdown",
   "id": "9dcc85ad-48ed-4023-9ddc-3e180ae249e0",
   "metadata": {},
   "source": [
    "# 5. sort_index()"
   ]
  },
  {
   "cell_type": "code",
   "execution_count": 65,
   "id": "b4a0767e-1725-4b53-b041-ab9b63bfc60f",
   "metadata": {},
   "outputs": [
    {
     "data": {
      "text/plain": [
       "movie\n",
       "1920 (film)                   Rajniesh Duggall\n",
       "1920: London                     Sharman Joshi\n",
       "1920: The Evil Returns             Vicky Ahuja\n",
       "1971 (2007 film)                Manoj Bajpayee\n",
       "2 States (2014 film)              Arjun Kapoor\n",
       "                                   ...        \n",
       "Zindagi 50-50                      Veena Malik\n",
       "Zindagi Na Milegi Dobara        Hrithik Roshan\n",
       "Zindagi Tere Naam           Mithun Chakraborty\n",
       "Zokkomon                       Darsheel Safary\n",
       "Zor Lagaa Ke...Haiya!            Meghan Jadhav\n",
       "Name: lead, Length: 1500, dtype: object"
      ]
     },
     "execution_count": 65,
     "metadata": {},
     "output_type": "execute_result"
    }
   ],
   "source": [
    "movies.sort_index()"
   ]
  },
  {
   "cell_type": "code",
   "execution_count": 67,
   "id": "b314f2ae-2848-430b-8f8f-10451f0ff021",
   "metadata": {},
   "outputs": [],
   "source": [
    "movies.sort_index(inplace=True)"
   ]
  },
  {
   "cell_type": "code",
   "execution_count": 68,
   "id": "303be511-f80d-4efc-9dc3-e62961de689e",
   "metadata": {},
   "outputs": [
    {
     "data": {
      "text/plain": [
       "movie\n",
       "1920 (film)                   Rajniesh Duggall\n",
       "1920: London                     Sharman Joshi\n",
       "1920: The Evil Returns             Vicky Ahuja\n",
       "1971 (2007 film)                Manoj Bajpayee\n",
       "2 States (2014 film)              Arjun Kapoor\n",
       "                                   ...        \n",
       "Zindagi 50-50                      Veena Malik\n",
       "Zindagi Na Milegi Dobara        Hrithik Roshan\n",
       "Zindagi Tere Naam           Mithun Chakraborty\n",
       "Zokkomon                       Darsheel Safary\n",
       "Zor Lagaa Ke...Haiya!            Meghan Jadhav\n",
       "Name: lead, Length: 1500, dtype: object"
      ]
     },
     "execution_count": 68,
     "metadata": {},
     "output_type": "execute_result"
    }
   ],
   "source": [
    "movies"
   ]
  },
  {
   "cell_type": "markdown",
   "id": "29a3d2de-add5-481c-9b0b-dfde86b742b4",
   "metadata": {},
   "source": [
    "# Series Maths Methods"
   ]
  },
  {
   "cell_type": "code",
   "execution_count": 69,
   "id": "0d0c745b-7b0f-4245-8024-47b369f6a853",
   "metadata": {},
   "outputs": [
    {
     "data": {
      "text/plain": [
       "215"
      ]
     },
     "execution_count": 69,
     "metadata": {},
     "output_type": "execute_result"
    }
   ],
   "source": [
    "#count\n",
    "\n",
    "#size gives the counting with missing values but count gives the counting without missing values\n",
    "\n",
    "vk.count()"
   ]
  },
  {
   "cell_type": "code",
   "execution_count": 70,
   "id": "c182ba8a-428c-4f71-9229-dfd7729c2410",
   "metadata": {},
   "outputs": [
    {
     "data": {
      "text/plain": [
       "0       48\n",
       "1       57\n",
       "2       40\n",
       "3       43\n",
       "4       44\n",
       "      ... \n",
       "360    231\n",
       "361    226\n",
       "362    155\n",
       "363    144\n",
       "364    172\n",
       "Name: Subscribers gained, Length: 365, dtype: int64"
      ]
     },
     "execution_count": 70,
     "metadata": {},
     "output_type": "execute_result"
    }
   ],
   "source": [
    "#sum and product\n",
    "\n",
    "SUBS"
   ]
  },
  {
   "cell_type": "code",
   "execution_count": 71,
   "id": "9ddf776d-c592-4ce5-9992-854441ca6679",
   "metadata": {},
   "outputs": [
    {
     "data": {
      "text/plain": [
       "49510"
      ]
     },
     "execution_count": 71,
     "metadata": {},
     "output_type": "execute_result"
    }
   ],
   "source": [
    "SUBS.sum()"
   ]
  },
  {
   "cell_type": "code",
   "execution_count": 73,
   "id": "a8082e61-5726-490a-a8c3-2eddc06378ce",
   "metadata": {},
   "outputs": [
    {
     "data": {
      "text/plain": [
       "0"
      ]
     },
     "execution_count": 73,
     "metadata": {},
     "output_type": "execute_result"
    }
   ],
   "source": [
    "SUBS.product()"
   ]
  },
  {
   "cell_type": "code",
   "execution_count": 74,
   "id": "5cd43466-f3c4-4112-96b6-7640100c35db",
   "metadata": {},
   "outputs": [
    {
     "data": {
      "text/plain": [
       "135.64383561643837"
      ]
     },
     "execution_count": 74,
     "metadata": {},
     "output_type": "execute_result"
    }
   ],
   "source": [
    "# mean , median , mode , std, var\n",
    "\n",
    "SUBS.mean()"
   ]
  },
  {
   "cell_type": "code",
   "execution_count": 75,
   "id": "975d9c44-265b-4e77-8a91-fe4149ff128a",
   "metadata": {},
   "outputs": [
    {
     "data": {
      "text/plain": [
       "123.0"
      ]
     },
     "execution_count": 75,
     "metadata": {},
     "output_type": "execute_result"
    }
   ],
   "source": [
    "SUBS.median()"
   ]
  },
  {
   "cell_type": "code",
   "execution_count": 76,
   "id": "8fcc6dc6-dfb4-4ec0-8f44-6ffffb92bd25",
   "metadata": {},
   "outputs": [
    {
     "data": {
      "text/plain": [
       "0    105\n",
       "Name: Subscribers gained, dtype: int64"
      ]
     },
     "execution_count": 76,
     "metadata": {},
     "output_type": "execute_result"
    }
   ],
   "source": [
    "SUBS.mode()"
   ]
  },
  {
   "cell_type": "code",
   "execution_count": 79,
   "id": "fb3e4b6f-6941-4aea-9784-2b36c2fb1dc0",
   "metadata": {},
   "outputs": [
    {
     "data": {
      "text/plain": [
       "62.6750230372527"
      ]
     },
     "execution_count": 79,
     "metadata": {},
     "output_type": "execute_result"
    }
   ],
   "source": [
    "SUBS.std()"
   ]
  },
  {
   "cell_type": "code",
   "execution_count": 80,
   "id": "dbffb8e9-ce4f-4287-b62a-df91a5890b88",
   "metadata": {},
   "outputs": [
    {
     "data": {
      "text/plain": [
       "688.0024777222343"
      ]
     },
     "execution_count": 80,
     "metadata": {},
     "output_type": "execute_result"
    }
   ],
   "source": [
    "vk.var()"
   ]
  },
  {
   "cell_type": "code",
   "execution_count": 81,
   "id": "13fb72fa-36f3-4397-91a4-e6ab6a782150",
   "metadata": {},
   "outputs": [],
   "source": [
    "# min and max "
   ]
  },
  {
   "cell_type": "code",
   "execution_count": 82,
   "id": "73c5ed69-368b-4eed-8082-a84f999bc340",
   "metadata": {},
   "outputs": [
    {
     "data": {
      "text/plain": [
       "33"
      ]
     },
     "execution_count": 82,
     "metadata": {},
     "output_type": "execute_result"
    }
   ],
   "source": [
    "SUBS.min()"
   ]
  },
  {
   "cell_type": "code",
   "execution_count": 83,
   "id": "8106bd06-912f-46e8-a50c-c4394bb514ed",
   "metadata": {},
   "outputs": [
    {
     "data": {
      "text/plain": [
       "396"
      ]
     },
     "execution_count": 83,
     "metadata": {},
     "output_type": "execute_result"
    }
   ],
   "source": [
    "SUBS.max()"
   ]
  },
  {
   "cell_type": "code",
   "execution_count": 84,
   "id": "ba41f926-1dc8-4c5e-b997-e35d45c67454",
   "metadata": {},
   "outputs": [],
   "source": [
    "# describe()"
   ]
  },
  {
   "cell_type": "code",
   "execution_count": 85,
   "id": "08a81eae-082b-495e-a7bb-d35deb6c0b83",
   "metadata": {},
   "outputs": [
    {
     "data": {
      "text/plain": [
       "count    215.000000\n",
       "mean      30.855814\n",
       "std       26.229801\n",
       "min        0.000000\n",
       "25%        9.000000\n",
       "50%       24.000000\n",
       "75%       48.000000\n",
       "max      113.000000\n",
       "Name: runs, dtype: float64"
      ]
     },
     "execution_count": 85,
     "metadata": {},
     "output_type": "execute_result"
    }
   ],
   "source": [
    "vk.describe()"
   ]
  },
  {
   "cell_type": "markdown",
   "id": "bbf0f1d3-040c-4dda-abe3-0703006b74ec",
   "metadata": {},
   "source": [
    "# SERIES INDEXING"
   ]
  },
  {
   "cell_type": "code",
   "execution_count": 86,
   "id": "663131d9-2bca-4e9f-82b8-64d5274d7084",
   "metadata": {},
   "outputs": [],
   "source": [
    "#integer indexing\n",
    "\n",
    "x = pd.Series([11,23,45,56,66])"
   ]
  },
  {
   "cell_type": "code",
   "execution_count": 87,
   "id": "8f6bf0f9-d900-424c-8c38-6e2d86367c36",
   "metadata": {},
   "outputs": [
    {
     "data": {
      "text/plain": [
       "11"
      ]
     },
     "execution_count": 87,
     "metadata": {},
     "output_type": "execute_result"
    }
   ],
   "source": [
    "x[0]"
   ]
  },
  {
   "cell_type": "code",
   "execution_count": 88,
   "id": "818929b7-9fd6-4ba8-a8fe-f3a6d7dc1d60",
   "metadata": {},
   "outputs": [],
   "source": [
    "#negative indexing\n",
    "\n",
    "#series does not work on negative indexing but if index is string than it is work"
   ]
  },
  {
   "cell_type": "code",
   "execution_count": 89,
   "id": "fb466ef8-92c2-4f4f-81da-54e3c92553e4",
   "metadata": {},
   "outputs": [
    {
     "data": {
      "text/plain": [
       "movie\n",
       "1920 (film)                   Rajniesh Duggall\n",
       "1920: London                     Sharman Joshi\n",
       "1920: The Evil Returns             Vicky Ahuja\n",
       "1971 (2007 film)                Manoj Bajpayee\n",
       "2 States (2014 film)              Arjun Kapoor\n",
       "                                   ...        \n",
       "Zindagi 50-50                      Veena Malik\n",
       "Zindagi Na Milegi Dobara        Hrithik Roshan\n",
       "Zindagi Tere Naam           Mithun Chakraborty\n",
       "Zokkomon                       Darsheel Safary\n",
       "Zor Lagaa Ke...Haiya!            Meghan Jadhav\n",
       "Name: lead, Length: 1500, dtype: object"
      ]
     },
     "execution_count": 89,
     "metadata": {},
     "output_type": "execute_result"
    }
   ],
   "source": [
    "movies"
   ]
  },
  {
   "cell_type": "code",
   "execution_count": 90,
   "id": "850bef8b-9bfe-4d45-b596-bfe702d7dffa",
   "metadata": {},
   "outputs": [
    {
     "data": {
      "text/plain": [
       "'Rajniesh Duggall'"
      ]
     },
     "execution_count": 90,
     "metadata": {},
     "output_type": "execute_result"
    }
   ],
   "source": [
    "movies[0]"
   ]
  },
  {
   "cell_type": "code",
   "execution_count": 92,
   "id": "4f27a260-3cc7-460d-937b-ac8cdba60822",
   "metadata": {},
   "outputs": [
    {
     "data": {
      "text/plain": [
       "'Meghan Jadhav'"
      ]
     },
     "execution_count": 92,
     "metadata": {},
     "output_type": "execute_result"
    }
   ],
   "source": [
    "movies[-1]"
   ]
  },
  {
   "cell_type": "code",
   "execution_count": 93,
   "id": "dfb0af9c-d7cc-4866-85a9-8e2bb1d6c517",
   "metadata": {},
   "outputs": [],
   "source": [
    "#slicing\n",
    "\n",
    "vk = vk.sort_index()"
   ]
  },
  {
   "cell_type": "code",
   "execution_count": 94,
   "id": "e5bb2d02-9a47-4391-af2e-91ba21cea93c",
   "metadata": {},
   "outputs": [
    {
     "data": {
      "text/plain": [
       "match_no\n",
       "1       1\n",
       "2      23\n",
       "3      13\n",
       "4      12\n",
       "5       1\n",
       "       ..\n",
       "211     0\n",
       "212    20\n",
       "213    73\n",
       "214    25\n",
       "215     7\n",
       "Name: runs, Length: 215, dtype: int64"
      ]
     },
     "execution_count": 94,
     "metadata": {},
     "output_type": "execute_result"
    }
   ],
   "source": [
    "vk"
   ]
  },
  {
   "cell_type": "code",
   "execution_count": 95,
   "id": "fae57194-f76f-452c-9c02-841f2020074b",
   "metadata": {},
   "outputs": [
    {
     "data": {
      "text/plain": [
       "match_no\n",
       "6      9\n",
       "7     34\n",
       "8      0\n",
       "9     21\n",
       "10     3\n",
       "11    10\n",
       "12    38\n",
       "13     3\n",
       "14    11\n",
       "15    50\n",
       "16     2\n",
       "Name: runs, dtype: int64"
      ]
     },
     "execution_count": 95,
     "metadata": {},
     "output_type": "execute_result"
    }
   ],
   "source": [
    "vk[5:16]"
   ]
  },
  {
   "cell_type": "code",
   "execution_count": 96,
   "id": "3479a814-b44e-44ff-b77b-bd9865d04515",
   "metadata": {},
   "outputs": [
    {
     "data": {
      "text/plain": [
       "match_no\n",
       "211     0\n",
       "212    20\n",
       "213    73\n",
       "214    25\n",
       "215     7\n",
       "Name: runs, dtype: int64"
      ]
     },
     "execution_count": 96,
     "metadata": {},
     "output_type": "execute_result"
    }
   ],
   "source": [
    "#negative slicing\n",
    "\n",
    "vk[-5:]"
   ]
  },
  {
   "cell_type": "code",
   "execution_count": 97,
   "id": "5c86ed94-9db0-4c55-817e-a1570722a59e",
   "metadata": {},
   "outputs": [
    {
     "data": {
      "text/plain": [
       "movie\n",
       "Zindagi 50-50                      Veena Malik\n",
       "Zindagi Na Milegi Dobara        Hrithik Roshan\n",
       "Zindagi Tere Naam           Mithun Chakraborty\n",
       "Zokkomon                       Darsheel Safary\n",
       "Zor Lagaa Ke...Haiya!            Meghan Jadhav\n",
       "Name: lead, dtype: object"
      ]
     },
     "execution_count": 97,
     "metadata": {},
     "output_type": "execute_result"
    }
   ],
   "source": [
    "movies[-5:]"
   ]
  },
  {
   "cell_type": "code",
   "execution_count": 98,
   "id": "10110b3e-ea37-42fe-bda2-c1809e7567ac",
   "metadata": {},
   "outputs": [
    {
     "data": {
      "text/plain": [
       "match_no\n",
       "1     1\n",
       "3    13\n",
       "4    12\n",
       "5     1\n",
       "Name: runs, dtype: int64"
      ]
     },
     "execution_count": 98,
     "metadata": {},
     "output_type": "execute_result"
    }
   ],
   "source": [
    "#fancy indexing\n",
    "\n",
    "vk[[1,3,4,5]]"
   ]
  },
  {
   "cell_type": "code",
   "execution_count": 99,
   "id": "374002c5-6dff-488b-8d6d-6a00266c52d6",
   "metadata": {},
   "outputs": [
    {
     "data": {
      "text/plain": [
       "'Hrithik Roshan'"
      ]
     },
     "execution_count": 99,
     "metadata": {},
     "output_type": "execute_result"
    }
   ],
   "source": [
    "#indexing with labels -->fancy indexing\n",
    "\n",
    "movies['Zindagi Na Milegi Dobara']"
   ]
  },
  {
   "cell_type": "code",
   "execution_count": 100,
   "id": "2c723b7e-565d-4e0d-8c92-c5ac6a32d3cd",
   "metadata": {},
   "outputs": [
    {
     "data": {
      "text/plain": [
       "'Veena Malik'"
      ]
     },
     "execution_count": 100,
     "metadata": {},
     "output_type": "execute_result"
    }
   ],
   "source": [
    "movies['Zindagi 50-50']"
   ]
  },
  {
   "cell_type": "markdown",
   "id": "ec673cc1-85aa-4fd3-9fa6-3c839ebbad66",
   "metadata": {},
   "source": [
    "# Editing Series"
   ]
  },
  {
   "cell_type": "code",
   "execution_count": 101,
   "id": "5fd0daf3-5bc1-41c0-a38b-b05d14309e1b",
   "metadata": {},
   "outputs": [
    {
     "data": {
      "text/plain": [
       "Maths        100\n",
       "Physics       99\n",
       "Chemistry     96\n",
       "Hindi         89\n",
       "Name: Ramdhan ke Marks, dtype: int64"
      ]
     },
     "execution_count": 101,
     "metadata": {},
     "output_type": "execute_result"
    }
   ],
   "source": [
    "# using indexing\n",
    "\n",
    "MARKS"
   ]
  },
  {
   "cell_type": "code",
   "execution_count": 103,
   "id": "621d7068-9a28-4859-93cc-b43b57708b87",
   "metadata": {},
   "outputs": [
    {
     "data": {
      "text/plain": [
       "89"
      ]
     },
     "execution_count": 103,
     "metadata": {},
     "output_type": "execute_result"
    }
   ],
   "source": [
    "MARKS['Hindi']"
   ]
  },
  {
   "cell_type": "code",
   "execution_count": 104,
   "id": "8ba7857d-b205-4369-95a2-4acdc27c4850",
   "metadata": {},
   "outputs": [],
   "source": [
    "MARKS['Hindi']=100"
   ]
  },
  {
   "cell_type": "code",
   "execution_count": 105,
   "id": "f58ab781-af30-4cef-a7b4-424c859d548a",
   "metadata": {},
   "outputs": [
    {
     "data": {
      "text/plain": [
       "100"
      ]
     },
     "execution_count": 105,
     "metadata": {},
     "output_type": "execute_result"
    }
   ],
   "source": [
    "MARKS['Hindi']"
   ]
  },
  {
   "cell_type": "code",
   "execution_count": 106,
   "id": "74fb5156-8b34-4b53-85dc-2d384f5f58d7",
   "metadata": {},
   "outputs": [],
   "source": [
    "#what if an index does not exist"
   ]
  },
  {
   "cell_type": "code",
   "execution_count": 107,
   "id": "ef7ba2a7-3c83-4728-a90e-89fa1079bbe8",
   "metadata": {},
   "outputs": [],
   "source": [
    "MARKS['s.s']=98"
   ]
  },
  {
   "cell_type": "code",
   "execution_count": 108,
   "id": "f8ebc45e-8b9b-4c4e-8b6d-dcbb94f29952",
   "metadata": {},
   "outputs": [
    {
     "data": {
      "text/plain": [
       "Maths        100\n",
       "Physics       99\n",
       "Chemistry     96\n",
       "Hindi        100\n",
       "s.s           98\n",
       "Name: Ramdhan ke Marks, dtype: int64"
      ]
     },
     "execution_count": 108,
     "metadata": {},
     "output_type": "execute_result"
    }
   ],
   "source": [
    "MARKS"
   ]
  },
  {
   "cell_type": "code",
   "execution_count": 109,
   "id": "d3b13a49-3c27-437b-aafc-4093a3c93df0",
   "metadata": {},
   "outputs": [],
   "source": [
    "#slicing \n",
    "\n",
    "s = pd.Series([1,2,3,4,5,6,7,8])"
   ]
  },
  {
   "cell_type": "code",
   "execution_count": 110,
   "id": "1bd25c41-b6f7-44dd-969e-2bdfbb164d12",
   "metadata": {},
   "outputs": [
    {
     "data": {
      "text/plain": [
       "0    1\n",
       "1    2\n",
       "2    3\n",
       "3    4\n",
       "4    5\n",
       "5    6\n",
       "6    7\n",
       "7    8\n",
       "dtype: int64"
      ]
     },
     "execution_count": 110,
     "metadata": {},
     "output_type": "execute_result"
    }
   ],
   "source": [
    "s"
   ]
  },
  {
   "cell_type": "code",
   "execution_count": 111,
   "id": "ab5a1a13-34ea-4584-a941-be666aa6f110",
   "metadata": {},
   "outputs": [],
   "source": [
    "s[2:4]=[100,100]"
   ]
  },
  {
   "cell_type": "code",
   "execution_count": 112,
   "id": "a6370cdd-d132-4e4e-b759-5af45ce31747",
   "metadata": {},
   "outputs": [
    {
     "data": {
      "text/plain": [
       "0      1\n",
       "1      2\n",
       "2    100\n",
       "3    100\n",
       "4      5\n",
       "5      6\n",
       "6      7\n",
       "7      8\n",
       "dtype: int64"
      ]
     },
     "execution_count": 112,
     "metadata": {},
     "output_type": "execute_result"
    }
   ],
   "source": [
    "s"
   ]
  },
  {
   "cell_type": "code",
   "execution_count": 113,
   "id": "d82e3a16-c1c2-4971-84ba-90612c4343f6",
   "metadata": {},
   "outputs": [],
   "source": [
    "#fancy indexing\n",
    "\n",
    "s[[0,5,6]]=[200,200,200]"
   ]
  },
  {
   "cell_type": "code",
   "execution_count": 114,
   "id": "81815e3e-1005-4e27-b78d-71ccc17dfdcd",
   "metadata": {},
   "outputs": [
    {
     "data": {
      "text/plain": [
       "0    200\n",
       "1      2\n",
       "2    100\n",
       "3    100\n",
       "4      5\n",
       "5    200\n",
       "6    200\n",
       "7      8\n",
       "dtype: int64"
      ]
     },
     "execution_count": 114,
     "metadata": {},
     "output_type": "execute_result"
    }
   ],
   "source": [
    "s"
   ]
  },
  {
   "cell_type": "code",
   "execution_count": 115,
   "id": "8d613bdf-89f3-4f7c-9dbd-9ae9a6ff1c14",
   "metadata": {},
   "outputs": [],
   "source": [
    "#using index label"
   ]
  },
  {
   "cell_type": "code",
   "execution_count": 116,
   "id": "d935f0c1-4d74-48e2-898f-9dabc786c1d7",
   "metadata": {},
   "outputs": [],
   "source": [
    "movies['Zindagi 50-50']='Alia Bhatt'"
   ]
  },
  {
   "cell_type": "code",
   "execution_count": 117,
   "id": "8b164d67-74d1-417a-be39-f992b86b4139",
   "metadata": {},
   "outputs": [
    {
     "data": {
      "text/plain": [
       "movie\n",
       "1920 (film)                   Rajniesh Duggall\n",
       "1920: London                     Sharman Joshi\n",
       "1920: The Evil Returns             Vicky Ahuja\n",
       "1971 (2007 film)                Manoj Bajpayee\n",
       "2 States (2014 film)              Arjun Kapoor\n",
       "                                   ...        \n",
       "Zindagi 50-50                       Alia Bhatt\n",
       "Zindagi Na Milegi Dobara        Hrithik Roshan\n",
       "Zindagi Tere Naam           Mithun Chakraborty\n",
       "Zokkomon                       Darsheel Safary\n",
       "Zor Lagaa Ke...Haiya!            Meghan Jadhav\n",
       "Name: lead, Length: 1500, dtype: object"
      ]
     },
     "execution_count": 117,
     "metadata": {},
     "output_type": "execute_result"
    }
   ],
   "source": [
    "movies"
   ]
  },
  {
   "cell_type": "markdown",
   "id": "8c657cdb-8e1c-4144-a546-f82d57c6ac87",
   "metadata": {},
   "source": [
    "# SERIES WITH PYTHON FUNCTIONALITIES"
   ]
  },
  {
   "cell_type": "code",
   "execution_count": 118,
   "id": "d8db7049-9772-463a-8dc6-cafbf42fe233",
   "metadata": {},
   "outputs": [],
   "source": [
    "# len,type,dir,sorted,max,min"
   ]
  },
  {
   "cell_type": "code",
   "execution_count": 119,
   "id": "7ef7ddb1-8b73-4376-acf1-b1710a533594",
   "metadata": {},
   "outputs": [
    {
     "data": {
      "text/plain": [
       "365"
      ]
     },
     "execution_count": 119,
     "metadata": {},
     "output_type": "execute_result"
    }
   ],
   "source": [
    "len(SUBS)"
   ]
  },
  {
   "cell_type": "code",
   "execution_count": 120,
   "id": "5c3df8b4-9bda-48d3-a3de-b2ebd60cfb77",
   "metadata": {},
   "outputs": [
    {
     "data": {
      "text/plain": [
       "pandas.core.series.Series"
      ]
     },
     "execution_count": 120,
     "metadata": {},
     "output_type": "execute_result"
    }
   ],
   "source": [
    "type(SUBS)"
   ]
  },
  {
   "cell_type": "code",
   "execution_count": 121,
   "id": "86ebab9a-6d35-4581-9ac4-a0a0298e4598",
   "metadata": {},
   "outputs": [
    {
     "data": {
      "text/plain": [
       "['T',\n",
       " '_AXIS_LEN',\n",
       " '_AXIS_ORDERS',\n",
       " '_AXIS_TO_AXIS_NUMBER',\n",
       " '_HANDLED_TYPES',\n",
       " '__abs__',\n",
       " '__add__',\n",
       " '__and__',\n",
       " '__annotations__',\n",
       " '__array__',\n",
       " '__array_priority__',\n",
       " '__array_ufunc__',\n",
       " '__bool__',\n",
       " '__class__',\n",
       " '__contains__',\n",
       " '__copy__',\n",
       " '__deepcopy__',\n",
       " '__delattr__',\n",
       " '__delitem__',\n",
       " '__dict__',\n",
       " '__dir__',\n",
       " '__divmod__',\n",
       " '__doc__',\n",
       " '__eq__',\n",
       " '__finalize__',\n",
       " '__float__',\n",
       " '__floordiv__',\n",
       " '__format__',\n",
       " '__ge__',\n",
       " '__getattr__',\n",
       " '__getattribute__',\n",
       " '__getitem__',\n",
       " '__getstate__',\n",
       " '__gt__',\n",
       " '__hash__',\n",
       " '__iadd__',\n",
       " '__iand__',\n",
       " '__ifloordiv__',\n",
       " '__imod__',\n",
       " '__imul__',\n",
       " '__init__',\n",
       " '__init_subclass__',\n",
       " '__int__',\n",
       " '__invert__',\n",
       " '__ior__',\n",
       " '__ipow__',\n",
       " '__isub__',\n",
       " '__iter__',\n",
       " '__itruediv__',\n",
       " '__ixor__',\n",
       " '__le__',\n",
       " '__len__',\n",
       " '__lt__',\n",
       " '__matmul__',\n",
       " '__mod__',\n",
       " '__module__',\n",
       " '__mul__',\n",
       " '__ne__',\n",
       " '__neg__',\n",
       " '__new__',\n",
       " '__nonzero__',\n",
       " '__or__',\n",
       " '__pos__',\n",
       " '__pow__',\n",
       " '__radd__',\n",
       " '__rand__',\n",
       " '__rdivmod__',\n",
       " '__reduce__',\n",
       " '__reduce_ex__',\n",
       " '__repr__',\n",
       " '__rfloordiv__',\n",
       " '__rmatmul__',\n",
       " '__rmod__',\n",
       " '__rmul__',\n",
       " '__ror__',\n",
       " '__round__',\n",
       " '__rpow__',\n",
       " '__rsub__',\n",
       " '__rtruediv__',\n",
       " '__rxor__',\n",
       " '__setattr__',\n",
       " '__setitem__',\n",
       " '__setstate__',\n",
       " '__sizeof__',\n",
       " '__str__',\n",
       " '__sub__',\n",
       " '__subclasshook__',\n",
       " '__truediv__',\n",
       " '__weakref__',\n",
       " '__xor__',\n",
       " '_accessors',\n",
       " '_accum_func',\n",
       " '_add_numeric_operations',\n",
       " '_agg_examples_doc',\n",
       " '_agg_see_also_doc',\n",
       " '_align_frame',\n",
       " '_align_series',\n",
       " '_append',\n",
       " '_arith_method',\n",
       " '_as_manager',\n",
       " '_attrs',\n",
       " '_binop',\n",
       " '_cacher',\n",
       " '_can_hold_na',\n",
       " '_check_inplace_and_allows_duplicate_labels',\n",
       " '_check_inplace_setting',\n",
       " '_check_is_chained_assignment_possible',\n",
       " '_check_label_or_level_ambiguity',\n",
       " '_check_setitem_copy',\n",
       " '_clear_item_cache',\n",
       " '_clip_with_one_bound',\n",
       " '_clip_with_scalar',\n",
       " '_cmp_method',\n",
       " '_consolidate',\n",
       " '_consolidate_inplace',\n",
       " '_construct_axes_dict',\n",
       " '_construct_result',\n",
       " '_constructor',\n",
       " '_constructor_expanddim',\n",
       " '_convert_dtypes',\n",
       " '_data',\n",
       " '_dir_additions',\n",
       " '_dir_deletions',\n",
       " '_drop_axis',\n",
       " '_drop_labels_or_levels',\n",
       " '_duplicated',\n",
       " '_find_valid_index',\n",
       " '_flags',\n",
       " '_get_axis',\n",
       " '_get_axis_name',\n",
       " '_get_axis_number',\n",
       " '_get_axis_resolvers',\n",
       " '_get_block_manager_axis',\n",
       " '_get_bool_data',\n",
       " '_get_cacher',\n",
       " '_get_cleaned_column_resolvers',\n",
       " '_get_index_resolvers',\n",
       " '_get_label_or_level_values',\n",
       " '_get_numeric_data',\n",
       " '_get_value',\n",
       " '_get_values',\n",
       " '_get_values_tuple',\n",
       " '_get_with',\n",
       " '_gotitem',\n",
       " '_hidden_attrs',\n",
       " '_indexed_same',\n",
       " '_info_axis',\n",
       " '_info_axis_name',\n",
       " '_info_axis_number',\n",
       " '_init_dict',\n",
       " '_init_mgr',\n",
       " '_inplace_method',\n",
       " '_internal_names',\n",
       " '_internal_names_set',\n",
       " '_is_cached',\n",
       " '_is_copy',\n",
       " '_is_label_or_level_reference',\n",
       " '_is_label_reference',\n",
       " '_is_level_reference',\n",
       " '_is_mixed_type',\n",
       " '_is_view',\n",
       " '_item_cache',\n",
       " '_ixs',\n",
       " '_logical_func',\n",
       " '_logical_method',\n",
       " '_map_values',\n",
       " '_maybe_update_cacher',\n",
       " '_memory_usage',\n",
       " '_metadata',\n",
       " '_mgr',\n",
       " '_min_count_stat_function',\n",
       " '_name',\n",
       " '_needs_reindex_multi',\n",
       " '_protect_consolidate',\n",
       " '_reduce',\n",
       " '_references',\n",
       " '_reindex_axes',\n",
       " '_reindex_indexer',\n",
       " '_reindex_multi',\n",
       " '_reindex_with_indexers',\n",
       " '_rename',\n",
       " '_replace_single',\n",
       " '_repr_data_resource_',\n",
       " '_repr_latex_',\n",
       " '_reset_cache',\n",
       " '_reset_cacher',\n",
       " '_set_as_cached',\n",
       " '_set_axis',\n",
       " '_set_axis_name',\n",
       " '_set_axis_nocheck',\n",
       " '_set_is_copy',\n",
       " '_set_labels',\n",
       " '_set_name',\n",
       " '_set_value',\n",
       " '_set_values',\n",
       " '_set_with',\n",
       " '_set_with_engine',\n",
       " '_slice',\n",
       " '_stat_axis',\n",
       " '_stat_axis_name',\n",
       " '_stat_axis_number',\n",
       " '_stat_function',\n",
       " '_stat_function_ddof',\n",
       " '_take',\n",
       " '_take_with_is_copy',\n",
       " '_to_latex_via_styler',\n",
       " '_typ',\n",
       " '_update_inplace',\n",
       " '_validate_dtype',\n",
       " '_values',\n",
       " '_where',\n",
       " 'abs',\n",
       " 'add',\n",
       " 'add_prefix',\n",
       " 'add_suffix',\n",
       " 'agg',\n",
       " 'aggregate',\n",
       " 'align',\n",
       " 'all',\n",
       " 'any',\n",
       " 'apply',\n",
       " 'argmax',\n",
       " 'argmin',\n",
       " 'argsort',\n",
       " 'array',\n",
       " 'asfreq',\n",
       " 'asof',\n",
       " 'astype',\n",
       " 'at',\n",
       " 'at_time',\n",
       " 'attrs',\n",
       " 'autocorr',\n",
       " 'axes',\n",
       " 'backfill',\n",
       " 'between',\n",
       " 'between_time',\n",
       " 'bfill',\n",
       " 'bool',\n",
       " 'clip',\n",
       " 'combine',\n",
       " 'combine_first',\n",
       " 'compare',\n",
       " 'convert_dtypes',\n",
       " 'copy',\n",
       " 'corr',\n",
       " 'count',\n",
       " 'cov',\n",
       " 'cummax',\n",
       " 'cummin',\n",
       " 'cumprod',\n",
       " 'cumsum',\n",
       " 'describe',\n",
       " 'diff',\n",
       " 'div',\n",
       " 'divide',\n",
       " 'divmod',\n",
       " 'dot',\n",
       " 'drop',\n",
       " 'drop_duplicates',\n",
       " 'droplevel',\n",
       " 'dropna',\n",
       " 'dtype',\n",
       " 'dtypes',\n",
       " 'duplicated',\n",
       " 'empty',\n",
       " 'eq',\n",
       " 'equals',\n",
       " 'ewm',\n",
       " 'expanding',\n",
       " 'explode',\n",
       " 'factorize',\n",
       " 'ffill',\n",
       " 'fillna',\n",
       " 'filter',\n",
       " 'first',\n",
       " 'first_valid_index',\n",
       " 'flags',\n",
       " 'floordiv',\n",
       " 'ge',\n",
       " 'get',\n",
       " 'groupby',\n",
       " 'gt',\n",
       " 'hasnans',\n",
       " 'head',\n",
       " 'hist',\n",
       " 'iat',\n",
       " 'idxmax',\n",
       " 'idxmin',\n",
       " 'iloc',\n",
       " 'index',\n",
       " 'infer_objects',\n",
       " 'info',\n",
       " 'interpolate',\n",
       " 'is_monotonic_decreasing',\n",
       " 'is_monotonic_increasing',\n",
       " 'is_unique',\n",
       " 'isin',\n",
       " 'isna',\n",
       " 'isnull',\n",
       " 'item',\n",
       " 'items',\n",
       " 'keys',\n",
       " 'kurt',\n",
       " 'kurtosis',\n",
       " 'last',\n",
       " 'last_valid_index',\n",
       " 'le',\n",
       " 'loc',\n",
       " 'lt',\n",
       " 'map',\n",
       " 'mask',\n",
       " 'max',\n",
       " 'mean',\n",
       " 'median',\n",
       " 'memory_usage',\n",
       " 'min',\n",
       " 'mod',\n",
       " 'mode',\n",
       " 'mul',\n",
       " 'multiply',\n",
       " 'name',\n",
       " 'nbytes',\n",
       " 'ndim',\n",
       " 'ne',\n",
       " 'nlargest',\n",
       " 'notna',\n",
       " 'notnull',\n",
       " 'nsmallest',\n",
       " 'nunique',\n",
       " 'pad',\n",
       " 'pct_change',\n",
       " 'pipe',\n",
       " 'plot',\n",
       " 'pop',\n",
       " 'pow',\n",
       " 'prod',\n",
       " 'product',\n",
       " 'quantile',\n",
       " 'radd',\n",
       " 'rank',\n",
       " 'ravel',\n",
       " 'rdiv',\n",
       " 'rdivmod',\n",
       " 'reindex',\n",
       " 'reindex_like',\n",
       " 'rename',\n",
       " 'rename_axis',\n",
       " 'reorder_levels',\n",
       " 'repeat',\n",
       " 'replace',\n",
       " 'resample',\n",
       " 'reset_index',\n",
       " 'rfloordiv',\n",
       " 'rmod',\n",
       " 'rmul',\n",
       " 'rolling',\n",
       " 'round',\n",
       " 'rpow',\n",
       " 'rsub',\n",
       " 'rtruediv',\n",
       " 'sample',\n",
       " 'searchsorted',\n",
       " 'sem',\n",
       " 'set_axis',\n",
       " 'set_flags',\n",
       " 'shape',\n",
       " 'shift',\n",
       " 'size',\n",
       " 'skew',\n",
       " 'sort_index',\n",
       " 'sort_values',\n",
       " 'squeeze',\n",
       " 'std',\n",
       " 'sub',\n",
       " 'subtract',\n",
       " 'sum',\n",
       " 'swapaxes',\n",
       " 'swaplevel',\n",
       " 'tail',\n",
       " 'take',\n",
       " 'to_clipboard',\n",
       " 'to_csv',\n",
       " 'to_dict',\n",
       " 'to_excel',\n",
       " 'to_frame',\n",
       " 'to_hdf',\n",
       " 'to_json',\n",
       " 'to_latex',\n",
       " 'to_list',\n",
       " 'to_markdown',\n",
       " 'to_numpy',\n",
       " 'to_period',\n",
       " 'to_pickle',\n",
       " 'to_sql',\n",
       " 'to_string',\n",
       " 'to_timestamp',\n",
       " 'to_xarray',\n",
       " 'transform',\n",
       " 'transpose',\n",
       " 'truediv',\n",
       " 'truncate',\n",
       " 'tz_convert',\n",
       " 'tz_localize',\n",
       " 'unique',\n",
       " 'unstack',\n",
       " 'update',\n",
       " 'value_counts',\n",
       " 'values',\n",
       " 'var',\n",
       " 'view',\n",
       " 'where',\n",
       " 'xs']"
      ]
     },
     "execution_count": 121,
     "metadata": {},
     "output_type": "execute_result"
    }
   ],
   "source": [
    "dir(SUBS)"
   ]
  },
  {
   "cell_type": "code",
   "execution_count": 122,
   "id": "35cf1b66-b4dc-4889-b56b-316d44731782",
   "metadata": {},
   "outputs": [
    {
     "data": {
      "text/plain": [
       "[33,\n",
       " 33,\n",
       " 35,\n",
       " 37,\n",
       " 39,\n",
       " 40,\n",
       " 40,\n",
       " 40,\n",
       " 40,\n",
       " 42,\n",
       " 42,\n",
       " 43,\n",
       " 44,\n",
       " 44,\n",
       " 44,\n",
       " 45,\n",
       " 46,\n",
       " 46,\n",
       " 48,\n",
       " 49,\n",
       " 49,\n",
       " 49,\n",
       " 49,\n",
       " 50,\n",
       " 50,\n",
       " 50,\n",
       " 51,\n",
       " 54,\n",
       " 56,\n",
       " 56,\n",
       " 56,\n",
       " 56,\n",
       " 57,\n",
       " 61,\n",
       " 62,\n",
       " 64,\n",
       " 65,\n",
       " 65,\n",
       " 66,\n",
       " 66,\n",
       " 66,\n",
       " 66,\n",
       " 67,\n",
       " 68,\n",
       " 70,\n",
       " 70,\n",
       " 70,\n",
       " 71,\n",
       " 71,\n",
       " 72,\n",
       " 72,\n",
       " 72,\n",
       " 72,\n",
       " 72,\n",
       " 73,\n",
       " 74,\n",
       " 74,\n",
       " 75,\n",
       " 76,\n",
       " 76,\n",
       " 76,\n",
       " 76,\n",
       " 77,\n",
       " 77,\n",
       " 78,\n",
       " 78,\n",
       " 78,\n",
       " 79,\n",
       " 79,\n",
       " 80,\n",
       " 80,\n",
       " 80,\n",
       " 81,\n",
       " 81,\n",
       " 82,\n",
       " 82,\n",
       " 83,\n",
       " 83,\n",
       " 83,\n",
       " 84,\n",
       " 84,\n",
       " 84,\n",
       " 85,\n",
       " 86,\n",
       " 86,\n",
       " 86,\n",
       " 87,\n",
       " 87,\n",
       " 87,\n",
       " 87,\n",
       " 88,\n",
       " 88,\n",
       " 88,\n",
       " 88,\n",
       " 88,\n",
       " 89,\n",
       " 89,\n",
       " 89,\n",
       " 90,\n",
       " 90,\n",
       " 90,\n",
       " 90,\n",
       " 91,\n",
       " 92,\n",
       " 92,\n",
       " 92,\n",
       " 93,\n",
       " 93,\n",
       " 93,\n",
       " 93,\n",
       " 95,\n",
       " 95,\n",
       " 96,\n",
       " 96,\n",
       " 96,\n",
       " 96,\n",
       " 97,\n",
       " 97,\n",
       " 98,\n",
       " 98,\n",
       " 99,\n",
       " 99,\n",
       " 100,\n",
       " 100,\n",
       " 100,\n",
       " 101,\n",
       " 101,\n",
       " 101,\n",
       " 102,\n",
       " 102,\n",
       " 103,\n",
       " 103,\n",
       " 104,\n",
       " 104,\n",
       " 104,\n",
       " 105,\n",
       " 105,\n",
       " 105,\n",
       " 105,\n",
       " 105,\n",
       " 105,\n",
       " 105,\n",
       " 105,\n",
       " 105,\n",
       " 108,\n",
       " 108,\n",
       " 108,\n",
       " 108,\n",
       " 108,\n",
       " 108,\n",
       " 109,\n",
       " 109,\n",
       " 110,\n",
       " 110,\n",
       " 110,\n",
       " 111,\n",
       " 111,\n",
       " 112,\n",
       " 113,\n",
       " 113,\n",
       " 113,\n",
       " 114,\n",
       " 114,\n",
       " 114,\n",
       " 114,\n",
       " 115,\n",
       " 115,\n",
       " 115,\n",
       " 115,\n",
       " 117,\n",
       " 117,\n",
       " 117,\n",
       " 118,\n",
       " 118,\n",
       " 119,\n",
       " 119,\n",
       " 119,\n",
       " 119,\n",
       " 120,\n",
       " 122,\n",
       " 123,\n",
       " 123,\n",
       " 123,\n",
       " 123,\n",
       " 123,\n",
       " 124,\n",
       " 125,\n",
       " 126,\n",
       " 127,\n",
       " 128,\n",
       " 128,\n",
       " 129,\n",
       " 130,\n",
       " 131,\n",
       " 131,\n",
       " 132,\n",
       " 132,\n",
       " 134,\n",
       " 134,\n",
       " 134,\n",
       " 135,\n",
       " 135,\n",
       " 136,\n",
       " 136,\n",
       " 136,\n",
       " 137,\n",
       " 138,\n",
       " 138,\n",
       " 138,\n",
       " 139,\n",
       " 140,\n",
       " 144,\n",
       " 145,\n",
       " 146,\n",
       " 146,\n",
       " 146,\n",
       " 146,\n",
       " 147,\n",
       " 149,\n",
       " 150,\n",
       " 150,\n",
       " 150,\n",
       " 150,\n",
       " 151,\n",
       " 152,\n",
       " 152,\n",
       " 152,\n",
       " 153,\n",
       " 153,\n",
       " 153,\n",
       " 154,\n",
       " 154,\n",
       " 154,\n",
       " 155,\n",
       " 155,\n",
       " 156,\n",
       " 156,\n",
       " 156,\n",
       " 156,\n",
       " 157,\n",
       " 157,\n",
       " 157,\n",
       " 157,\n",
       " 158,\n",
       " 158,\n",
       " 159,\n",
       " 159,\n",
       " 160,\n",
       " 160,\n",
       " 160,\n",
       " 160,\n",
       " 162,\n",
       " 164,\n",
       " 166,\n",
       " 167,\n",
       " 167,\n",
       " 168,\n",
       " 170,\n",
       " 170,\n",
       " 170,\n",
       " 170,\n",
       " 171,\n",
       " 172,\n",
       " 172,\n",
       " 173,\n",
       " 173,\n",
       " 173,\n",
       " 174,\n",
       " 174,\n",
       " 175,\n",
       " 175,\n",
       " 176,\n",
       " 176,\n",
       " 177,\n",
       " 178,\n",
       " 179,\n",
       " 179,\n",
       " 180,\n",
       " 180,\n",
       " 180,\n",
       " 182,\n",
       " 183,\n",
       " 183,\n",
       " 183,\n",
       " 184,\n",
       " 184,\n",
       " 184,\n",
       " 185,\n",
       " 185,\n",
       " 185,\n",
       " 185,\n",
       " 186,\n",
       " 186,\n",
       " 186,\n",
       " 188,\n",
       " 189,\n",
       " 190,\n",
       " 190,\n",
       " 192,\n",
       " 192,\n",
       " 192,\n",
       " 196,\n",
       " 196,\n",
       " 196,\n",
       " 197,\n",
       " 197,\n",
       " 202,\n",
       " 202,\n",
       " 202,\n",
       " 203,\n",
       " 204,\n",
       " 206,\n",
       " 207,\n",
       " 209,\n",
       " 210,\n",
       " 210,\n",
       " 211,\n",
       " 212,\n",
       " 213,\n",
       " 214,\n",
       " 216,\n",
       " 219,\n",
       " 220,\n",
       " 221,\n",
       " 221,\n",
       " 222,\n",
       " 222,\n",
       " 224,\n",
       " 225,\n",
       " 225,\n",
       " 226,\n",
       " 227,\n",
       " 228,\n",
       " 229,\n",
       " 230,\n",
       " 231,\n",
       " 233,\n",
       " 236,\n",
       " 236,\n",
       " 237,\n",
       " 241,\n",
       " 243,\n",
       " 244,\n",
       " 245,\n",
       " 247,\n",
       " 249,\n",
       " 254,\n",
       " 254,\n",
       " 258,\n",
       " 259,\n",
       " 259,\n",
       " 261,\n",
       " 261,\n",
       " 265,\n",
       " 267,\n",
       " 268,\n",
       " 269,\n",
       " 276,\n",
       " 276,\n",
       " 290,\n",
       " 295,\n",
       " 301,\n",
       " 306,\n",
       " 312,\n",
       " 396]"
      ]
     },
     "execution_count": 122,
     "metadata": {},
     "output_type": "execute_result"
    }
   ],
   "source": [
    "sorted(SUBS)"
   ]
  },
  {
   "cell_type": "code",
   "execution_count": 123,
   "id": "ad1d006f-363a-4b80-a524-5d2be2a8df5d",
   "metadata": {},
   "outputs": [
    {
     "data": {
      "text/plain": [
       "396"
      ]
     },
     "execution_count": 123,
     "metadata": {},
     "output_type": "execute_result"
    }
   ],
   "source": [
    "max(SUBS)"
   ]
  },
  {
   "cell_type": "code",
   "execution_count": 124,
   "id": "ac7a8969-24ba-4631-a9a3-59baa1c4ab8b",
   "metadata": {},
   "outputs": [
    {
     "data": {
      "text/plain": [
       "33"
      ]
     },
     "execution_count": 124,
     "metadata": {},
     "output_type": "execute_result"
    }
   ],
   "source": [
    "min(SUBS)"
   ]
  },
  {
   "cell_type": "code",
   "execution_count": 125,
   "id": "34a9af9a-8a52-47f6-ba4b-72f3906e3655",
   "metadata": {},
   "outputs": [
    {
     "data": {
      "text/plain": [
       "Maths        100\n",
       "Physics       99\n",
       "Chemistry     96\n",
       "Hindi        100\n",
       "s.s           98\n",
       "Name: Ramdhan ke Marks, dtype: int64"
      ]
     },
     "execution_count": 125,
     "metadata": {},
     "output_type": "execute_result"
    }
   ],
   "source": [
    "#type conversion\n",
    "\n",
    "MARKS "
   ]
  },
  {
   "cell_type": "code",
   "execution_count": 126,
   "id": "768686a7-a69f-43e7-a4ef-607dff24c75b",
   "metadata": {},
   "outputs": [
    {
     "data": {
      "text/plain": [
       "[100, 99, 96, 100, 98]"
      ]
     },
     "execution_count": 126,
     "metadata": {},
     "output_type": "execute_result"
    }
   ],
   "source": [
    "list(MARKS)"
   ]
  },
  {
   "cell_type": "code",
   "execution_count": 127,
   "id": "5e63b66b-6381-4f4d-ae47-d379d2f5018d",
   "metadata": {},
   "outputs": [
    {
     "data": {
      "text/plain": [
       "{'Maths': 100, 'Physics': 99, 'Chemistry': 96, 'Hindi': 100, 's.s': 98}"
      ]
     },
     "execution_count": 127,
     "metadata": {},
     "output_type": "execute_result"
    }
   ],
   "source": [
    "dict(MARKS)"
   ]
  },
  {
   "cell_type": "code",
   "execution_count": 128,
   "id": "84288357-7245-4a68-abdf-4436056ae3f1",
   "metadata": {},
   "outputs": [],
   "source": [
    "#membership operator"
   ]
  },
  {
   "cell_type": "code",
   "execution_count": 129,
   "id": "0e875f48-3388-400d-a2e0-1f79e8b405ac",
   "metadata": {},
   "outputs": [
    {
     "data": {
      "text/plain": [
       "True"
      ]
     },
     "execution_count": 129,
     "metadata": {},
     "output_type": "execute_result"
    }
   ],
   "source": [
    "'1920: The Evil Returns' in movies"
   ]
  },
  {
   "cell_type": "code",
   "execution_count": 130,
   "id": "ed6fcb27-e296-417f-bf31-b74aba025c67",
   "metadata": {},
   "outputs": [
    {
     "data": {
      "text/plain": [
       "False"
      ]
     },
     "execution_count": 130,
     "metadata": {},
     "output_type": "execute_result"
    }
   ],
   "source": [
    "'Alia Bhatt' in movies"
   ]
  },
  {
   "cell_type": "code",
   "execution_count": 131,
   "id": "70633309-81d4-4d1c-b203-3a0ebba122b5",
   "metadata": {},
   "outputs": [
    {
     "data": {
      "text/plain": [
       "True"
      ]
     },
     "execution_count": 131,
     "metadata": {},
     "output_type": "execute_result"
    }
   ],
   "source": [
    "#but \n",
    "\n",
    "'Alia Bhatt' in movies.values"
   ]
  },
  {
   "cell_type": "code",
   "execution_count": 132,
   "id": "a46569ab-7c03-4749-90b9-5b5530333dc7",
   "metadata": {},
   "outputs": [
    {
     "name": "stdout",
     "output_type": "stream",
     "text": [
      "Rajniesh Duggall\n",
      "Sharman Joshi\n",
      "Vicky Ahuja\n",
      "Manoj Bajpayee\n",
      "Arjun Kapoor\n",
      "Barun Sobti\n",
      "Salil Acharya\n",
      "Naseeruddin Shah\n",
      "Aamir Khan\n",
      "Aisha Ahmed\n",
      "Soha Ali Khan\n",
      "Akshaye Khanna\n",
      "Neil Nitin Mukesh\n",
      "Sara Arjun\n",
      "Nargis Fakhri\n",
      "Mouli Ganguly\n",
      "Vipin Sharma\n",
      "Priyanka Chopra\n",
      "Juhi Chawla\n",
      "Atul Kulkarni\n",
      "Kunal Khemu\n",
      "Shawar Ali\n",
      "Kiran Bhatia\n",
      "Shabana Azmi\n",
      "Jimmy Sheirgill\n",
      "Tiger Shroff\n",
      "Sidharth Malhotra\n",
      "Prabhu Deva\n",
      "Neil Nitin Mukesh\n",
      "Govinda\n",
      "Naveen Bawa\n",
      "Amitabh Bachchan\n",
      "Shreyas Talpade\n",
      "Sudesh Berry\n",
      "Madhuri Dixit\n",
      "Paul Sidhu\n",
      "Ajay Devgn\n",
      "Omkar Das Manikpuri\n",
      "Shatrughan Sinha\n",
      "Arun Bakshi\n",
      "Amitabh Bachchan\n",
      "Himesh Reshammiya\n",
      "Akshaye Khanna\n",
      "Priyanshu Chatterjee\n",
      "Amitabh Bachchan\n",
      "John Abraham\n",
      "Emraan Hashmi\n",
      "Aditya Roy Kapoor\n",
      "Ishaan Manhaas\n",
      "Hrishitaa Bhatt\n",
      "Sachiin Joshi\n",
      "Nana Patekar\n",
      "Amitabh Bachchan\n",
      "Farooq Shaikh\n",
      "Fardeen Khan\n",
      "Prabhas\n",
      "Akshay Kumar\n",
      "Rahul Dev\n",
      "Ranbir Kapoor\n",
      "Amitabh Bachchan\n",
      "Kareena Kapoor\n",
      "Tusshar Kapoor\n",
      "Hrithik Roshan\n",
      "Jimmy Sheirgill\n",
      "Abhay Deol\n",
      "Akshay Kumar\n",
      "Rati Agnihotri\n",
      "Yashpal Sharma\n",
      "Akshay Kumar\n",
      "Sidharth Malhotra\n",
      "Rani Mukerji\n",
      "Jackky Bhagnani\n",
      "Ranbir Kapoor\n",
      "Sushama Deshpande\n",
      "Kartik Aaryan\n",
      "Emraan Hashmi\n",
      "Zareen Khan\n",
      "Amitabh Bachchan\n",
      "Akshay Kapoor\n",
      "Manav Kaul\n",
      "Sukhesh Arora\n",
      "Rishi Kapoor\n",
      "Sanjay Dutt\n",
      "Varun Bhagwat\n",
      "Bipasha Basu\n",
      "Aftab Shivdasani\n",
      "Lillete Dubey\n",
      "Ali Asgar\n",
      "Vir Das\n",
      "Pankaj Tripathi\n",
      "Dino Morea\n",
      "Akshay Kumar\n",
      "Akshay Kumar\n",
      "Ayushmann Khurrana\n",
      "Sumit Arora\n",
      "Priyanka Chopra\n",
      "Manisha Koirala\n",
      "Aftab Shivdasani\n",
      "Sanjay Mishra\n",
      "Kay Kay Menon\n",
      "Shashank Udapurkar\n",
      "Raj Singh Chaudhary\n",
      "Sanjay Dutt\n",
      "Sachin Khedekar\n",
      "Nauheed Cyrusi\n",
      "Ajay Devgn\n",
      "Rohit Roy\n",
      "Irrfan Khan\n",
      "Bobby Darling\n",
      "Dharmendra\n",
      "Diljit Dosanjh\n",
      "Yudhveer Bakoliya\n",
      "Amitabh Bachchan\n",
      "Ayushmann Khurrana\n",
      "Sohail Khan\n",
      "Arjun Rampal\n",
      "Asrani\n",
      "Krishna Abhishek\n",
      "Arjun Kapoor\n",
      "Prakash Belawadi\n",
      "Akshay Kumar\n",
      "Emraan Hashmi\n",
      "Emraan Hashmi\n",
      "Shadab Kamal\n",
      "Mithun Chakraborty\n",
      "Amitabh Bachchan\n",
      "Shraddha Kapoor\n",
      "Tiger Shroff\n",
      "Sidharth Malhotra\n",
      "Anisa Butt\n",
      "Jackie Shroff\n",
      "Radhika Apte\n",
      "Sahil Anand\n",
      "Sudha Chandran\n",
      "Nawazuddin Siddiqui\n",
      "Akshay Kumar\n",
      "Manoj Babani\n",
      "Rekha\n",
      "Ranbir Kapoor\n",
      "Ayushmann Khurrana\n",
      "Amitabh Bachchan\n",
      "Varun Dhawan\n",
      "Annu Kapoor\n",
      "Sidhant Gupta\n",
      "Varun Dhawan\n",
      "Amitabh Bachchan\n",
      "Tusshar Kapoor\n",
      "Ranveer Singh\n",
      "Salman Khan\n",
      "Ayushmann Khurrana\n",
      "Asrani\n",
      "Urmila Matondkar\n",
      "Ranveer Singh\n",
      "Manisha Kelkar\n",
      "Hrithik Roshan\n",
      "Jacqueline Fernandez\n",
      "Riteish Deshmukh\n",
      "Riteish Deshmukh\n",
      "Naseeruddin Shah\n",
      "Bobby Deol\n",
      "Ayushmann Khurrana\n",
      "Ranbir Kapoor\n",
      "Sara Loren\n",
      "Bobby Deol\n",
      "Juhi Chawla\n",
      "Sadashiv Amrapurkar\n",
      "John Abraham\n",
      "Vicky Ahuja\n",
      "Shahid Kapoor\n",
      "Reshmi Ghosh\n",
      "Amitabh Bachchan\n",
      "Vaani Kapoor\n",
      "Amitabh Bachchan\n",
      "Rajkummar Rao\n",
      "Sunny Leone\n",
      "Naseeruddin Shah\n",
      "Anil Kapoor\n",
      "Ayushmann Khurrana\n",
      "Ishaan Khattar\n",
      "Mugdha Godse\n",
      "Kunal Khemu\n",
      "Farhan Akhtar\n",
      "Akshay Kumar\n",
      "Tabu\n",
      "Sunny Deol\n",
      "Shaurya Singh\n",
      "Harshvardhan Kapoor\n",
      "Vinay Pathak\n",
      "Vinay Pathak\n",
      "Ali Asgar\n",
      "Akshay Kumar\n",
      "Sunny Leone\n",
      "Ajay Devgn\n",
      "J.D. Chakravarthi\n",
      "Jackie Shroff\n",
      "Amitabh Bachchan\n",
      "Amitabh Bachchan\n",
      "Mischa Barton\n",
      "Dino Morea\n",
      "Sunny Deol\n",
      "Irrfan Khan\n",
      "Naushaad Abbas\n",
      "Danny Denzongpa\n",
      "Pulkit Samrat\n",
      "Amitabh Bachchan\n",
      "Kay Kay Menon\n",
      "Ajay Devgn\n",
      "Jazzy Doe\n",
      "Manish Chaudhary\n",
      "Akash\n",
      "Akshay Kumar\n",
      "Abhishek Bachchan\n",
      "Vidya Balan\n",
      "Salman Khan\n",
      "Amitabh Bachchan\n",
      "Raima Sen\n",
      "Radhika Apte\n",
      "Rani Mukerji\n",
      "Ranbir Kapoor\n",
      "Shreyas Talpade\n",
      "Sunil Pal\n",
      "Amitabh Bachchan\n",
      "Sanjay Dutt\n",
      "Akshay Kumar\n",
      "Shashank Arora\n",
      "Deepika Padukone\n",
      "Vinay Virmani\n",
      "Arjun Mathur\n",
      "Akshay Kumar\n",
      "Apoorva Arora\n",
      "Mona Ambegaonkar\n",
      "Aanchal Dwivedi\n",
      "Saayli Buva\n",
      "Saif Ali Khan\n",
      "Kavin Dave\n",
      "Atul Kulkarni\n",
      "Seema Azmi\n",
      "Abhishek Bachchan\n",
      "Neil Nitin Mukesh\n",
      "Tusshar Kapoor\n",
      "Hemant Gopal\n",
      "Anil Kapoor\n",
      "Akanksha Puri\n",
      "Ajay Devgn\n",
      "Aryan Vaid\n",
      "Naseeruddin Shah\n",
      "Tusshar Kapoor\n",
      "Soha Ali Khan\n",
      "Shah Rukh Khan\n",
      "Arjun Rampal\n",
      "Asrani\n",
      "Sagar Bhangade\n",
      "Richa Chadha\n",
      "Vickrant Mahajan\n",
      "Vinay Pathak\n",
      "Shah Rukh Khan\n",
      "Kareena Kapoor\n",
      "Bobby Deol\n",
      "Shahid Kapoor\n",
      "Somesh Agarwal\n",
      "Samir Aftab\n",
      "Mithun Chakraborty\n",
      "Jimmy Sheirgill\n",
      "Dev Anand\n",
      "Anuj Saxena\n",
      "Ali Zafar\n",
      "Sanjay Dutt\n",
      "Amitabh Bachchan\n",
      "Saif Ali Khan\n",
      "Bipasha Basu\n",
      "Deepika Padukone\n",
      "Jatin Grewal\n",
      "Jimmy Sheirgill\n",
      "Rupa Bhimani\n",
      "Natalia Janoszek\n",
      "Mohammad Amir Naji\n",
      "Farooq Shaikh\n",
      "Aarav Khanna\n",
      "Parveen Kaur\n",
      "Sushmita Sen\n",
      "Rishi Kapoor\n",
      "Manoj Bajpayee\n",
      "Anil Kapoor\n",
      "Deepak Dobriyal\n",
      "Ajay Devgn\n",
      "Kareena Kapoor\n",
      "Zayed Khan\n",
      "Ashok Banthia\n",
      "Sachin Khedekar\n",
      "Rajkummar Rao\n",
      "Mithun Chakraborty\n",
      "Shreyas Talpade\n",
      "Saif Ali Khan\n",
      "Arjun Mathur\n",
      "Sunil Grover\n",
      "Vidyut Jammwal\n",
      "Vidyut Jammwal\n",
      "Ajay Devgn\n",
      "Adhvik Mahajan\n",
      "Bipasha Basu\n",
      "Vira Sathidar\n",
      "Swanand Kirkire\n",
      "Bipasha Basu\n",
      "Emraan Hashmi\n",
      "Randeep Hooda\n",
      "Rishi Kapoor\n",
      "Yogesh Raj Mishra\n",
      "Aditya Roy Kapoor\n",
      "Salman Khan\n",
      "Salman Khan\n",
      "Salman Khan\n",
      "Arjun Rampal\n",
      "Sunil Shetty\n",
      "Himesh Reshammiya\n",
      "Aamir Khan\n",
      "Karisma Kapoor\n",
      "Fardeen Khan\n",
      "Sameera Reddy\n",
      "Amitabh Bachchan\n",
      "Jimmy Sheirgill\n",
      "Ishrat Ali\n",
      "Neil Nitin Mukesh\n",
      "Vinay Pathak\n",
      "Yash Soni\n",
      "Akshay Kumar\n",
      "Ajay Devgn\n",
      "Aftab Shivdasani\n",
      "Rajit Kapoor\n",
      "Arvind Swamy\n",
      "Raghuvir Yadav\n",
      "Manisha Koirala\n",
      "Alia Bhatt\n",
      "Madhuri Dixit\n",
      "Amitabh Bachchan\n",
      "Akshay Kumar\n",
      "Adhyayan Suman\n",
      "Satish Kaushik\n",
      "Imran Khan\n",
      "Cary Elwes\n",
      "Waheeda Rehman\n",
      "Sanjay Dutt\n",
      "Kamal Rashid Khan\n",
      "Akshay Kumar\n",
      "Sasha Aagha\n",
      "Sushant Singh Rajput\n",
      "Amitabh Bachchan\n",
      "Ram Kapoor\n",
      "Shah Rukh Khan\n",
      "RJ Balaji\n",
      "Ishaan Khattar\n",
      "Sanjay Dutt\n",
      "Krrish Chhabria\n",
      "Naseeruddin Shah\n",
      "Pankaj Kapur\n",
      "Ajay Devgn\n",
      "Prateik\n",
      "Muzamil Ibrahim\n",
      "Sharman Joshi\n",
      "Abhishek Bachchan\n",
      "Hrithik Roshan\n",
      "Aamir Khan\n",
      "Paresh Rawal\n",
      "Om Puri\n",
      "Amar Upadhyaya\n",
      "Sushant Singh Rajput\n",
      "Vikaas Kalantari\n",
      "Shahid Kapoor\n",
      "Anil Kapoor\n",
      "Emraan Hashmi\n",
      "Imaaduddin Shah\n",
      "Amitabh Bachchan\n",
      "Himansh Kohli\n",
      "Taapsee Pannu\n",
      "Arjun Rampal\n",
      "Irrfan Khan\n",
      "Shahid Kapoor\n",
      "Salman Khan\n",
      "Kapil Jhaveri\n",
      "Ajay Devgn\n",
      "Zeenat Aman\n",
      "Ira Dubey\n",
      "Shah Rukh Khan\n",
      "Rajniesh Duggall\n",
      "Anupam Kher\n",
      "Harman Baweja\n",
      "John Abraham\n",
      "Rishi Kapoor\n",
      "Kajal Aggarwal\n",
      "Adil Hussain\n",
      "Jackie Shroff\n",
      "Malaika Arora\n",
      "Shah Rukh Khan\n",
      "Shah Rukh Khan\n",
      "Mithun Chakraborty\n",
      "Rishi Kapoor\n",
      "Ronit Roy\n",
      "Ayesha Takia\n",
      "Abhishek Bachchan\n",
      "Akshay Kumar\n",
      "Ayesha Jhulka\n",
      "Sanjay Dutt\n",
      "Ayushmann Khurrana\n",
      "Aseel Adel\n",
      "Ajay Devgn\n",
      "Jayshree Arora\n",
      "Diwakar Pathak\n",
      "Sushmita Sen\n",
      "Vivek Oberoi\n",
      "Ayushmann Khurrana\n",
      "Abhishek Bachchan\n",
      "Zeenat Aman\n",
      "Sanjay Dutt\n",
      "Arbaaz Khan\n",
      "Raj Tara\n",
      "Amitabh Bachchan\n",
      "Nandita Das\n",
      "Sanjay Dutt\n",
      "Abhay Deol\n",
      "Rahul Bose\n",
      "Shiv Darshan\n",
      "Saif Ali Khan\n",
      "Jimmy Sharma\n",
      "Fardeen Khan\n",
      "Kareena Kapoor\n",
      "Sunny Leone\n",
      "Sunil Shetty\n",
      "Anita\n",
      "Bhushan Agarwal\n",
      "Salman Khan\n",
      "Emraan Hashmi\n",
      "Hema Malini\n",
      "Sidharth Malhotra\n",
      "Isha Koppikar\n",
      "Bobby Deol\n",
      "Prateik\n",
      "Anupam Kher\n",
      "Amitabh Bachchan\n",
      "Arjun Rampal\n",
      "Sunil Shetty\n",
      "Sridevi\n",
      "Akshay Kumar\n",
      "Manisha Koirala\n",
      "Mona Ambegaonkar\n",
      "Arshad Warsi\n",
      "Amitabh Bachchan\n",
      "Jimmy Sheirgill\n",
      "Arjun Rampal\n",
      "Shah Rukh Khan\n",
      "Aamir Khan\n",
      "Shilpa Shetty Kundra\n",
      "Priyanka Chopra\n",
      "Gul Panag\n",
      "Sharman Joshi\n",
      "Rajeev Khandelwal\n",
      "Kareena Kapoor\n",
      "Sunil Shetty\n",
      "Sharib Hashmi\n",
      "Deepika Padukone\n",
      "Inaamulhaq\n",
      "Kapil Sharma\n",
      "Aditya Roy Kapoor\n",
      "Jayesh Raj\n",
      "Reef Karim\n",
      "Shahid Kapoor\n",
      "Aftab Shivdasani\n",
      "John Abraham\n",
      "John Abraham\n",
      "Arjun Rampal\n",
      "Arshad Warsi\n",
      "Nawazuddin Siddiqui\n",
      "Avinash Dhyani\n",
      "Bidita Bag\n",
      "Atmaram Bhende\n",
      "Govinda\n",
      "Shubham\n",
      "Jimmy Sheirgill\n",
      "Pulkit Samrat\n",
      "Pulkit Samrat\n",
      "Siddharth Koirala\n",
      "Rushali Arora\n",
      "Rajveer Ankur Singh\n",
      "Akshay Kumar\n",
      "Akshay Kumar\n",
      "Manoj Bajpayee\n",
      "Abhishek Bachchan\n",
      "Akshaye Khanna\n",
      "Sharman Joshi\n",
      "Ajay Devgn\n",
      "Sarita Joshi\n",
      "Manoj Bajpayee\n",
      "Manoj Bajpayee\n",
      "Kangana Ranaut\n",
      "Akshay Kumar\n",
      "Salman Khan\n",
      "Naresh Sharma\n",
      "Mohan Azaad\n",
      "Tusshar Kapoor\n",
      "Utkarsh Sharma\n",
      "Aamir Khan\n",
      "Vidya Balan\n",
      "Sunny Deol\n",
      "Shiney Ahuja\n",
      "Sanaya Irani\n",
      "Riya Vij\n",
      "Isha Koppikar\n",
      "Pankaj Tripathi\n",
      "Gautam Gupta\n",
      "Saif Ali Khan\n",
      "John Abraham\n",
      "Amitabh Bachchan\n",
      "Akshay Kumar\n",
      "Ranveer Singh\n",
      "Dimple Kapadia\n",
      "Ajay Devgn\n",
      "Ajay Devgn\n",
      "Ajay Devgn\n",
      "Deepika Amin\n",
      "Tusshar Kapoor\n",
      "Akshay Kumar\n",
      "Imran Khan\n",
      "Vinay Pathak\n",
      "Vivek Oberoi\n",
      "Urvashi Rautela\n",
      "Vikram Dasu\n",
      "Kunal Khemu\n",
      "Arshad Warsi\n",
      "Kartik Aaryan\n",
      "Madhuri Dixit\n",
      "Kay Kay Menon\n",
      "Sampat Pal Devi\n",
      "Ranveer Singh\n",
      "Dino Morea\n",
      "Ranveer Singh\n",
      "Mithun Chakraborty\n",
      "Hrithik Roshan\n",
      "Amita Pathak\n",
      "Jimmy Sheirgill\n",
      "Sahil Anand\n",
      "Tabu\n",
      "Shraddha Kapoor\n",
      "Paoli Dam\n",
      "Ajay Devgn\n",
      "Rajkummar Rao\n",
      "Talha Arshad Reshi\n",
      "Mukesh Khanna\n",
      "Diana Penty\n",
      "Saif Ali Khan\n",
      "Anay\n",
      "Shah Rukh Khan\n",
      "Sonakshi Sinha\n",
      "Nawazuddin Siddiqui\n",
      "Jackie Shroff\n",
      "Sidharth Malhotra\n",
      "Shraddha Kapoor\n",
      "Jimmy Sheirgill\n",
      "Nikhil Dwivedi\n",
      "Jay Bhanushali\n",
      "Lee Byford\n",
      "Nana Patekar\n",
      "Akshay Kumar\n",
      "Mimoh Chakraborty\n",
      "Aniket Vishwasrao\n",
      "Tabu\n",
      "Makrand Deshpande\n",
      "Naman Jain\n",
      "Shawar Ali\n",
      "Babbu Mann\n",
      "Kay Kay Menon\n",
      "Adhyayan Suman\n",
      "Kajol\n",
      "Sharman Joshi\n",
      "Gul Panag\n",
      "Bobby Deol\n",
      "Suraj Pancholi\n",
      "Sohail Khan\n",
      "Kareena Kapoor\n",
      "Tiger Shroff\n",
      "Ganesh Acharya\n",
      "Juanna Sanghvi\n",
      "Rani Mukerji\n",
      "Sumeet Vyas\n",
      "Alia Bhatt\n",
      "Ajay Devgn\n",
      "Gurmeet Ram Rahim Singh\n",
      "Irrfan Khan\n",
      "Mallika Sherawat\n",
      "Onjolee Nair\n",
      "Akshay Kumar\n",
      "Vivek Oberoi\n",
      "Ranvir Shorey\n",
      "Zara Sheikh\n",
      "Naseeruddin Shah\n",
      "Karan Kundrra\n",
      "Vatsal Sheth\n",
      "Adil Hussain\n",
      "Akshay Kumar\n",
      "Akshay Kumar\n",
      "Akshay Kumar\n",
      "Akshaye Khanna\n",
      "Prit Kamani\n",
      "Anupam Kher\n",
      "Saif Ali Khan\n",
      "Arshad Warsi\n",
      "Tusshar Kapoor\n",
      "Shah Rukh Khan\n",
      "Karanvir Bohra\n",
      "Akshay Kumar\n",
      "Arjun Rampal\n",
      "Omkar Bhatkar\n",
      "Varun Dhawan\n",
      "Saif Ali Khan\n",
      "Akshaye Khanna\n",
      "Gulshan Devaiah\n",
      "Tisca Chopra\n",
      "Juhi Chawla\n",
      "Gulshan Grover\n",
      "Imran Khan\n",
      "Shakti Anand\n",
      "Sunny Deol\n",
      "Sohail Khan\n",
      "Arjun Rampal\n",
      "Vivek Sudershan\n",
      "Arjun Kapoor\n",
      "Jaz Pandher\n",
      "Kirti Kulhari\n",
      "Arjun Rampal\n",
      "Dino Morea\n",
      "Akshay Kumar\n",
      "Ashmit Patel\n",
      "Manoj Bajpayee\n",
      "Shreyas Talpade\n",
      "Amarjeet\n",
      "Naseeruddin Shah\n",
      "Madhavan\n",
      "Arjun Kapoor\n",
      "Preity Zinta\n",
      "Sara Loren\n",
      "Krishna Chaturvedi\n",
      "Dino Morea\n",
      "Rishi Verma\n",
      "Shahid Kapoor\n",
      "Mimoh Chakraborty\n",
      "Manish Anand\n",
      "Vidya Balan\n",
      "Akshay Oberoi\n",
      "Vinay Pathak\n",
      "Prateik\n",
      "Sanjeev Bhaskar\n",
      "Rina Charaniya\n",
      "Sunny Deol\n",
      "Salman Khan\n",
      "Aftab Shivdasani\n",
      "Priyanka Chopra\n",
      "Akshay Anand\n",
      "Shah Rukh Khan\n",
      "Shah Rukh Khan\n",
      "Shahid Kapoor\n",
      "Sidharth Malhotra\n",
      "Amit Sadh\n",
      "Naseeruddin Shah\n",
      "Ranbir Kapoor\n",
      "Govinda\n",
      "Chiranjeevi\n",
      "Priyanka Chopra\n",
      "Salman Khan\n",
      "Rati Agnihotri\n",
      "Fardeen Khan\n",
      "Manoj Bajpayee\n",
      "Javed Jaffrey\n",
      "Purab Kohli\n",
      "Rhea Chakraborty\n",
      "Harish Chabbra\n",
      "Mohit Ahlawat\n",
      "Feroz Khan\n",
      "Emraan Hashmi\n",
      "Amardeep Insan\n",
      "Emraan Hashmi\n",
      "Vivek Oberoi\n",
      "Aishwarya Rai Bachchan\n",
      "Ravi Kishan\n",
      "Arbaaz Khan\n",
      "Boman Irani\n",
      "Sanjay Suri\n",
      "Abhishek Bachchan\n",
      "John Abraham\n",
      "Rishi Kapoor\n",
      "Richa Chadha\n",
      "Harshvardhan Deo\n",
      "Nassar Abdulla\n",
      "Mimoh Chakraborty\n",
      "Bipasha Basu\n",
      "Sunny Deol\n",
      "Sunny Gill\n",
      "Hrithik Roshan\n",
      "Bipasha Basu\n",
      "Victor Banerjee\n",
      "Naseeruddin Shah\n",
      "Dharmendra\n",
      "Akshay Kumar\n",
      "Arshad Warsi\n",
      "Kangana Ranaut\n",
      "Varun Dhawan\n",
      "Sadhana Singh\n",
      "Neha Dhupia\n",
      "Nishikant Kamat\n",
      "Vidyut Jammwal\n",
      "Pulkit Samrat\n",
      "Kamal Adib\n",
      "Fardeen Khan\n",
      "Hrithik Roshan\n",
      "Vinay Pathak\n",
      "Ajay Devgn\n",
      "Saif Ali Khan\n",
      "Aditya Srivastava\n",
      "Kartik Aaryan\n",
      "Amitabh Bachchan\n",
      "Aishwarya Devan\n",
      "Amitabh Bachchan\n",
      "Shahid Kapoor\n",
      "John Abraham\n",
      "Sanjay Mishra\n",
      "Om Puri\n",
      "Vidya Balan\n",
      "Eesha Agarwal\n",
      "Rajkummar Rao\n",
      "Amit Hingorani\n",
      "Shah Rukh Khan\n",
      "Varun Dhawan\n",
      "Kunal Khemu\n",
      "Shahid Kapoor\n",
      "Sidharth Malhotra\n",
      "John Abraham\n",
      "Mahek Chahal\n",
      "Shiv Darshan\n",
      "Rati Agnihotri\n",
      "Siddhartha Gupta\n",
      "Irrfan Khan\n",
      "Himesh Reshammiya\n",
      "Lucky Ali\n",
      "Juhi Babbar\n",
      "Suhaas Ahuja\n",
      "Raqesh Bapat\n",
      "Kunal Kapoor\n",
      "Shahbaaz Khan\n",
      "Akshay Kumar\n",
      "Vinay Pathak\n",
      "Amitabh Bachchan\n",
      "Kiron Kher\n",
      "Shilpa Shetty Kundra\n",
      "Prabhu Deva\n",
      "Gurmeet Choudhary\n",
      "Rahul Jaiswal\n",
      "Akshay Kumar\n",
      "Hazel Croney\n",
      "Sunny Deol\n",
      "Supriya Pathak\n",
      "Sonam Kapoor\n",
      "Anupam Kher\n",
      "Shiney Ahuja\n",
      "Sunny Deol\n",
      "Fardeen Khan\n",
      "Simer Motiani\n",
      "Himanshu Malik\n",
      "Amitabh Bachchan\n",
      "Salman Khan\n",
      "Ranveer Singh\n",
      "Mallika Sherawat\n",
      "Kapil Sharma\n",
      "Jackie Shroff\n",
      "Bobby Deol\n",
      "Shahid Kapoor\n",
      "Vivek Oberoi\n",
      "Vivek Oberoi\n",
      "Arshad Warsi\n",
      "Hrithik Roshan\n",
      "Sanjay Dutt\n",
      "Aftab Shivdasani\n",
      "Dia Mirza\n",
      "Rekha\n",
      "Kannan Arunachalam\n",
      "Juhi Chawla\n",
      "Manoj Bajpayee\n",
      "Sohail Khan\n",
      "Rekha\n",
      "Shefali Shah\n",
      "Tusshar Kapoor\n",
      "Ram Kapoor\n",
      "Aishwarya Rai Bachchan\n",
      "Geetanjali Thapa\n",
      "Arshad Warsi\n",
      "Rekha\n",
      "Siddharth Gupta\n",
      "Lewis Tan\n",
      "Rajpal Yadav\n",
      "Vijay Raaz\n",
      "Tusshar Kapoor\n",
      "Tusshar Kapoor\n",
      "Tusshar Kapoor\n",
      "Riteish Deshmukh\n",
      "Salman Khan\n",
      "Amitabh Bachchan\n",
      "Sanjay Dutt\n",
      "Rani Mukerji\n",
      "Randeep Hooda\n",
      "Ranveer Singh\n",
      "Neil Nitin Mukesh\n",
      "Sanjay Dutt\n",
      "Farooq Shaikh\n",
      "Avinash Tiwary\n",
      "Sunny Deol\n",
      "Monali Thakur\n",
      "Hrithik Roshan\n",
      "Sanjay Dutt\n",
      "Armaan Jain\n",
      "Rituparna Sengupta\n",
      "Manoj Amarnani\n",
      "Kay Kay Menon\n",
      "Aftab Shivdasani\n",
      "Govinda\n",
      "Dharmendra\n",
      "Aahana Kumra\n",
      "Farooq Shaikh\n",
      "John Abraham\n",
      "Himanshu Bhatt\n",
      "Shabana Azmi\n",
      "Salman Khan\n",
      "Ranveer Singh\n",
      "Saif Ali Khan\n",
      "Zayed Khan\n",
      "Patralekhaa Paul\n",
      "Rishi Kapoor\n",
      "Nushrat Bharucha\n",
      "Anuj Sachdeva\n",
      "Abhishek Bharate\n",
      "Harman Baweja\n",
      "Tusshar Kapoor\n",
      "Joy Mukherjee\n",
      "Vicky Kaushal\n",
      "Girish Taurani\n",
      "Mithun Chakraborty\n",
      "Farhan Akhtar\n",
      "Adhyayan Suman\n",
      "Farhan Akhtar\n",
      "Arvinder Bhatti\n",
      "Salman Khan\n",
      "V. Ravichandran\n",
      "Tanuj Virwani\n",
      "Tom Alter\n",
      "Sushant Singh Rajput\n",
      "Menekka Arora\n",
      "Charanpreet Insan\n",
      "Gurmeet Ram Rahim Singh\n",
      "Ashok Insan\n",
      "Mallika Sherawat\n",
      "Raveena Tandon\n",
      "Sumit Nijhawan\n",
      "Swara Bhaskar\n",
      "Kiara Advani\n",
      "Saahil Prem\n",
      "Irrfan Khan\n",
      "Rajkummar Rao\n",
      "Bipasha Basu\n",
      "John Abraham\n",
      "Sooraj Balaji\n",
      "Asha Bhosle\n",
      "Ajay Devgn\n",
      "Barun Sobti\n",
      "Salman Khan\n",
      "Shah Rukh Khan\n",
      "Smitha Gondkar\n",
      "Juhi Chawla\n",
      "Antara Mali\n",
      "Rajpal Yadav\n",
      "Hrithik Roshan\n",
      "Varun Dhawan\n",
      "Anupam Kher\n",
      "Salman Khan\n",
      "Paresh Rawal\n",
      "Akanksha\n",
      "Aamir Khan\n",
      "Kangana Ranaut\n",
      "Nawazuddin Siddiqui\n",
      "Anjori Alagh\n",
      "Taapsee Pannu\n",
      "Abhay Deol\n",
      "Nawazuddin Siddiqui\n",
      "Rajat Kapoor\n",
      "Irrfan Khan\n",
      "Abhimanyu Dasani\n",
      "Rani Mukerji\n",
      "Rani Mukerji\n",
      "Kalki Koechlin\n",
      "Salman Khan\n",
      "Riteish Deshmukh\n",
      "Manisha Koirala\n",
      "Archana Joglekar\n",
      "Priyanka Chopra\n",
      "Richa Chadha\n",
      "Aftab Shivdasani\n",
      "Tusshar Kapoor\n",
      "Rahul Bagga\n",
      "Imran Khan\n",
      "Tulip Joshi\n",
      "Shahid Kapoor\n",
      "Sonu Sood\n",
      "Tabu\n",
      "Anupam Kher\n",
      "Jaideep Ahlawat\n",
      "Puru Chibber\n",
      "Deepti Naval\n",
      "Prabhu Deva\n",
      "Paresh Rawal\n",
      "Imran Khan\n",
      "Saqib Saleem\n",
      "Sunil Shetty\n",
      "Yash Acharya\n",
      "Akshay Kumar\n",
      "Rasika Agashe\n",
      "Akshay Kumar\n",
      "Ayushmann Khurrana\n",
      "Manish Paul\n",
      "Kareena Kapoor\n",
      "Chirag Paswan\n",
      "Arunoday Singh\n",
      "Harshvardhan Kapoor\n",
      "Rahul Bagga\n",
      "Manoj Bajpayee\n",
      "Vivek Oberoi\n",
      "Akshay Kumar\n",
      "Jackky Bhagnani\n",
      "Hazel Croney\n",
      "Neha Dhupia\n",
      "Sunny Deol\n",
      "Hrithik Roshan\n",
      "Sridevi\n",
      "Govinda\n",
      "Ashutosh Rana\n",
      "Vijay Varma\n",
      "Shabana Azmi\n",
      "Nawazuddin Siddiqui\n",
      "Saurav Chakraborty\n",
      "Dev Anand\n",
      "Anupam Kher\n",
      "Prashant Narayanan\n",
      "Emraan Hashmi\n",
      "Anil Kapoor\n",
      "Prithviraj Kapoor\n",
      "Saqib Saleem\n",
      "Salman Khan\n",
      "Sammir Dattani\n",
      "Viineet Kumar\n",
      "Taapsee Pannu\n",
      "Karanvir Bohra\n",
      "Shakti Kapoor\n",
      "Shiv Panditt\n",
      "Mohsin\n",
      "Rahul Bose\n",
      "Paresh Rawal\n",
      "Linda Arsenio\n",
      "Abhishek Bachchan\n",
      "Alieesa P Badresia\n",
      "Kiron Kher\n",
      "Sanjay Dutt\n",
      "Tiger Shroff\n",
      "Sanjay Singh\n",
      "Mallika Sherawat\n",
      "Emraan Hashmi\n",
      "Randeep Hooda\n",
      "Anil Kapoor\n",
      "Aftab Shivdasani\n",
      "Nora Fatehi\n",
      "Jason Lewis\n",
      "Sanjay Suri\n",
      "Prateik\n",
      "Shah Rukh Khan\n",
      "Anil Kapoor\n",
      "Auroshika Dey\n",
      "Anushka Sharma\n",
      "Om Puri\n",
      "Antara Mali\n",
      "Taapsee Pannu\n",
      "Urmila Matondkar\n",
      "Sunny Deol\n",
      "Arjun Kapoor\n",
      "Akshay Kumar\n",
      "Dwij Yadav\n",
      "Abhay Deol\n",
      "Bobby Deol\n",
      "Poonam Pandey\n",
      "Govinda\n",
      "Ayushmann Khurrana\n",
      "Dharmesh Yelande\n",
      "Vikas Kalantri\n",
      "Uday Chopra\n",
      "Sonam Kapoor\n",
      "Sanjay Dutt\n",
      "Vinay Anand\n",
      "John Abraham\n",
      "Rajkummar Rao\n",
      "Swara Bhaskar\n",
      "Ashmit Patel\n",
      "Amitabh Bachchan\n",
      "Anil Kapoor\n",
      "Rani Mukerji\n",
      "Sanjay Dutt\n",
      "John Abraham\n",
      "Sunny Leone\n",
      "Deepak Dobriyal\n",
      "Zaheer Iqbal\n",
      "Madhavan\n",
      "Pulkit Samrat\n",
      "Paresh Rawal\n",
      "Varun Dhawan\n",
      "Vinay Pathak\n",
      "Shraddha Kapoor\n",
      "Attin Bhalla\n",
      "Shah Rukh Khan\n",
      "Gopi Desai\n",
      "Rajkummar Rao\n",
      "Ajay Devgn\n",
      "Ajay Devgn\n",
      "Akshay Kumar\n",
      "Anupam Kher\n",
      "Tusshar Kapoor\n",
      "Abhay Deol\n",
      "Riteish Deshmukh\n",
      "Abhay Deol\n",
      "Meenakshi Dixit\n",
      "Bhavesh Kumar\n",
      "Aamir Khan\n",
      "Boman Irani\n",
      "Amitabh Bachchan\n",
      "Irrfan Khan\n",
      "Nassar Abdulla\n",
      "John Abraham\n",
      "Nana Patekar\n",
      "Deepika Padukone\n",
      "Sunil Shetty\n",
      "Kriti Kharbanda\n",
      "Konkona Sen Sharma\n",
      "Shah Rukh Khan\n",
      "Manisha Koirala\n",
      "Karan Deol\n",
      "Jackie Shroff\n",
      "Nayna Bandhopadhyay\n",
      "Bipasha Basu\n",
      "Mohinder Gujral\n",
      "Tannishtha Chatterjee\n",
      "Saif Ali Khan\n",
      "John Abraham\n",
      "Salman Khan\n",
      "Ajay Devgn\n",
      "Sanya Malhotra\n",
      "Rishi Kapoor\n",
      "Kartik Aaryan\n",
      "Rishi Kapoor\n",
      "Shreyas Talpade\n",
      "Omkar Das Manikpuri\n",
      "Vinod Khanna\n",
      "Jimmy Sheirgill\n",
      "Saif Ali Khan\n",
      "Rajat Kapoor\n",
      "Shahid Kapoor\n",
      "Rajniesh Duggall\n",
      "Anushka Sharma\n",
      "Akshay Kumar\n",
      "Mithun Chakraborty\n",
      "Salman Khan\n",
      "Radhika Apte\n",
      "Sudeep\n",
      "Nawazuddin Siddiqui\n",
      "Rahul Bagga\n",
      "Deepika Padukone\n",
      "Urmila Matondkar\n",
      "Taapsee Pannu\n",
      "Akshay Oberoi\n",
      "Sanjay Dutt\n",
      "Vinod Khanna\n",
      "Akshay Kumar\n",
      "Sanjay Dutt\n",
      "Akshay Kapoor\n",
      "Sunny Deol\n",
      "Raveena Tandon\n",
      "Chandan Roy Sanyal\n",
      "Rajeev Khandelwal\n",
      "Sanjay Dutt\n",
      "Jeetendra\n",
      "Arbaaz Khan\n",
      "Salman Khan\n",
      "Vivek Oberoi\n",
      "Tanuj Virwani\n",
      "Priyanka Chopra\n",
      "Kartik Aaryan\n",
      "Kartik Aaryan\n",
      "Rahul Bose\n",
      "Rishi Kapoor\n",
      "Fardeen Khan\n",
      "Aadar Jain\n",
      "Irrfan Khan\n",
      "Ajay Devgn\n",
      "Irrfan Khan\n",
      "Kangana Ranaut\n",
      "Rajendra Prasad\n",
      "Shah Rukh Khan\n",
      "Deepika Padukone\n",
      "Kunal Kapoor\n",
      "Dhanush\n",
      "Aamir Bashir\n",
      "Abhishek Bachchan\n",
      "Dino Morea\n",
      "Emraan Hashmi\n",
      "Kangana Ranaut\n",
      "Alia Bhatt\n",
      "Shah Rukh Khan\n",
      "Saif Ali Khan\n",
      "Saif Ali Khan\n",
      "Anil Kapoor\n",
      "Raj Arjun\n",
      "Vijay Raaz\n",
      "Kainaz Motivala\n",
      "Sunny Leone\n",
      "Kay Kay Menon\n",
      "Ajay Devgn\n",
      "Ajay Devgn\n",
      "Sadashiv Amrapurkar\n",
      "Emraan Hashmi\n",
      "Kangana Ranaut\n",
      "Amyra Dastur\n",
      "Sanjay Dutt\n",
      "Julia Datt\n",
      "Sahil Khan\n",
      "Shruti Haasan\n",
      "Nawazuddin Siddiqui\n",
      "Manoj Bajpayee\n",
      "Madhavan\n",
      "Naseeruddin Shah\n",
      "Manish Paul\n",
      "Soundarya Sharma\n",
      "Aamir Khan\n",
      "Randeep Hooda\n",
      "Kangana Ranaut\n",
      "Jackky Bhagnani\n",
      "Amitabh Bachchan\n",
      "Rahul Khanna\n",
      "Ajay Devgn\n",
      "Prince Shah\n",
      "Sunil Shetty\n",
      "Sherlyn Chopra\n",
      "Aftab Shivdasani\n",
      "Kashmira Shah\n",
      "Kangana Ranaut\n",
      "Kalki Koechlin\n",
      "Ankit\n",
      "Sunny Deol\n",
      "Vinod Khanna\n",
      "Garima Agarwal\n",
      "Rajesh Khanna\n",
      "Paresh Rawal\n",
      "Saif Ali Khan\n",
      "Aadil Chahal\n",
      "Farhan Akhtar\n",
      "Arjun Rampal\n",
      "Ranbir Kapoor\n",
      "Ranbir Kapoor\n",
      "John Abraham\n",
      "Irrfan Khan\n",
      "Sunny Deol\n",
      "Tanushree Dutta\n",
      "Tannishtha Chatterjee\n",
      "Arjun Rampal\n",
      "Sanjay Dutt\n",
      "Manoj Bajpayee\n",
      "Tanuja\n",
      "Abhishek Bachchan\n",
      "Arsh Bajwa\n",
      "Emraan Hashmi\n",
      "Ileana D'Cruz\n",
      "Jacqueline Fernandez\n",
      "Taapsee Pannu\n",
      "Tanima Bhattacharya\n",
      "Sonarika Bhadoria\n",
      "Vishwa Mohan Badola\n",
      "Kiron Kher\n",
      "Manoj Bajpayee\n",
      "Vivek Oberoi\n",
      "Salman Khan\n",
      "Rani Mukerji\n",
      "John Abraham\n",
      "Swara Bhaskar\n",
      "Sachin Tendulkar\n",
      "Sarika\n",
      "Karan Sharma\n",
      "Rekha\n",
      "Jimmy Sheirgill\n",
      "Sanjay Dutt\n",
      "Jimmy Sheirgill\n",
      "Anupam Kher\n",
      "Saif Ali Khan\n",
      "Salman Khan\n",
      "Zeenat Aman\n",
      "Sushmita Sen\n",
      "Rajeev Khandelwal\n",
      "Rishi Kapoor\n",
      "Govinda\n",
      "Ranbir Kapoor\n",
      "Kay Kay Menon\n",
      "Boman Irani\n",
      "Randeep Hooda\n",
      "Mahima Chaudhry\n",
      "Amitabh Bachchan\n",
      "Amitabh Bachchan\n",
      "Amitabh Bachchan\n",
      "Suraj Pancholi\n",
      "Sanjay Mishra\n",
      "Raveena Tandon\n",
      "Puneet Singh Ratn\n",
      "Amitabh Bachchan\n",
      "John Abraham\n",
      "Mandar Jadhav\n",
      "Dharmendra\n",
      "Zaira Wasim\n",
      "Akshaye Khanna\n",
      "Arshad Warsi\n",
      "Shreyas Talpade\n",
      "Sanjay Suri\n",
      "Salman Khan\n",
      "Farhan Akhtar\n",
      "Rajkummar Rao\n",
      "Fardeen Khan\n",
      "Akshaye Khanna\n",
      "Shahid Kapoor\n",
      "Aditya Narayan\n",
      "Ashish Bisht\n",
      "Sanjay Dutt\n",
      "Ashutosh Rana\n",
      "Isha Koppikar\n",
      "Nana Patekar\n",
      "Rajkummar Rao\n",
      "Kalki Koechlin\n",
      "Bobby Deol\n",
      "Amitabh Bachchan\n",
      "Emraan Hashmi\n",
      "Zayed Khan\n",
      "Tusshar Kapoor\n",
      "Tarun Arora\n",
      "Neha Dhupia\n",
      "Ajay Devgn\n",
      "Aida Elkashef\n",
      "Freny Bhagat\n",
      "Mohit Ahlawat\n",
      "Ajay Devgn\n",
      "Sanjeev Kumar\n",
      "Amitabh Bachchan\n",
      "Sendhil Ramamurthy\n",
      "Jimmy Sheirgill\n",
      "Neil Nitin Mukesh\n",
      "Jimmy Sheirgill\n",
      "Sanjay Dutt\n",
      "Tushar Jalota\n",
      "Ayushmann Khurrana\n",
      "Sushant Singh Rajput\n",
      "Anupam Kher\n",
      "Rajesh Tailang\n",
      "Parzaan Dastur\n",
      "Tabu\n",
      "Ranveer Singh\n",
      "Kangana Ranaut\n",
      "Akshay Kumar\n",
      "Akshay Kumar\n",
      "Sunny Deol\n",
      "Ajay Devgn\n",
      "Anupam Kher\n",
      "Kay Kay Menon\n",
      "Wamiqa Gabbi\n",
      "Barkha Madan\n",
      "Abhay Deol\n",
      "Ajay Devgn\n",
      "Rhea Chakraborty\n",
      "Sushant Singh Rajput\n",
      "Geetika Vidya Ohlyan\n",
      "Sunidhi Chauhan\n",
      "Kartik Aaryan\n",
      "Tinnu Anand\n",
      "Shabana Azmi\n",
      "Shamim Khan\n",
      "Mahima Chaudhry\n",
      "Rati Agnihotri\n",
      "Akshay Kumar\n",
      "Urmila Matondkar\n",
      "Tanishaa Mukerji\n",
      "Aarti Chhabria\n",
      "Partho A. Gupte\n",
      "Kanika Batra\n",
      "Jahangir Khan\n",
      "Jimmy Sheirgill\n",
      "Rajkummar Rao\n",
      "Siddharth\n",
      "Zeenat Aman\n",
      "Alia Bhatt\n",
      "Tiger Shroff\n",
      "Raveena Tandon\n",
      "Anushka Sharma\n",
      "Gurdas Maan\n",
      "Naveen Kasturia\n",
      "Salman Khan\n",
      "Ahraz Ahmed\n",
      "Ajay Devgn\n",
      "Jaya Bachchan\n",
      "Aftab Shivdasani\n",
      "Hrithik Roshan\n",
      "Ashmit Patel\n",
      "Rekha\n",
      "Shah Rukh Khan\n",
      "Manoj Bajpayee\n",
      "Himansh Kohli\n",
      "Saif Ali Khan\n",
      "Darsheel Safary\n",
      "Vatsal Sheth\n",
      "Paresh Rawal\n",
      "Victor Banerjee\n",
      "Zulfi Sayed\n",
      "Sulabha Arya\n",
      "Aamir Khan\n",
      "Rakhee Gulzar\n",
      "Irrfan Khan\n",
      "Nikhil Dwivedi\n",
      "Ajay Devgn\n",
      "Madhavan\n",
      "Kangana Ranaut\n",
      "Kangana Ranaut\n",
      "Akshay Kumar\n",
      "Sanjay Dutt\n",
      "Nana Patekar\n",
      "Amitabh Bachchan\n",
      "Amitabh Bachchan\n",
      "Om Puri\n",
      "Akshay Kumar\n",
      "Sunny Deol\n",
      "Shabana Azmi\n",
      "Dharmendra\n",
      "Neil Nitin Mukesh\n",
      "Ali Zafar\n",
      "Parthaa Akerkar\n",
      "Vinay Pathak\n",
      "Riteish Deshmukh\n",
      "Salman Khan\n",
      "Shahid Kapoor\n",
      "Arjun Kapoor\n",
      "Anil Kapoor\n",
      "Nawazuddin Siddiqui\n",
      "Akshay Kumar\n",
      "Master Shams\n",
      "Anupam Kher\n",
      "Pankaj Kapur\n",
      "Kartik Elangovan\n",
      "Nawazuddin Siddiqui\n",
      "Vidya Balan\n",
      "Nassar Abdulla\n",
      "Ranvir Shorey\n",
      "Kunaal Roy Kapur\n",
      "Rana Daggubati\n",
      "Sunny Deol\n",
      "Rahul Bose\n",
      "Shakti Kapoor\n",
      "Irrfan Khan\n",
      "Amitabh Bachchan\n",
      "Irrfan Khan\n",
      "Kal Penn\n",
      "Edwin Fernandes\n",
      "Akshay Kumar\n",
      "Mann Bagga\n",
      "Zaira Wasim\n",
      "Kay Kay Menon\n",
      "Naseeruddin Shah\n",
      "Emraan Hashmi\n",
      "Himesh Reshammiya\n",
      "Sonam Kapoor\n",
      "Bhavita Anand\n",
      "Saif Ali Khan\n",
      "Arya Babbar\n",
      "Saahil Chadha\n",
      "Aamir Khan\n",
      "Salman Khan\n",
      "Nawazuddin Siddiqui\n",
      "Nishant Dahiya\n",
      "Tabu\n",
      "Akshay Kumar\n",
      "Rakesh Bedi\n",
      "Ajay Devgn\n",
      "Ajay Devgn\n",
      "Ali Zafar\n",
      "Manoj Bajpayee\n",
      "Kunal Khemu\n",
      "Rajkummar Rao\n",
      "Vikrum Kumar\n",
      "Salman Khan\n",
      "Riteish Deshmukh\n",
      "Manisha Koirala\n",
      "Neha Sharma\n",
      "Emraan Hashmi\n",
      "Nana Patekar\n",
      "Sohum Shah\n",
      "Vidya Balan\n",
      "Emraan Hashmi\n",
      "Gul Panag\n",
      "Ajay Devgn\n",
      "Mikaal\n",
      "Rajat Barmecha\n",
      "Shahid Kapoor\n",
      "Rahul Bhat\n",
      "Sunny Singh Nijjar\n",
      "Jimmy Sheirgill\n",
      "Aishwarya Rai Bachchan\n",
      "Aashish Bhatt\n",
      "Emraan Hashmi\n",
      "Rahul Bhat\n",
      "Russell Geoffrey Banks\n",
      "Vicky Kaushal\n",
      "Vinay Pathak\n",
      "Priyanshu Chatterjee\n",
      "Mohit Baghel\n",
      "Arjun Rampal\n",
      "Bobby Deol\n",
      "Shahid Kapoor\n",
      "Vicky Ahuja\n",
      "Shikhi Gupta\n",
      "Salman Khan\n",
      "Shah Rukh Khan\n",
      "Sachiin Joshi\n",
      "Pulkit Samrat\n",
      "Kay Kay Menon\n",
      "Hugh Bonneville\n",
      "Ayushmann Khurrana\n",
      "Harman Baweja\n",
      "Vikram Aditya\n",
      "Amitabh Bachchan\n",
      "Kamal Haasan\n",
      "Shahid Kapoor\n",
      "Kay Kay Menon\n",
      "Leeza Mangaldas\n",
      "Niharica Raizada\n",
      "Rajesh Khanna\n",
      "Shreyas Talpade\n",
      "Arshad Warsi\n",
      "Naseeruddin Shah\n",
      "Sharman Joshi\n",
      "Elisha Kriis\n",
      "Ranbir Kapoor\n",
      "Salman Khan\n",
      "Amitabh Bachchan\n",
      "Sharman Joshi\n",
      "Gurdas Maan\n",
      "Nana Patekar\n",
      "Diganth\n",
      "Akshay Kumar\n",
      "Arshad Warsi\n",
      "Anil Kapoor\n",
      "Shreyas Talpade\n",
      "Boman Irani\n",
      "Manu Rishi Chadha\n",
      "Harman Baweja\n",
      "Emraan Hashmi\n",
      "Kangana Ranaut\n",
      "Sikander Kher\n",
      "Sharman Joshi\n",
      "Indrapal Ahuja\n",
      "Siddhanth Kapoor\n",
      "Prisha Aneja\n",
      "Arjun Rampal\n",
      "Nafisa Ali\n",
      "Dharmendra\n",
      "Rekha\n",
      "Tusshar Kapoor\n",
      "Deepshika Nagpal\n",
      "Anshuman Jha\n",
      "Gavie Chahal\n",
      "Ranbir Kapoor\n",
      "Anya Anand\n",
      "Shah Rukh Khan\n",
      "Anupam Kher\n",
      "Vardhan Puri\n",
      "Jackky Bhagnani\n",
      "Paresh Rawal\n",
      "Ajay Devgn\n",
      "Salman Khan\n",
      "Jeetendra\n",
      "Ajay Devgn\n",
      "Ajay Devgn\n",
      "Vinod Acharya\n",
      "Emraan Hashmi\n",
      "Shah Rukh Khan\n",
      "Mannara Chopra\n",
      "Vivek Oberoi\n",
      "Sanjay Dutt\n",
      "Sushmita Sen\n",
      "Alia Bhatt\n",
      "Hrithik Roshan\n",
      "Mithun Chakraborty\n",
      "Darsheel Safary\n",
      "Meghan Jadhav\n"
     ]
    }
   ],
   "source": [
    "#looping \n",
    "\n",
    "for i in movies: \n",
    "    print(i)"
   ]
  },
  {
   "cell_type": "code",
   "execution_count": 133,
   "id": "7adda270-104f-471e-b7be-0b9ff73acb93",
   "metadata": {},
   "outputs": [
    {
     "name": "stdout",
     "output_type": "stream",
     "text": [
      "1920 (film)\n",
      "1920: London\n",
      "1920: The Evil Returns\n",
      "1971 (2007 film)\n",
      "2 States (2014 film)\n",
      "22 Yards\n",
      "3 A.M. (2014 film)\n",
      "3 Deewarein\n",
      "3 Idiots\n",
      "3 Storeys\n",
      "31st October (film)\n",
      "36 China Town\n",
      "3G (film)\n",
      "404 (film)\n",
      "5 Weddings\n",
      "68 Pages\n",
      "7 Hours to Go\n",
      "7 Khoon Maaf\n",
      "7½ Phere\n",
      "88 Antop Hill\n",
      "99 (2009 film)\n",
      "99.9 FM (film)\n",
      "?: A Question Mark\n",
      "A Decent Arrangement\n",
      "A Flat (film)\n",
      "A Flying Jatt\n",
      "A Gentleman\n",
      "ABCD 2\n",
      "Aa Dekhen Zara\n",
      "Aa Gaya Hero\n",
      "Aabra Ka Daabra\n",
      "Aag (2007 film)\n",
      "Aagey Se Right\n",
      "Aaj Ka Andha Kanoon\n",
      "Aaja Nachle\n",
      "Aakhari Decision\n",
      "Aakrosh (2010 film)\n",
      "Aalaap (film)\n",
      "Aan: Men at Work\n",
      "Aanch\n",
      "Aankhen (2002 film)\n",
      "Aap Kaa Surroor\n",
      "Aap Ki Khatir (2006 film)\n",
      "Aapko Pehle Bhi Kahin Dekha Hai\n",
      "Aarakshan\n",
      "Aashayein\n",
      "Aashiq Banaya Aapne\n",
      "Aashiqui 2\n",
      "Aashiqui.in\n",
      "Aasma: The Sky Is the Limit\n",
      "Aazaan\n",
      "Ab Tak Chhappan 2\n",
      "Ab Tumhare Hawale Watan Saathiyo\n",
      "Accident on Hill Road\n",
      "Acid Factory\n",
      "Action Jackson (2014 film)\n",
      "Action Replayy\n",
      "Adharm (2006 film)\n",
      "Ae Dil Hai Mushkil\n",
      "Aetbaar\n",
      "Agent Vinod (2012 film)\n",
      "Aggar (film)\n",
      "Agneepath (2012 film)\n",
      "Agnipankh\n",
      "Ahista Ahista (2006 film)\n",
      "Airlift (film)\n",
      "Aisa Kyon Hota Hai?\n",
      "Aisa Yeh Jahaan\n",
      "Aitraaz\n",
      "Aiyaary\n",
      "Aiyyaa\n",
      "Ajab Gazabb Love\n",
      "Ajab Prem Ki Ghazab Kahani\n",
      "Ajji\n",
      "Akaash Vani\n",
      "Aksar\n",
      "Aksar 2\n",
      "Aladin (film)\n",
      "Alag\n",
      "Albert Pinto Ko Gussa Kyun Aata Hai?\n",
      "Aligarh (film)\n",
      "All Is Well (2015 film)\n",
      "All the Best: Fun Begins\n",
      "Allah Ke Banday\n",
      "Alone (2015 Hindi film)\n",
      "Aloo Chaat (film)\n",
      "Always Kabhi Kabhi\n",
      "Amavas\n",
      "Amit Sahni Ki List\n",
      "Anaarkali of Aarah\n",
      "Anamika (2008 film)\n",
      "Andaaz\n",
      "Andaaz\n",
      "Andhadhun\n",
      "Angel (2011 film)\n",
      "Anjaana Anjaani\n",
      "Anjaane (2005 film)\n",
      "Ankahee (2006 film)\n",
      "Ankhon Dekhi\n",
      "Ankur Arora Murder Case\n",
      "Anna (2016 film)\n",
      "Antardwand\n",
      "Anthony Kaun Hai?\n",
      "Anuradha (2014 film)\n",
      "Anwar (2007 film)\n",
      "Apaharan\n",
      "Apartment (film)\n",
      "Apna Asmaan\n",
      "Apna Sapna Money Money\n",
      "Apne\n",
      "Arjun Patiala\n",
      "Arjun: The Warrior Prince\n",
      "Armaan (2003 film)\n",
      "Article 15 (film)\n",
      "Aryan: Unbreakable\n",
      "Asambhav\n",
      "Ata Pata Laapata\n",
      "Aur Pappu Paas Ho Gaya\n",
      "Aurangzeb (film)\n",
      "Aval (2017 film)\n",
      "Awara Paagal Deewana\n",
      "Awarapan\n",
      "Azhar (film)\n",
      "B.A. Pass\n",
      "Baabarr\n",
      "Baabul (2006 film)\n",
      "Baaghi (2016 film)\n",
      "Baaghi 2\n",
      "Baar Baar Dekho\n",
      "Baat Bann Gayi\n",
      "Baaz: A Bird in Danger\n",
      "Baazaar\n",
      "Babloo Happy Hai\n",
      "Babuji Ek Ticket Bambai\n",
      "Babumoshai Bandookbaaz\n",
      "Baby (2015 Hindi film)\n",
      "Bachche Kachche Sachche\n",
      "Bachke Rehna Re Baba\n",
      "Bachna Ae Haseeno\n",
      "Badhaai Ho\n",
      "Badla (2019 film)\n",
      "Badlapur (film)\n",
      "Badlapur Boys\n",
      "Badmashiyaan\n",
      "Badrinath Ki Dulhania\n",
      "Baghban (2003 film)\n",
      "Bajatey Raho\n",
      "Bajirao Mastani\n",
      "Bajrangi Bhaijaan\n",
      "Bala (2019 film)\n",
      "Balwinder Singh Famous Ho Gaya\n",
      "Banaras (2006 film)\n",
      "Band Baaja Baaraat\n",
      "Bandook\n",
      "Bang Bang!\n",
      "Bangistan\n",
      "Banjo (2016 film)\n",
      "Bank Chor\n",
      "Barah Aana\n",
      "Bardaasht\n",
      "Bareilly Ki Barfi\n",
      "Barfi!\n",
      "Barkhaa\n",
      "Barsaat (2005 film)\n",
      "Bas Ek Pal\n",
      "Basti (film)\n",
      "Batla House\n",
      "Battalion 609\n",
      "Batti Gul Meter Chalu\n",
      "Bazaar E Husn\n",
      "Bbuddah... Hoga Terra Baap\n",
      "Befikre\n",
      "Begum Jaan\n",
      "Behen Hogi Teri\n",
      "Beiimaan Love\n",
      "Being Cyrus\n",
      "Bewafaa (2005 film)\n",
      "Bewakoofiyaan\n",
      "Beyond the Clouds (2017 film)\n",
      "Bezubaan Ishq\n",
      "Bhaag Johnny\n",
      "Bhaag Milkha Bhaag\n",
      "Bhagam Bhag\n",
      "Bhagmati (2005 film)\n",
      "Bhaiaji Superhit\n",
      "Bhanwarey\n",
      "Bhavesh Joshi Superhero\n",
      "Bheja Fry (film)\n",
      "Bheja Fry 2\n",
      "Bhola in Bollywood\n",
      "Bhool Bhulaiyaa\n",
      "Bhoomi (film)\n",
      "Bhoot (film)\n",
      "Bhoot Returns\n",
      "Bhoot Unkle\n",
      "Bhoothnath\n",
      "Bhoothnath Returns\n",
      "Bhopal: A Prayer for Rain\n",
      "Bhram\n",
      "Big Brother (2007 film)\n",
      "Billu\n",
      "Bin Bulaye Baraati\n",
      "Bioscopewala\n",
      "Bittoo Boss\n",
      "Black (2005 film)\n",
      "Black Friday (2007 film)\n",
      "Blackmail (2005 film)\n",
      "Blood Brothers (2007 Indian film)\n",
      "Blood Money (2012 film)\n",
      "Bloody Isshq\n",
      "Blue (2009 film)\n",
      "Bluffmaster!\n",
      "Bobby Jasoos\n",
      "Bodyguard (2011 Hindi film)\n",
      "Bol Bachchan\n",
      "Bollywood Diaries\n",
      "Bombairiya\n",
      "Bombay Talkies (film)\n",
      "Bombay Velvet\n",
      "Bombay to Bangkok\n",
      "Bombay to Goa (2007 film)\n",
      "Boom (film)\n",
      "Border (1997 film)\n",
      "Boss (2013 Hindi film)\n",
      "Brahman Naman\n",
      "Break Ke Baad\n",
      "Breakaway (2011 film)\n",
      "Brij Mohan Amar Rahe\n",
      "Brothers (2015 film)\n",
      "Bubble Gum (film)\n",
      "Buddha Mar Gaya\n",
      "Buddha in a Traffic Jam\n",
      "Bullet: Ek Dhamaka\n",
      "Bullett Raja\n",
      "Bumboo\n",
      "Bumm Bumm Bole\n",
      "Bumper Draw\n",
      "Bunty Aur Babli\n",
      "Bypass Road (film)\n",
      "C Kkompany\n",
      "Calapor (film)\n",
      "Calcutta Mail\n",
      "Calendar Girls (2015 film)\n",
      "Cash (2007 film)\n",
      "Chaahat – Ek Nasha\n",
      "Chaalis Chauraasi\n",
      "Chaar Din Ki Chandni\n",
      "Chaarfutiya Chhokare\n",
      "Chak De! India\n",
      "Chakravyuh (2012 film)\n",
      "Chal Chala Chal\n",
      "Chal Pichchur Banate Hain\n",
      "Chalk n Duster\n",
      "Challo Driver\n",
      "Chalo Dilli\n",
      "Chalte Chalte (2003 film)\n",
      "Chameli (film)\n",
      "Chamku\n",
      "Chance Pe Dance\n",
      "Chand Ke Paar Chalo (film)\n",
      "Chand Sa Roshan Chehra\n",
      "Chandni Chowk to China\n",
      "Charas (2004 film)\n",
      "Chargesheet (film)\n",
      "Chase (2010 film)\n",
      "Chashme Baddoor (2013 film)\n",
      "Chatur Singh Two Star\n",
      "Cheeni Kum\n",
      "Chef (2017 film)\n",
      "Chehraa\n",
      "Chennai Express\n",
      "Chetna: The Excitement\n",
      "Chhodon Naa Yaar\n",
      "Chhota Bheem and the Throne of Bali\n",
      "Chicken Curry Law\n",
      "Children of Heaven\n",
      "Children of War (2014 film)\n",
      "Chillar Party\n",
      "Chinar Daastaan-E-Ishq\n",
      "Chingaari\n",
      "Chintu Ji\n",
      "Chittagong (film)\n",
      "Chocolate (2005 film)\n",
      "Chor Chor Super Chor\n",
      "Chori Chori (2003 film)\n",
      "Chup Chup Ke\n",
      "Chura Liyaa Hai Tumne\n",
      "Cigarette Ki Tarah\n",
      "City of Gold (2010 film)\n",
      "CityLights (2014 film)\n",
      "Classic – Dance of Love\n",
      "Click (2010 film)\n",
      "Cocktail (2012 film)\n",
      "Coffee Bloom\n",
      "Coffee with D\n",
      "Commando 3 (film)\n",
      "Commando: A One Man Army\n",
      "Company (film)\n",
      "Contract (2008 film)\n",
      "Corporate (2006 film)\n",
      "Court (film)\n",
      "Crazy Cukkad Family\n",
      "Creature 3D\n",
      "Crook (film)\n",
      "D (film)\n",
      "D-Day (2013 film)\n",
      "Daas Dev\n",
      "Daawat-e-Ishq\n",
      "Dabangg\n",
      "Dabangg 2\n",
      "Dabangg 3\n",
      "Daddy (2017 film)\n",
      "Daddy Cool (2009 Hindi film)\n",
      "Damadamm!\n",
      "Dangal (film)\n",
      "Dangerous Ishhq\n",
      "Darling (2007 Indian film)\n",
      "Darna Mana Hai\n",
      "Darna Zaroori Hai\n",
      "Darr @ the Mall\n",
      "Darwaaza Bandh Rakho\n",
      "Dassehra\n",
      "Dasvidaniya\n",
      "Days of Tafree\n",
      "De Dana Dan\n",
      "De De Pyaar De\n",
      "De Taali\n",
      "Deadline: Sirf 24 Ghante\n",
      "Dear Dad (film)\n",
      "Dear Friend Hitler\n",
      "Dear Maya\n",
      "Dear Zindagi\n",
      "Dedh Ishqiya\n",
      "Deewaar (2004 film)\n",
      "Deewane Huye Paagal\n",
      "Dehraadun Diary\n",
      "Dekh Tamasha Dekh\n",
      "Delhi Belly (film)\n",
      "Delhi Safari\n",
      "Delhi-6\n",
      "Department (film)\n",
      "Deshdrohi\n",
      "Desi Boyz\n",
      "Desi Kattey\n",
      "Detective Byomkesh Bakshy!\n",
      "Dev (2004 film)\n",
      "Devaki (2005 film)\n",
      "Devdas (2002 Hindi film)\n",
      "Devi (2016 film)\n",
      "Dhadak\n",
      "Dhamaal\n",
      "Dhanak\n",
      "Dharam Sankat Mein\n",
      "Dharm (film)\n",
      "Dharti Kahe Pukar Ke (2006 film)\n",
      "Dhobi Ghat (film)\n",
      "Dhokha\n",
      "Dhol (film)\n",
      "Dhoom\n",
      "Dhoom 2\n",
      "Dhoom 3\n",
      "Dhoondte Reh Jaaoge\n",
      "Dhoop\n",
      "Dhund (2003 film)\n",
      "Dil Bechara\n",
      "Dil Bechara Pyaar Ka Maara\n",
      "Dil Bole Hadippa!\n",
      "Dil Dhadakne Do\n",
      "Dil Diya Hai\n",
      "Dil Dosti Etc\n",
      "Dil Jo Bhi Kahey...\n",
      "Dil Jo Na Keh Saka\n",
      "Dil Juunglee\n",
      "Dil Ka Rishta\n",
      "Dil Kabaddi\n",
      "Dil Maange More\n",
      "Dil Ne Jise Apna Kahaa\n",
      "Dil Pardesi Ho Gayaa\n",
      "Dil Toh Baccha Hai Ji\n",
      "Dil Toh Deewana Hai\n",
      "Dilliwali Zaalim Girlfriend\n",
      "Dilwale (2015 film)\n",
      "Direct Ishq\n",
      "Dirty Politics (film)\n",
      "Dishkiyaoon\n",
      "Dishoom\n",
      "Do Dooni Chaar\n",
      "Do Lafzon Ki Kahani (film)\n",
      "Dobaara: See Your Evil\n",
      "Dobara\n",
      "Dolly Ki Doli\n",
      "Don (2006 Hindi film)\n",
      "Don 2\n",
      "Don Muthu Swami\n",
      "Don't Stop Dreaming\n",
      "Dongari Ka Raja\n",
      "Dor (film)\n",
      "Dostana (2008 film)\n",
      "Dosti: Friends Forever\n",
      "Double Cross (2005 film)\n",
      "Double Dhamaal\n",
      "Dream Girl (2019 film)\n",
      "Dreams (2006 film)\n",
      "Drishyam (2015 film)\n",
      "Drona (2008 film)\n",
      "Dude Where's the Party?\n",
      "Dulha Mil Gaya\n",
      "Dum (2003 Hindi film)\n",
      "Dum Laga Ke Haisha\n",
      "Dum Maaro Dum (film)\n",
      "Dunno Y... Na Jaane Kyon\n",
      "Dus\n",
      "Dus Kahaniyaan\n",
      "Eight: The Power of Shani\n",
      "Ek Ajnabee\n",
      "Ek Alag Mausam\n",
      "Ek Aur Ek Gyarah\n",
      "Ek Chalis Ki Last Local\n",
      "Ek Din 24 Ghante\n",
      "Ek Haseena Thi Ek Deewana Tha\n",
      "Ek Hasina Thi (film)\n",
      "Ek Kahani Julie Ki\n",
      "Ek Khiladi Ek Haseena (film)\n",
      "Ek Main Aur Ekk Tu\n",
      "Ek Paheli Leela\n",
      "Ek Se Badhkar Ek (2004 film)\n",
      "Ek Se Bure Do\n",
      "Ek Second... Jo Zindagi Badal De?\n",
      "Ek Tha Tiger\n",
      "Ek Thi Daayan\n",
      "Ek Thi Rani Aisi Bhi\n",
      "Ek Villain\n",
      "Ek Vivaah... Aisa Bhi\n",
      "Ek: The Power of One\n",
      "Ekk Deewana Tha\n",
      "Ekkees Toppon Ki Salaami\n",
      "Eklavya: The Royal Guard\n",
      "Elaan (2005 film)\n",
      "Enemmy\n",
      "English Vinglish\n",
      "Entertainment (2014 film)\n",
      "Escape from Taliban\n",
      "Evening Shadows\n",
      "F.A.L.T.U\n",
      "Family (2006 film)\n",
      "Family of Thakurganj\n",
      "Familywala\n",
      "Fan (film)\n",
      "Fanaa (2006 film)\n",
      "Fareb (2005 film)\n",
      "Fashion (2008 film)\n",
      "Fatso!\n",
      "Ferrari Ki Sawaari\n",
      "Fever (2016 film)\n",
      "Fida\n",
      "Fight Club – Members Only\n",
      "Filmistaan\n",
      "Finding Fanny\n",
      "Firaaq\n",
      "Firangi\n",
      "Fitoor\n",
      "Flat 211\n",
      "Flavors (film)\n",
      "Fool & Final\n",
      "Footpath (2003 film)\n",
      "Force (2011 film)\n",
      "Force 2\n",
      "Fox (film)\n",
      "Fraud Saiyaan\n",
      "Freaky Ali\n",
      "Fredrick (film)\n",
      "From Sydney with Love\n",
      "Fruit and Nut (film)\n",
      "FryDay\n",
      "Fuddu\n",
      "Fugly (film)\n",
      "Fukrey\n",
      "Fukrey Returns\n",
      "Fun – Can Be Dangerous Sometimes\n",
      "Fun2shh... Dudes in the 10th Century\n",
      "G Kutta Se\n",
      "Gabbar Is Back\n",
      "Gabbar Is Back\n",
      "Gali Guleiyan\n",
      "Game (2011 film)\n",
      "Gandhi My Father\n",
      "Gang of Ghosts\n",
      "Gangaajal\n",
      "Gangoobai\n",
      "Gangs of Wasseypur\n",
      "Gangs of Wasseypur – Part 2\n",
      "Gangster (2006 film)\n",
      "Garam Masala (2005 film)\n",
      "Garv: Pride & Honour\n",
      "Gattu\n",
      "Gauri: The Unborn\n",
      "Gayab\n",
      "Genius (2018 Hindi film)\n",
      "Ghajini (2008 film)\n",
      "Ghanchakkar (film)\n",
      "Ghayal: Once Again\n",
      "Ghost (2012 film)\n",
      "Ghost (2019 film)\n",
      "Gippi\n",
      "Girlfriend (2004 film)\n",
      "Global Baba\n",
      "Go (2007 film)\n",
      "Go Goa Gone\n",
      "Goal (2007 Hindi film)\n",
      "God Tussi Great Ho\n",
      "Gold (2018 film)\n",
      "Goliyon Ki Raasleela Ram-Leela\n",
      "Gollu Aur Pappu\n",
      "Golmaal Again\n",
      "Golmaal Returns\n",
      "Golmaal: Fun Unlimited\n",
      "Gone Kesh\n",
      "Good Boy Bad Boy\n",
      "Good Newwz\n",
      "Gori Tere Pyaar Mein\n",
      "Gour Hari Dastaan\n",
      "Grand Masti\n",
      "Great Grand Masti\n",
      "Green Card Fever\n",
      "Guddu Ki Gun\n",
      "Guddu Rangeela\n",
      "Guest iin London\n",
      "Gulaab Gang\n",
      "Gulaal (film)\n",
      "Gulabi Gang (film)\n",
      "Gully Boy\n",
      "Gumnaam – The Mystery\n",
      "Gunday\n",
      "Guru (2007 film)\n",
      "Guzaarish (film)\n",
      "Haal-e-Dil\n",
      "Haasil\n",
      "Hai Apna Dil Toh Awara\n",
      "Haider (film)\n",
      "Half Girlfriend (film)\n",
      "Halkaa\n",
      "Halla Bol\n",
      "Hamari Adhuri Kahani\n",
      "Hamid (film)\n",
      "Hanuman (2005 film)\n",
      "Happy Bhag Jayegi\n",
      "Happy Ending (film)\n",
      "Happy Husbands (2011 film)\n",
      "Happy New Year (2014 film)\n",
      "Happy Phirr Bhag Jayegi\n",
      "Haraamkhor\n",
      "Hari Puttar: A Comedy of Terrors\n",
      "Hasee Toh Phasee\n",
      "Haseena Parkar\n",
      "Hastey Hastey\n",
      "Hate Story\n",
      "Hate Story 2\n",
      "Hate Story 4\n",
      "Hattrick (film)\n",
      "Hatya (2004 film)\n",
      "Haunted – 3D\n",
      "Hava Aney Dey\n",
      "Hawa (film)\n",
      "Hawaa Hawaai\n",
      "Hawaizaada\n",
      "Hawas (2004 film)\n",
      "Hawayein\n",
      "Hazaaron Khwaishein Aisi\n",
      "Heartless (2014 film)\n",
      "Helicopter Eela\n",
      "Hello (2008 film)\n",
      "Hello Darling\n",
      "Help (film)\n",
      "Hero (2015 Hindi film)\n",
      "Heroes (2008 film)\n",
      "Heroine (2012 film)\n",
      "Heropanti\n",
      "Hey Bro\n",
      "Heyy Babyy\n",
      "Hichki\n",
      "High Jack (film)\n",
      "Highway (2014 Hindi film)\n",
      "Himmatwala (2013 film)\n",
      "Hind Ka Napak Ko Jawab: MSG Lion Heart 2\n",
      "Hindi Medium\n",
      "Hisss\n",
      "Holiday (2006 film)\n",
      "Holiday: A Soldier Is Never Off Duty\n",
      "Home Delivery\n",
      "Honeymoon Travels Pvt. Ltd.\n",
      "Honour Killing (film)\n",
      "Hope Aur Hum\n",
      "Horror Story (film)\n",
      "Hostel (2011 film)\n",
      "Hotel Salvation\n",
      "Housefull (2010 film)\n",
      "Housefull 2\n",
      "Housefull 4\n",
      "Hulchul (2004 film)\n",
      "Hum Chaar\n",
      "Hum Hai Raahi Car Ke\n",
      "Hum Tum\n",
      "Hum Tum Aur Ghost\n",
      "Hum Tum Shabana\n",
      "Hum Tumhare Hain Sanam\n",
      "Hume Tumse Pyaar Kitna\n",
      "Humko Deewana Kar Gaye\n",
      "Humko Tumse Pyaar Hai\n",
      "Humne Jeena Seekh Liya\n",
      "Humpty Sharma Ki Dulhania\n",
      "Humshakals\n",
      "Hungama (2003 film)\n",
      "Hunterrr\n",
      "Hyderabad Blues 2\n",
      "I Am (2010 Indian film)\n",
      "I Am Kalam\n",
      "I Hate Luv Storys\n",
      "I Love Desi\n",
      "I Love NY (2015 film)\n",
      "I Proud to Be an Indian\n",
      "I See You (2006 film)\n",
      "Impatient Vivek\n",
      "India's Most Wanted (film)\n",
      "Indian Babu\n",
      "Indu Sarkar\n",
      "Inkaar (2013 film)\n",
      "Insaaf: The Justice\n",
      "Insan\n",
      "Inteha (2003 film)\n",
      "Inteqam: The Perfect Game\n",
      "Iqbal (film)\n",
      "Iqraar by Chance\n",
      "Irada (2017 film)\n",
      "Irudhi Suttru\n",
      "Ishaqzaade\n",
      "Ishkq in Paris\n",
      "Ishq Click\n",
      "Ishq Forever\n",
      "Ishq Hai Tumse\n",
      "Ishq Ke Parindey\n",
      "Ishq Vishk\n",
      "Ishqedarriyaan\n",
      "Ishqeria\n",
      "Ishqiya\n",
      "Isi Life Mein\n",
      "Island City (2015 film)\n",
      "Issaq\n",
      "It's a Wonderful Afterlife\n",
      "JD (film)\n",
      "Jaal: The Trap\n",
      "Jaan-E-Mann\n",
      "Jaane Hoga Kya\n",
      "Jaane Kahan Se Aayi Hai\n",
      "Jaane Kyun De Yaaron\n",
      "Jab Harry Met Sejal\n",
      "Jab Tak Hai Jaan\n",
      "Jab We Met\n",
      "Jabariya Jodi\n",
      "Jack and Dil\n",
      "Jackpot (2013 film)\n",
      "Jagga Jasoos\n",
      "Jahan Jaaeyega Hamen Paaeyega\n",
      "Jai Chiranjeeva\n",
      "Jai Gangaajal\n",
      "Jai Ho (film)\n",
      "Jai Jawaan Jai Kisaan (film)\n",
      "Jai Veeru\n",
      "Jail (2009 film)\n",
      "Jajantaram Mamantaram\n",
      "Jal (film)\n",
      "Jalebi (film)\n",
      "Jalpari: The Desert Mermaid\n",
      "James (2005 film)\n",
      "Janasheen\n",
      "Jannat (film)\n",
      "Jattu Engineer\n",
      "Jawani Diwani: A Youthful Joyride\n",
      "Jayantabhai Ki Luv Story\n",
      "Jazbaa\n",
      "Jeena Hai Toh Thok Daal\n",
      "Jeena Isi Ka Naam Hai (film)\n",
      "Jhalki\n",
      "Jhankaar Beats\n",
      "Jhoom Barabar Jhoom\n",
      "Jhootha Hi Sahi\n",
      "Jhootha Kahin Ka\n",
      "Jia Aur Jia\n",
      "Jigariyaa\n",
      "Jigyaasa\n",
      "Jimmy (2008 film)\n",
      "Jism (2003 film)\n",
      "Jo Bole So Nihaal (film)\n",
      "Jo Hum Chahein\n",
      "Jodhaa Akbar\n",
      "Jodi Breakers\n",
      "Joggers' Park (film)\n",
      "John Day (film)\n",
      "Johnny Gaddaar\n",
      "Joker (2012 film)\n",
      "Jolly LLB\n",
      "Judgementall Hai Kya\n",
      "Judwaa 2\n",
      "Jugni (2016 film)\n",
      "Julie (2004 film)\n",
      "Julie 2\n",
      "Junglee (2019 film)\n",
      "Junooniyat\n",
      "Jurm (2005 film)\n",
      "Just Married (2007 film)\n",
      "Kaabil\n",
      "Kaagaz Ke Fools\n",
      "Kaal (2005 film)\n",
      "Kaalakaandi\n",
      "Kaalo\n",
      "Kaanchi: The Unbreakable\n",
      "Kaante\n",
      "Kaashi in Search of Ganga\n",
      "Kabhi Alvida Naa Kehna\n",
      "Kabir Singh\n",
      "Kabul Express\n",
      "Kadvi Hawa\n",
      "Kagaar: Life on the Edge\n",
      "Kahaani\n",
      "Kahin Hai Mera Pyar\n",
      "Kai Po Che!\n",
      "Kaise Kahoon Ke... Pyaar Hai\n",
      "Kal Ho Naa Ho\n",
      "Kalank\n",
      "Kalyug (2005 film)\n",
      "Kaminey\n",
      "Kapoor & Sons\n",
      "Karam (film)\n",
      "Karar: The Deal\n",
      "Karle Pyaar Karle\n",
      "Karma Aur Holi\n",
      "Karthik Calling Karthik\n",
      "Karwaan\n",
      "Karzzzz\n",
      "Kasak (2005 film)\n",
      "Kash Aap Hamare Hote\n",
      "Katti Batti\n",
      "Kaun Hai Jo Sapno Mein Aaya\n",
      "Kaun Kitne Paani Mein\n",
      "Keep Safe Distance (film)\n",
      "Kesari (film)\n",
      "Khajoor Pe Atke\n",
      "Khakee\n",
      "Khamosh Pani\n",
      "Khamoshh... Khauff Ki Raat\n",
      "Khamoshi (2019 film)\n",
      "Khamoshiyan\n",
      "Khap (film)\n",
      "Khatta Meetha (2010 film)\n",
      "Khel Toh Ab Shuru Hoga\n",
      "Khel – No Ordinary Game\n",
      "Khichdi: The Movie\n",
      "Khoobsurat (2014 film)\n",
      "Khosla Ka Ghosla\n",
      "Khoya Khoya Chand\n",
      "Khuda Kasam\n",
      "Khushi (2003 Hindi film)\n",
      "Khwaabb\n",
      "Khwahish\n",
      "Ki & Ka\n",
      "Kick (2014 film)\n",
      "Kill Dil\n",
      "Kis Kis Ki Kismat\n",
      "Kis Kisko Pyaar Karoon\n",
      "Kisaan\n",
      "Kismat (2004 film)\n",
      "Kismat Konnection\n",
      "Kismat Love Paisa Dilli\n",
      "Kisna: The Warrior Poet\n",
      "Kisse Pyaar Karoon\n",
      "Kites (film)\n",
      "Knock Out (2010 film)\n",
      "Koi Aap Sa\n",
      "Koi Mere Dil Mein Hai\n",
      "Koi... Mil Gaya\n",
      "Koyelaanchal\n",
      "Krazzy 4\n",
      "Krishna Aur Kans\n",
      "Krishna Cottage\n",
      "Krrish\n",
      "Kucch Luv Jaisaa\n",
      "Kucch To Hai\n",
      "Kuch Kuch Locha Hai\n",
      "Kuch Naa Kaho\n",
      "Kuchh Bheege Alfaaz\n",
      "Kuchh Meetha Ho Jaye\n",
      "Kudiyon Ka Hai Zamana\n",
      "Kuku Mathur Ki Jhand Ho Gayi\n",
      "Kurbaan (2009 film)\n",
      "Kushti (film)\n",
      "Kya Dilli Kya Lahore\n",
      "Kya Love Story Hai\n",
      "Kyaa Kool Hai Hum\n",
      "Kyaa Kool Hain Hum 3\n",
      "Kyaa Super Kool Hain Hum\n",
      "Kyon Ki\n",
      "Kyun! Ho Gaya Na...\n",
      "LOC Kargil\n",
      "Laaga Chunari Mein Daag\n",
      "Laal Rang\n",
      "Ladies vs Ricky Bahl\n",
      "Lafangey Parindey\n",
      "Lage Raho Munna Bhai\n",
      "Lahore (film)\n",
      "Laila Majnu (2018 film)\n",
      "Lakeer – Forbidden Lines\n",
      "Lakshmi (2014 film)\n",
      "Lakshya (film)\n",
      "Lamhaa\n",
      "Lekar Hum Deewana Dil\n",
      "Life Express (2010 film)\n",
      "Life Is Beautiful (2014 film)\n",
      "Life Ki Toh Lag Gayi\n",
      "Life Mein Kabhie Kabhiee\n",
      "Life Partner\n",
      "Life in a... Metro\n",
      "Lipstick Under My Burkha\n",
      "Listen... Amaya\n",
      "Little Zizou\n",
      "Login (film)\n",
      "Loins of Punjab Presents\n",
      "London Dreams\n",
      "Lootera\n",
      "Love Aaj Kal\n",
      "Love Breakups Zindagi\n",
      "Love Games (film)\n",
      "Love Ke Chakkar Mein\n",
      "Love Sex Aur Dhokha\n",
      "Love Shagun\n",
      "Love Sonia\n",
      "Love Story 2050\n",
      "Love U...Mr. Kalakaar!\n",
      "Love in Bombay\n",
      "Love per Square Foot\n",
      "Loveshhuda\n",
      "Luck (2009 film)\n",
      "Luck by Chance\n",
      "Luckhnowi Ishq\n",
      "Lucknow Central\n",
      "Lucky Kabootar\n",
      "Lucky: No Time for Love\n",
      "Luv U Alia\n",
      "Luv U Soniyo\n",
      "M Cream\n",
      "M.S. Dhoni: The Untold Story\n",
      "MP3: Mera Pehla Pehla Pyaar\n",
      "MSG-2 The Messenger\n",
      "MSG: The Messenger\n",
      "MSG: The Warrior Lion Heart\n",
      "Maan Gaye Mughal-e-Azam\n",
      "Maatr\n",
      "Maazii\n",
      "Machhli Jal Ki Rani Hai\n",
      "Machine (2017 film)\n",
      "Mad About Dance\n",
      "Madaari\n",
      "Made in China (2019 film)\n",
      "Madhoshi\n",
      "Madras Cafe\n",
      "Magic Magic 3D\n",
      "Mai (2013 film)\n",
      "Main Aisa Hi Hoon\n",
      "Main Aur Mr. Riight\n",
      "Main Aurr Mrs Khanna\n",
      "Main Hoon Na\n",
      "Main Hoon Part-Time Killer\n",
      "Main Krishna Hoon\n",
      "Main Madhuri Dixit Banna Chahti Hoon\n",
      "Main Meri Patni Aur Woh\n",
      "Main Prem Ki Diwani Hoon\n",
      "Main Tera Hero\n",
      "Maine Gandhi Ko Nahin Mara\n",
      "Maine Pyaar Kyun Kiya?\n",
      "Malamaal Weekly\n",
      "Malik Ek\n",
      "Mangal Pandey: The Rising\n",
      "Manikarnika: The Queen of Jhansi\n",
      "Manjhi – The Mountain Man\n",
      "Manjunath (film)\n",
      "Manmarziyaan\n",
      "Manorama Six Feet Under\n",
      "Manto (2018 film)\n",
      "Mantra (2016 film)\n",
      "Maqbool\n",
      "Mard Ko Dard Nahi Hota\n",
      "Mardaani\n",
      "Mardaani 2\n",
      "Margarita with a Straw\n",
      "Marigold (2007 film)\n",
      "Marjaavaan\n",
      "Market (2003 film)\n",
      "Married 2 America\n",
      "Mary Kom (film)\n",
      "Masaan\n",
      "Masti (2004 film)\n",
      "Mastizaade\n",
      "Mastram\n",
      "Matru Ki Bijlee Ka Mandola\n",
      "Matrubhoomi\n",
      "Mausam (2011 film)\n",
      "Maximum (film)\n",
      "Meenaxi: A Tale of Three Cities\n",
      "Meerabai Not Out\n",
      "Meeruthiya Gangsters\n",
      "Meinu Ek Ladki Chaahiye\n",
      "Memories in March\n",
      "Mercury (film)\n",
      "Mere Baap Pehle Aap\n",
      "Mere Brother Ki Dulhan\n",
      "Mere Dad Ki Maruti\n",
      "Mere Dost Picture Abhi Baki Hai\n",
      "Mere Genie Uncle\n",
      "Mere Jeevan Saathi (2006 film)\n",
      "Mere Pyare Prime Minister\n",
      "Meri Biwi Ka Jawaab Nahin\n",
      "Meri Pyaari Bindu\n",
      "Mickey Virus\n",
      "Milenge Milenge\n",
      "Miley Naa Miley Hum\n",
      "Mirch\n",
      "Mirzya (film)\n",
      "Miss Tanakpur Haazir Ho\n",
      "Missing (2018 film)\n",
      "Mission Istaanbul\n",
      "Mission Mangal\n",
      "Mitron\n",
      "Mittal v/s Mittal\n",
      "Moh Maya Money\n",
      "Mohalla Assi\n",
      "Mohenjo Daro (film)\n",
      "Mom (film)\n",
      "Money Hai Toh Honey Hai\n",
      "Monica (film)\n",
      "Monsoon Shootout\n",
      "Morning Raga\n",
      "Motichoor Chaknachoor\n",
      "Motu Patlu: King of Kings\n",
      "Mr Prime Minister\n",
      "Mr. Bhatti on Chutti\n",
      "Mr. Singh Mrs. Mehta\n",
      "Mr. X (2015 film)\n",
      "Mubarakan\n",
      "Mughal-e-Azam\n",
      "Mujhse Fraaandship Karoge\n",
      "Mujhse Shaadi Karogi\n",
      "Mukhbiir\n",
      "Mukkabaaz\n",
      "Mulk (film)\n",
      "Mumbai 125 KM\n",
      "Mumbai Can Dance Saala\n",
      "Mumbai Delhi Mumbai\n",
      "Mumbai Mast Kallander\n",
      "Mumbai Matinee\n",
      "Mumbai Meri Jaan\n",
      "Mumbai Salsa\n",
      "Mumbai Se Aaya Mera Dost\n",
      "Mumbhai Connection\n",
      "Mummy Punjabi\n",
      "Munna Bhai M.B.B.S.\n",
      "Munna Michael\n",
      "Murari the Mad Gentleman\n",
      "Murder (2004 film)\n",
      "Murder 2\n",
      "Murder 3\n",
      "Musafir (2004 film)\n",
      "Muskaan\n",
      "My Birthday Song\n",
      "My Bollywood Bride\n",
      "My Brother…Nikhil\n",
      "My Friend Pinto\n",
      "My Name Is Khan\n",
      "My Wife's Murder\n",
      "NH-8 Road to Nidhivan\n",
      "NH10 (film)\n",
      "Na Ghar Ke Na Ghaat Ke\n",
      "Naach (2004 film)\n",
      "Naam Shabana\n",
      "Naina (2005 film)\n",
      "Naksha\n",
      "Namaste England\n",
      "Namastey London\n",
      "Nanhe Jaisalmer\n",
      "Nanu Ki Jaanu\n",
      "Naqaab\n",
      "Nasha (film)\n",
      "Naughty @ 40\n",
      "Nautanki Saala!\n",
      "Nawabzaade\n",
      "Nayee Padosan\n",
      "Neal 'n' Nikki\n",
      "Neerja\n",
      "Nehlle Pe Dehlla\n",
      "Netaji Subhas Chandra Bose: The Forgotten Hero\n",
      "New York (2009 film)\n",
      "Newton (film)\n",
      "Nil Battey Sannata\n",
      "Nirdosh\n",
      "Nishabd\n",
      "No Entry\n",
      "No One Killed Jessica\n",
      "No Problem (2010 film)\n",
      "No Smoking (2007 film)\n",
      "Noor (film)\n",
      "Not a Love Story (2011 film)\n",
      "Notebook (2019 film)\n",
      "Nothing but Life\n",
      "O Teri\n",
      "OMG – Oh My God!\n",
      "October (2018 film)\n",
      "Oh My God (2008 film)\n",
      "Ok Jaanu\n",
      "Om (2003 film)\n",
      "Om Shanti Om\n",
      "Om-Dar-B-Dar\n",
      "Omerta (film)\n",
      "Omkara (2006 film)\n",
      "Once Upon a Time in Mumbaai\n",
      "Once Upon ay Time in Mumbai Dobaara!\n",
      "One Day: Justice Delivered\n",
      "One Two Three\n",
      "One by Two (2014 film)\n",
      "Out of Control (2003 film)\n",
      "Oye Lucky! Lucky Oye!\n",
      "P Se PM Tak\n",
      "P Se Pyaar F Se Faraar\n",
      "PK (film)\n",
      "PM Narendra Modi\n",
      "Paa (film)\n",
      "Paan Singh Tomar (film)\n",
      "Paanch Ghantey Mien Paanch Crore\n",
      "Paap\n",
      "Paathshaala\n",
      "Padmaavat\n",
      "Padmashree Laloo Prasad Yadav\n",
      "Pagalpanti (2019 film)\n",
      "Page 3 (film)\n",
      "Paheli\n",
      "Paisa Vasool\n",
      "Pal Pal Dil Ke Paas\n",
      "Paltan (film)\n",
      "Panchlait\n",
      "Pankh\n",
      "Paranthe Wali Gali\n",
      "Parched\n",
      "Parineeta (2005 film)\n",
      "Parmanu: The Story of Pokhran\n",
      "Partner (2007 film)\n",
      "Parwana (2003 film)\n",
      "Pataakha\n",
      "Patel Ki Punjabi Shaadi\n",
      "Pati Patni Aur Woh (2019 film)\n",
      "Patiala House (film)\n",
      "Paying Guests\n",
      "Peepli Live\n",
      "Pehchaan: The Face of Truth\n",
      "Phamous\n",
      "Phantom (2015 film)\n",
      "Phas Gaye Re Obama\n",
      "Phata Poster Nikhla Hero\n",
      "Phhir\n",
      "Phillauri (film)\n",
      "Phir Hera Pheri\n",
      "Phir Kabhi\n",
      "Phir Milenge\n",
      "Phobia (2016 film)\n",
      "Phoonk 2\n",
      "Photograph (film)\n",
      "Pihu\n",
      "Piku\n",
      "Pinjar (film)\n",
      "Pink (2016 film)\n",
      "Pizza (2014 film)\n",
      "Plan (film)\n",
      "Players (2012 film)\n",
      "Police Force: An Inside Story\n",
      "Policegiri\n",
      "Popcorn Khao! Mast Ho Jao\n",
      "Poster Boys\n",
      "Praan Jaye Par Shaan Na Jaye\n",
      "Prague (2013 film)\n",
      "Pranaam\n",
      "Prassthanam\n",
      "Prateeksha\n",
      "Prem Kaa Game\n",
      "Prem Ratan Dhan Payo\n",
      "Prince (2010 film)\n",
      "Purani Jeans\n",
      "Pyaar Impossible!\n",
      "Pyaar Ka Punchnama\n",
      "Pyaar Ka Punchnama 2\n",
      "Pyaar Ke Side Effects\n",
      "Pyaar Mein Twist\n",
      "Pyare Mohan\n",
      "Qaidi Band\n",
      "Qarib Qarib Singlle\n",
      "Qayamat: City Under Threat\n",
      "Qissa (film)\n",
      "Queen (2014 film)\n",
      "Quick Gun Murugun\n",
      "Ra.One\n",
      "Raabta (film)\n",
      "Raag Desh (film)\n",
      "Raanjhanaa\n",
      "Raat Gayi Baat Gayi?\n",
      "Raavan\n",
      "Raaz (2002 film)\n",
      "Raaz: Reboot\n",
      "Raaz: The Mystery Continues\n",
      "Raazi\n",
      "Rab Ne Bana Di Jodi\n",
      "Race (2008 film)\n",
      "Race 2\n",
      "Race 3\n",
      "Raees (film)\n",
      "Raghu Romeo\n",
      "Ragini MMS\n",
      "Ragini MMS 2\n",
      "Rahasya\n",
      "Raid (2018 film)\n",
      "Raincoat (film)\n",
      "Raja Bhaiya (film)\n",
      "Raja Natwarlal\n",
      "Rajjo\n",
      "Rajma Chawal\n",
      "Rakht\n",
      "Rakhtbeej\n",
      "Ramaa: The Saviour\n",
      "Ramaiya Vastavaiya\n",
      "Raman Raghav 2.0\n",
      "Ramayana: The Epic\n",
      "Ramji Londonwaley\n",
      "Ramprasad Ki Tehrvi\n",
      "Ranbanka\n",
      "Ranchi Diaries\n",
      "Rang De Basanti\n",
      "Rang Rasiya\n",
      "Rangoon (2017 Hindi film)\n",
      "Rangrezz\n",
      "Rann (film)\n",
      "Raqeeb\n",
      "Rascals (2011 film)\n",
      "Rebellious Flower\n",
      "Red Alert: The War Within\n",
      "Red Swastik\n",
      "Red: The Dark Side\n",
      "Revati (film)\n",
      "Revolver Rani\n",
      "Ribbon (film)\n",
      "Right Here Right Now (film)\n",
      "Right Yaaa Wrong\n",
      "Risk (2007 film)\n",
      "Risknamaa\n",
      "Riyasat (film)\n",
      "Road to Sangam\n",
      "Roadside Romeo\n",
      "Roar: Tigers of the Sundarbans\n",
      "Rock On 2\n",
      "Rock On!!\n",
      "Rocket Singh: Salesman of the Year\n",
      "Rockstar (2011 film)\n",
      "Rocky Handsome\n",
      "Rog\n",
      "Rok Sako To Rok Lo\n",
      "Rokkk\n",
      "Rough Book\n",
      "Roy (film)\n",
      "Rudraksh (film)\n",
      "Rukh (film)\n",
      "Rules: Pyaar Ka Superhit Formula\n",
      "Run (2004 film)\n",
      "Running Shaadi\n",
      "Rush (2012 film)\n",
      "Rustom (film)\n",
      "Saaho\n",
      "Saand Ki Aankh\n",
      "Saankal\n",
      "Saansein\n",
      "Saare Jahaan Se Mehnga\n",
      "Saas Bahu Aur Sensex\n",
      "Saat Uchakkey\n",
      "Saathiya (film)\n",
      "Saawan... The Love Season\n",
      "Saawariya\n",
      "Saaya (2003 film)\n",
      "Sabki Bajegi Band\n",
      "Sachin: A Billion Dreams\n",
      "Sacred Evil – A True Story\n",
      "Sadda Adda\n",
      "Sadiyaan\n",
      "Saheb Biwi Aur Gangster\n",
      "Saheb Biwi Aur Gangster 3\n",
      "Saheb Biwi Aur Gangster Returns\n",
      "Sahi Dhandhe Galat Bande\n",
      "Salaam Namaste\n",
      "Salaam-e-Ishq: A Tribute to Love\n",
      "Sallu Ki Shaadi\n",
      "Samay: When Time Strikes\n",
      "Samrat & Co.\n",
      "Sanam Re\n",
      "Sandwich (2006 film)\n",
      "Sanju\n",
      "Sankat City\n",
      "Santa Banta Pvt Ltd\n",
      "Sarbjit (film)\n",
      "Sarhad Paar\n",
      "Sarkar (2005 film)\n",
      "Sarkar 3\n",
      "Sarkar Raj\n",
      "Satellite Shankar\n",
      "Satrangee Parachute\n",
      "Satta (film)\n",
      "Satya 2\n",
      "Satyagraha (film)\n",
      "Satyameva Jayate (2018 film)\n",
      "Say Salaam India\n",
      "Second Hand Husband\n",
      "Secret Superstar\n",
      "Section 375\n",
      "Sehar\n",
      "Setters (film)\n",
      "Shaadi Ka Laddoo\n",
      "Shaadi Karke Phas Gaya Yaar\n",
      "Shaadi Ke Side Effects\n",
      "Shaadi Mein Zaroor Aana\n",
      "Shaadi No. 1\n",
      "Shaadi Se Pehle\n",
      "Shaandaar\n",
      "Shaapit\n",
      "Shab (film)\n",
      "Shabd (film)\n",
      "Shabnam Mausi\n",
      "Shabri\n",
      "Shagird (2011 film)\n",
      "Shahid (film)\n",
      "Shaitan (film)\n",
      "Shakalaka Boom Boom\n",
      "Shamitabh\n",
      "Shanghai (2012 film)\n",
      "Sharafat Gayi Tel Lene\n",
      "Shart: The Challenge\n",
      "Sheen (film)\n",
      "Sheesha (2005 film)\n",
      "Shikhar (film)\n",
      "Ship of Theseus (film)\n",
      "Shirin Farhad Ki Toh Nikal Padi\n",
      "Shiva (2006 film)\n",
      "Shivaay\n",
      "Sholay\n",
      "Shootout at Lokhandwala\n",
      "Shor in the City\n",
      "Shorgul\n",
      "Shortcut Romeo\n",
      "Shortcut Safari\n",
      "Shortkut\n",
      "Showbiz (film)\n",
      "Shubh Mangal Saavdhan\n",
      "Shuddh Desi Romance\n",
      "Shukriya: Till Death Do Us Apart\n",
      "Siddharth (2013 film)\n",
      "Sikandar (2009 film)\n",
      "Silsiilay\n",
      "Simmba\n",
      "Simran (film)\n",
      "Singh Is Bliing\n",
      "Singh Is Kinng\n",
      "Singh Saab the Great\n",
      "Singham\n",
      "Singham Returns\n",
      "Sirf (film)\n",
      "Sixteen (2013 Indian film)\n",
      "Soch Lo\n",
      "Socha Na Tha\n",
      "Son of Sardaar\n",
      "Sonali Cable\n",
      "Sonchiriya\n",
      "Soni (film)\n",
      "Sons of Ram\n",
      "Sonu Ke Titu Ki Sweety\n",
      "Sooper Se Ooper\n",
      "Sorry Bhai!\n",
      "Sorry Daddy\n",
      "Souten: The Other Woman\n",
      "Spark (2014 film)\n",
      "Special 26\n",
      "Speed (2007 film)\n",
      "Sssshhh...\n",
      "Ssukh\n",
      "Stanley Ka Dabba\n",
      "Station (2014 film)\n",
      "Staying Alive (2012 film)\n",
      "Strangers (2007 Hindi film)\n",
      "Stree (2018 film)\n",
      "Striker (2010 film)\n",
      "Strings of Passion\n",
      "Student of the Year\n",
      "Student of the Year 2\n",
      "Stumped (film)\n",
      "Sui Dhaaga\n",
      "Sukhmani: Hope for Life\n",
      "Sulemani Keeda\n",
      "Sultan (2016 film)\n",
      "Summer 2007\n",
      "Sunday (2008 film)\n",
      "Sunglass (film)\n",
      "Suno Sasurjee\n",
      "Super 30 (film)\n",
      "Super Model (film)\n",
      "Super Nani\n",
      "Swades\n",
      "Swami (2007 film)\n",
      "Sweetiee Weds NRI\n",
      "Ta Ra Rum Pum\n",
      "Taare Zameen Par\n",
      "Taarzan: The Wonder Car\n",
      "Table No. 21\n",
      "Tahaan\n",
      "Taj Mahal: An Eternal Love Story\n",
      "Take It Easy (2015 film)\n",
      "Talaash: The Answer Lies Within\n",
      "Talaash: The Hunt Begins...\n",
      "Talvar (film)\n",
      "Tamanchey\n",
      "Tango Charlie\n",
      "Tanu Weds Manu\n",
      "Tanu Weds Manu: Returns\n",
      "Tanu Weds Manu: Returns\n",
      "Tashan (film)\n",
      "Tathastu\n",
      "Taxi No. 9211\n",
      "Te3n\n",
      "Teen Patti (film)\n",
      "Teen Thay Bhai\n",
      "Tees Maar Khan (2010 film)\n",
      "Teesri Aankh: The Hidden Camera\n",
      "Tehzeeb (2003 film)\n",
      "Tell Me O Kkhuda\n",
      "Tera Kya Hoga Johnny\n",
      "Tere Bin Laden\n",
      "Tere Bin Laden: Dead or Alive\n",
      "Tere Mere Phere\n",
      "Tere Naal Love Ho Gaya\n",
      "Tere Naam\n",
      "Teri Meri Kahaani (film)\n",
      "Tevar\n",
      "Tezz\n",
      "Thackeray (film)\n",
      "Thank You (2011 film)\n",
      "Thanks Maa\n",
      "The Accidental Prime Minister (film)\n",
      "The Blue Umbrella (2005 film)\n",
      "The Blueberry Hunt\n",
      "The Bypass\n",
      "The Dirty Picture\n",
      "The Film\n",
      "The Film Emotional Atyachar\n",
      "The Final Exit\n",
      "The Ghazi Attack\n",
      "The Hero: Love Story of a Spy\n",
      "The Japanese Wife\n",
      "The Journey of Karma\n",
      "The Killer (2006 film)\n",
      "The Last Lear\n",
      "The Lunchbox\n",
      "The Namesake (film)\n",
      "The Pink Mirror\n",
      "The Shaukeens\n",
      "The Silent Heroes\n",
      "The Sky Is Pink\n",
      "The Stoneman Murders\n",
      "The Tashkent Files\n",
      "The Train (2007 film)\n",
      "The Xposé\n",
      "The Zoya Factor (film)\n",
      "Thoda Lutf Thoda Ishq\n",
      "Thoda Pyaar Thoda Magic\n",
      "Thoda Tum Badlo Thoda Hum\n",
      "Thodi Life Thoda Magic\n",
      "Thugs of Hindostan\n",
      "Tiger Zinda Hai\n",
      "Titli (2014 film)\n",
      "Titoo MBA\n",
      "Toh Baat Pakki!\n",
      "Toilet: Ek Prem Katha\n",
      "Tom Dick and Harry (2006 film)\n",
      "Toonpur Ka Super Hero\n",
      "Total Dhamaal\n",
      "Total Siyapaa\n",
      "Traffic (2016 film)\n",
      "Traffic Signal (film)\n",
      "Trapped (2016 Hindi film)\n",
      "Trump Card (film)\n",
      "Tubelight (2017 Hindi film)\n",
      "Tujhe Meri Kasam\n",
      "Tulsi (film)\n",
      "Tum Bin II\n",
      "Tum Mile\n",
      "Tum Milo Toh Sahi\n",
      "Tumbbad\n",
      "Tumhari Sulu\n",
      "Tumsa Nahin Dekha: A Love Story\n",
      "Turning 30\n",
      "U Me Aur Hum\n",
      "U R My Jaan\n",
      "Udaan (2010 film)\n",
      "Udta Punjab\n",
      "Ugly (film)\n",
      "Ujda Chaman\n",
      "Umar (film)\n",
      "Umrao Jaan (2006 film)\n",
      "Umrika\n",
      "Ungli\n",
      "Union Leader (film)\n",
      "United Six\n",
      "Uri: The Surgical Strike\n",
      "Utt Pataang\n",
      "Utthaan\n",
      "Uvaa\n",
      "Vaada (film)\n",
      "Vaada Raha\n",
      "Vaah! Life Ho Toh Aisi!\n",
      "Vaastu Shastra (film)\n",
      "Valentine's Night\n",
      "Veer (2010 film)\n",
      "Veer-Zaara\n",
      "Veerappan (2016 film)\n",
      "Veerey Ki Wedding\n",
      "Via Darjeeling\n",
      "Viceroy's House (film)\n",
      "Vicky Donor\n",
      "Victory (2009 film)\n",
      "Vidyaarthi\n",
      "Viruddh... Family Comes First\n",
      "Vishwaroopam\n",
      "Vivah\n",
      "Vodka Diaries\n",
      "W (2014 film)\n",
      "Waarrior Savitri\n",
      "Wafa: A Deadly Love Story\n",
      "Wah Taj\n",
      "Waisa Bhi Hota Hai Part II\n",
      "Waiting (2015 film)\n",
      "Wajah Tum Ho\n",
      "Wake Up India\n",
      "Wake Up Sid\n",
      "Wanted (2009 film)\n",
      "Waqt: The Race Against Time\n",
      "War Chhod Na Yaar\n",
      "Waris Shah: Ishq Daa Waaris\n",
      "Wedding Anniversary\n",
      "Wedding Pullav\n",
      "Welcome (2007 film)\n",
      "Welcome 2 Karachi\n",
      "Welcome Back (film)\n",
      "Welcome to Sajjanpur\n",
      "Well Done Abba\n",
      "What the Fish\n",
      "What's Your Raashee?\n",
      "Why Cheat India\n",
      "Woh Lamhe...\n",
      "Woodstock Villa\n",
      "Xcuse Me\n",
      "Ya Rab\n",
      "Yaaram (2019 film)\n",
      "Yadvi – The Dignified Princess\n",
      "Yakeen (2005 film)\n",
      "Yamla Pagla Deewana\n",
      "Yamla Pagla Deewana: Phir Se\n",
      "Yatra (2007 film)\n",
      "Yeh Dil\n",
      "Yeh Dooriyan\n",
      "Yeh Hai Bakrapur\n",
      "Yeh Hai India\n",
      "Yeh Jawaani Hai Deewani\n",
      "Yeh Khula Aasmaan\n",
      "Yeh Lamhe Judaai Ke\n",
      "Yeh Mera India\n",
      "Yeh Saali Aashiqui\n",
      "Youngistaan\n",
      "Yun Hota Toh Kya Hota\n",
      "Yuva\n",
      "Yuvvraaj\n",
      "Zamaanat\n",
      "Zameen (2003 film)\n",
      "Zameer: The Fire Within\n",
      "Zed Plus\n",
      "Zeher\n",
      "Zero (2018 film)\n",
      "Zid (2014 film)\n",
      "Zila Ghaziabad\n",
      "Zinda (film)\n",
      "Zindaggi Rocks\n",
      "Zindagi 50-50\n",
      "Zindagi Na Milegi Dobara\n",
      "Zindagi Tere Naam\n",
      "Zokkomon\n",
      "Zor Lagaa Ke...Haiya!\n"
     ]
    }
   ],
   "source": [
    "for i in movies.index: \n",
    "    print(i)"
   ]
  },
  {
   "cell_type": "code",
   "execution_count": 134,
   "id": "9507a207-7f4d-4356-b47e-891c5bbc5182",
   "metadata": {},
   "outputs": [],
   "source": [
    "#airthmetic operator(Broadcasting)"
   ]
  },
  {
   "cell_type": "code",
   "execution_count": 135,
   "id": "11edcc91-65b7-447d-88ca-f63bbcd5b99b",
   "metadata": {},
   "outputs": [
    {
     "data": {
      "text/plain": [
       "Maths        0\n",
       "Physics      1\n",
       "Chemistry    4\n",
       "Hindi        0\n",
       "s.s          2\n",
       "Name: Ramdhan ke Marks, dtype: int64"
      ]
     },
     "execution_count": 135,
     "metadata": {},
     "output_type": "execute_result"
    }
   ],
   "source": [
    "100-MARKS"
   ]
  },
  {
   "cell_type": "code",
   "execution_count": 136,
   "id": "0da6e3a7-793a-453a-a9a5-7a2e1488f901",
   "metadata": {},
   "outputs": [
    {
     "data": {
      "text/plain": [
       "Maths        100\n",
       "Physics       99\n",
       "Chemistry     96\n",
       "Hindi        100\n",
       "s.s           98\n",
       "Name: Ramdhan ke Marks, dtype: int64"
      ]
     },
     "execution_count": 136,
     "metadata": {},
     "output_type": "execute_result"
    }
   ],
   "source": [
    "MARKS"
   ]
  },
  {
   "cell_type": "code",
   "execution_count": 137,
   "id": "0225e89f-7dfc-4088-9920-e97f45d125ed",
   "metadata": {},
   "outputs": [
    {
     "data": {
      "text/plain": [
       "Maths        200\n",
       "Physics      199\n",
       "Chemistry    196\n",
       "Hindi        200\n",
       "s.s          198\n",
       "Name: Ramdhan ke Marks, dtype: int64"
      ]
     },
     "execution_count": 137,
     "metadata": {},
     "output_type": "execute_result"
    }
   ],
   "source": [
    "100+MARKS"
   ]
  },
  {
   "cell_type": "code",
   "execution_count": 138,
   "id": "5ff9ec0b-ba80-4996-bda4-47e4b51c8c4a",
   "metadata": {},
   "outputs": [],
   "source": [
    "#Relational operator"
   ]
  },
  {
   "cell_type": "code",
   "execution_count": 139,
   "id": "1cb6d3c5-a348-4ffd-9bcc-972ef68a2f01",
   "metadata": {},
   "outputs": [
    {
     "data": {
      "text/plain": [
       "match_no\n",
       "1      False\n",
       "2      False\n",
       "3      False\n",
       "4      False\n",
       "5      False\n",
       "       ...  \n",
       "211    False\n",
       "212    False\n",
       "213     True\n",
       "214    False\n",
       "215    False\n",
       "Name: runs, Length: 215, dtype: bool"
      ]
     },
     "execution_count": 139,
     "metadata": {},
     "output_type": "execute_result"
    }
   ],
   "source": [
    "vk >=50"
   ]
  },
  {
   "cell_type": "markdown",
   "id": "7a8fb375-f0a7-455f-abef-f1a3d3729d33",
   "metadata": {},
   "source": [
    "# Boolean Indexing On Series"
   ]
  },
  {
   "cell_type": "code",
   "execution_count": 140,
   "id": "75601f24-2091-4d6e-b9c4-a485bb62bf4c",
   "metadata": {},
   "outputs": [
    {
     "data": {
      "text/plain": [
       "match_no\n",
       "1      False\n",
       "2      False\n",
       "3      False\n",
       "4      False\n",
       "5      False\n",
       "       ...  \n",
       "211    False\n",
       "212    False\n",
       "213     True\n",
       "214    False\n",
       "215    False\n",
       "Name: runs, Length: 215, dtype: bool"
      ]
     },
     "execution_count": 140,
     "metadata": {},
     "output_type": "execute_result"
    }
   ],
   "source": [
    "# find no of 50's and 100's by virat kohli \n",
    "\n",
    "vk>=50"
   ]
  },
  {
   "cell_type": "code",
   "execution_count": 141,
   "id": "5d3b73d0-b981-4dc2-979f-56bc32eed78d",
   "metadata": {},
   "outputs": [
    {
     "data": {
      "text/plain": [
       "match_no\n",
       "15      50\n",
       "34      58\n",
       "41      71\n",
       "44      56\n",
       "45      67\n",
       "52      70\n",
       "57      57\n",
       "68      73\n",
       "71      51\n",
       "73      58\n",
       "74      65\n",
       "80      57\n",
       "81      93\n",
       "82      99\n",
       "85      56\n",
       "97      67\n",
       "99      73\n",
       "103     51\n",
       "104     62\n",
       "110     82\n",
       "116     75\n",
       "117     79\n",
       "119     80\n",
       "120    100\n",
       "122     52\n",
       "123    108\n",
       "126    109\n",
       "127     75\n",
       "128    113\n",
       "129     54\n",
       "131     54\n",
       "132     62\n",
       "134     64\n",
       "137     55\n",
       "141     58\n",
       "144     57\n",
       "145     92\n",
       "148     68\n",
       "152     70\n",
       "160     84\n",
       "162     67\n",
       "164    100\n",
       "175     72\n",
       "178     90\n",
       "182     50\n",
       "188     72\n",
       "197     51\n",
       "198     53\n",
       "209     58\n",
       "213     73\n",
       "Name: runs, dtype: int64"
      ]
     },
     "execution_count": 141,
     "metadata": {},
     "output_type": "execute_result"
    }
   ],
   "source": [
    "vk[vk>=50]"
   ]
  },
  {
   "cell_type": "code",
   "execution_count": 142,
   "id": "fee83c1c-ac4d-4a2c-982e-72bd869310a5",
   "metadata": {},
   "outputs": [
    {
     "data": {
      "text/plain": [
       "50"
      ]
     },
     "execution_count": 142,
     "metadata": {},
     "output_type": "execute_result"
    }
   ],
   "source": [
    "vk[vk>=50].size"
   ]
  },
  {
   "cell_type": "code",
   "execution_count": 143,
   "id": "ca9fad89-4aed-435b-b216-2f3a87bf4f48",
   "metadata": {},
   "outputs": [
    {
     "data": {
      "text/plain": [
       "9"
      ]
     },
     "execution_count": 143,
     "metadata": {},
     "output_type": "execute_result"
    }
   ],
   "source": [
    "#find the numbers of ducks\n",
    "\n",
    "vk[vk==0].size"
   ]
  },
  {
   "cell_type": "code",
   "execution_count": 147,
   "id": "45f9e14a-97ca-4d14-99e3-97d13d4a3343",
   "metadata": {},
   "outputs": [],
   "source": [
    "#find actors who have done more than 20 movies \n",
    "\n",
    "num = movies.value_counts()>20"
   ]
  },
  {
   "cell_type": "code",
   "execution_count": 148,
   "id": "e678bdf3-a712-4ba1-9c53-0c557ec62d88",
   "metadata": {},
   "outputs": [
    {
     "data": {
      "text/plain": [
       "7"
      ]
     },
     "execution_count": 148,
     "metadata": {},
     "output_type": "execute_result"
    }
   ],
   "source": [
    "num[num].size"
   ]
  },
  {
   "cell_type": "markdown",
   "id": "ae3e63fc-2d32-412e-8816-60743ad86a26",
   "metadata": {},
   "source": [
    "# PLOTING GRAPHS ON SERIES"
   ]
  },
  {
   "cell_type": "code",
   "execution_count": 149,
   "id": "14470742-d913-44f8-bd95-9ccf3ca83d08",
   "metadata": {},
   "outputs": [
    {
     "data": {
      "text/plain": [
       "<Axes: >"
      ]
     },
     "execution_count": 149,
     "metadata": {},
     "output_type": "execute_result"
    },
    {
     "data": {
      "image/png": "[encoded data removed]",
      "text/plain": [
       "<Figure size 640x480 with 1 Axes>"
      ]
     },
     "metadata": {},
     "output_type": "display_data"
    }
   ],
   "source": [
    "SUBS.plot()"
   ]
  },
  {
   "cell_type": "code",
   "execution_count": 150,
   "id": "46d63b7e-5470-48c7-a256-cd867692a824",
   "metadata": {},
   "outputs": [
    {
     "data": {
      "text/plain": [
       "lead\n",
       "Akshay Kumar        48\n",
       "Amitabh Bachchan    45\n",
       "Ajay Devgn          38\n",
       "Salman Khan         31\n",
       "Sanjay Dutt         26\n",
       "                    ..\n",
       "Riya Vij             1\n",
       "Sanaya Irani         1\n",
       "Utkarsh Sharma       1\n",
       "Mohan Azaad          1\n",
       "Meghan Jadhav        1\n",
       "Name: count, Length: 565, dtype: int64"
      ]
     },
     "execution_count": 150,
     "metadata": {},
     "output_type": "execute_result"
    }
   ],
   "source": [
    "movies.value_counts()"
   ]
  },
  {
   "cell_type": "code",
   "execution_count": 151,
   "id": "a57bc12f-9c28-4fbf-9055-8a2dec3eb510",
   "metadata": {},
   "outputs": [
    {
     "data": {
      "text/plain": [
       "lead\n",
       "Akshay Kumar        48\n",
       "Amitabh Bachchan    45\n",
       "Ajay Devgn          38\n",
       "Salman Khan         31\n",
       "Sanjay Dutt         26\n",
       "Shah Rukh Khan      22\n",
       "Emraan Hashmi       21\n",
       "Saif Ali Khan       18\n",
       "John Abraham        18\n",
       "Sunny Deol          17\n",
       "Shahid Kapoor       17\n",
       "Jimmy Sheirgill     16\n",
       "Tusshar Kapoor      16\n",
       "Manoj Bajpayee      14\n",
       "Irrfan Khan         14\n",
       "Arjun Rampal        14\n",
       "Anupam Kher         13\n",
       "Kangana Ranaut      12\n",
       "Hrithik Roshan      12\n",
       "Naseeruddin Shah    12\n",
       "Name: count, dtype: int64"
      ]
     },
     "execution_count": 151,
     "metadata": {},
     "output_type": "execute_result"
    }
   ],
   "source": [
    "movies.value_counts().head(20)"
   ]
  },
  {
   "cell_type": "code",
   "execution_count": 152,
   "id": "329ae260-4780-4e70-bab1-7ee6b25da4dc",
   "metadata": {},
   "outputs": [
    {
     "data": {
      "text/plain": [
       "<Axes: xlabel='lead'>"
      ]
     },
     "execution_count": 152,
     "metadata": {},
     "output_type": "execute_result"
    },
    {
     "data": {
      "image/png": "[encoded data removed]",
      "text/plain": [
       "<Figure size 640x480 with 1 Axes>"
      ]
     },
     "metadata": {},
     "output_type": "display_data"
    }
   ],
   "source": [
    "movies.value_counts().head(20).plot()"
   ]
  },
  {
   "cell_type": "code",
   "execution_count": 153,
   "id": "faeb6eae-bc22-41aa-b07f-53edc87f954c",
   "metadata": {},
   "outputs": [
    {
     "data": {
      "text/plain": [
       "<Axes: xlabel='lead'>"
      ]
     },
     "execution_count": 153,
     "metadata": {},
     "output_type": "execute_result"
    },
    {
     "data": {
      "image/png": "[encoded data removed]",
      "text/plain": [
       "<Figure size 640x480 with 1 Axes>"
      ]
     },
     "metadata": {},
     "output_type": "display_data"
    }
   ],
   "source": [
    "movies.value_counts().head(20).plot(kind='bar')"
   ]
  },
  {
   "cell_type": "code",
   "execution_count": 154,
   "id": "81806c07-4668-4bac-b8b5-ce76a5a3599d",
   "metadata": {},
   "outputs": [
    {
     "data": {
      "text/plain": [
       "<Axes: ylabel='count'>"
      ]
     },
     "execution_count": 154,
     "metadata": {},
     "output_type": "execute_result"
    },
    {
     "data": {
      "image/png": "[encoded data removed]",
      "text/plain": [
       "<Figure size 640x480 with 1 Axes>"
      ]
     },
     "metadata": {},
     "output_type": "display_data"
    }
   ],
   "source": [
    "movies.value_counts().head(20).plot(kind='pie')"
   ]
  },
  {
   "cell_type": "code",
   "execution_count": 155,
   "id": "9e057cf6-d680-4393-be38-85057b4516fa",
   "metadata": {},
   "outputs": [
    {
     "data": {
      "text/plain": [
       "<Axes: xlabel='runs'>"
      ]
     },
     "execution_count": 155,
     "metadata": {},
     "output_type": "execute_result"
    },
    {
     "data": {
      "image/png": "[encoded data removed]",
      "text/plain": [
       "<Figure size 640x480 with 1 Axes>"
      ]
     },
     "metadata": {},
     "output_type": "display_data"
    }
   ],
   "source": [
    "vk.value_counts().head(20).plot()"
   ]
  },
  {
   "cell_type": "markdown",
   "id": "77212ce3-5883-48e2-8797-87488b3eec8b",
   "metadata": {},
   "source": [
    "# other Series Methods"
   ]
  },
  {
   "cell_type": "code",
   "execution_count": 156,
   "id": "a14c8ce7-7bc7-4c34-b490-12836902d7b8",
   "metadata": {},
   "outputs": [
    {
     "data": {
      "text/plain": [
       "11768"
      ]
     },
     "execution_count": 156,
     "metadata": {},
     "output_type": "execute_result"
    }
   ],
   "source": [
    "#astype\n",
    "\n",
    "import sys\n",
    "sys.getsizeof(vk)"
   ]
  },
  {
   "cell_type": "code",
   "execution_count": 157,
   "id": "a79e8707-13ea-4058-9504-42bb091baf4c",
   "metadata": {},
   "outputs": [
    {
     "data": {
      "text/plain": [
       "10478"
      ]
     },
     "execution_count": 157,
     "metadata": {},
     "output_type": "execute_result"
    }
   ],
   "source": [
    "sys.getsizeof(vk.astype('int16'))"
   ]
  },
  {
   "cell_type": "code",
   "execution_count": 158,
   "id": "a1bbd1bc-e44a-4cc5-9cae-0d5b2aff7338",
   "metadata": {},
   "outputs": [
    {
     "data": {
      "text/plain": [
       "match_no\n",
       "1      False\n",
       "2      False\n",
       "3      False\n",
       "4      False\n",
       "5      False\n",
       "       ...  \n",
       "211    False\n",
       "212    False\n",
       "213     True\n",
       "214    False\n",
       "215    False\n",
       "Name: runs, Length: 215, dtype: bool"
      ]
     },
     "execution_count": 158,
     "metadata": {},
     "output_type": "execute_result"
    }
   ],
   "source": [
    "#between \n",
    "\n",
    "vk.between(51,99)"
   ]
  },
  {
   "cell_type": "code",
   "execution_count": 159,
   "id": "df4a9ffe-a6ef-419a-82f8-5737389ec8d4",
   "metadata": {},
   "outputs": [
    {
     "data": {
      "text/plain": [
       "43"
      ]
     },
     "execution_count": 159,
     "metadata": {},
     "output_type": "execute_result"
    }
   ],
   "source": [
    "vk[vk.between(51,99)].size"
   ]
  },
  {
   "cell_type": "code",
   "execution_count": 160,
   "id": "3b9b0997-4ffc-493d-8de4-37e95dfc96c6",
   "metadata": {},
   "outputs": [],
   "source": [
    "#clip\n",
    "\n",
    "# value under 100 makes 100 and values above 200 makes 200 and between 100 and 200 are same value"
   ]
  },
  {
   "cell_type": "code",
   "execution_count": 161,
   "id": "d2493771-9a6d-4520-9589-5b73f5ce9315",
   "metadata": {},
   "outputs": [
    {
     "data": {
      "text/html": [
       "<div>\n",
       "<style scoped>\n",
       "    .dataframe tbody tr th:only-of-type {\n",
       "        vertical-align: middle;\n",
       "    }\n",
       "\n",
       "    .dataframe tbody tr th {\n",
       "        vertical-align: top;\n",
       "    }\n",
       "\n",
       "    .dataframe thead th {\n",
       "        text-align: right;\n",
       "    }\n",
       "</style>\n",
       "<table border=\"1\" class=\"dataframe\">\n",
       "  <thead>\n",
       "    <tr style=\"text-align: right;\">\n",
       "      <th></th>\n",
       "      <th>Subscribers gained</th>\n",
       "    </tr>\n",
       "  </thead>\n",
       "  <tbody>\n",
       "    <tr>\n",
       "      <th>0</th>\n",
       "      <td>48</td>\n",
       "    </tr>\n",
       "    <tr>\n",
       "      <th>1</th>\n",
       "      <td>57</td>\n",
       "    </tr>\n",
       "    <tr>\n",
       "      <th>2</th>\n",
       "      <td>40</td>\n",
       "    </tr>\n",
       "    <tr>\n",
       "      <th>3</th>\n",
       "      <td>43</td>\n",
       "    </tr>\n",
       "    <tr>\n",
       "      <th>4</th>\n",
       "      <td>44</td>\n",
       "    </tr>\n",
       "    <tr>\n",
       "      <th>...</th>\n",
       "      <td>...</td>\n",
       "    </tr>\n",
       "    <tr>\n",
       "      <th>360</th>\n",
       "      <td>231</td>\n",
       "    </tr>\n",
       "    <tr>\n",
       "      <th>361</th>\n",
       "      <td>226</td>\n",
       "    </tr>\n",
       "    <tr>\n",
       "      <th>362</th>\n",
       "      <td>155</td>\n",
       "    </tr>\n",
       "    <tr>\n",
       "      <th>363</th>\n",
       "      <td>144</td>\n",
       "    </tr>\n",
       "    <tr>\n",
       "      <th>364</th>\n",
       "      <td>172</td>\n",
       "    </tr>\n",
       "  </tbody>\n",
       "</table>\n",
       "<p>365 rows × 1 columns</p>\n",
       "</div>"
      ],
      "text/plain": [
       "     Subscribers gained\n",
       "0                    48\n",
       "1                    57\n",
       "2                    40\n",
       "3                    43\n",
       "4                    44\n",
       "..                  ...\n",
       "360                 231\n",
       "361                 226\n",
       "362                 155\n",
       "363                 144\n",
       "364                 172\n",
       "\n",
       "[365 rows x 1 columns]"
      ]
     },
     "execution_count": 161,
     "metadata": {},
     "output_type": "execute_result"
    }
   ],
   "source": [
    "subs"
   ]
  },
  {
   "cell_type": "code",
   "execution_count": 162,
   "id": "c61cb948-5fdd-4df2-9d39-08225f3d5609",
   "metadata": {},
   "outputs": [
    {
     "data": {
      "text/html": [
       "<div>\n",
       "<style scoped>\n",
       "    .dataframe tbody tr th:only-of-type {\n",
       "        vertical-align: middle;\n",
       "    }\n",
       "\n",
       "    .dataframe tbody tr th {\n",
       "        vertical-align: top;\n",
       "    }\n",
       "\n",
       "    .dataframe thead th {\n",
       "        text-align: right;\n",
       "    }\n",
       "</style>\n",
       "<table border=\"1\" class=\"dataframe\">\n",
       "  <thead>\n",
       "    <tr style=\"text-align: right;\">\n",
       "      <th></th>\n",
       "      <th>Subscribers gained</th>\n",
       "    </tr>\n",
       "  </thead>\n",
       "  <tbody>\n",
       "    <tr>\n",
       "      <th>0</th>\n",
       "      <td>100</td>\n",
       "    </tr>\n",
       "    <tr>\n",
       "      <th>1</th>\n",
       "      <td>100</td>\n",
       "    </tr>\n",
       "    <tr>\n",
       "      <th>2</th>\n",
       "      <td>100</td>\n",
       "    </tr>\n",
       "    <tr>\n",
       "      <th>3</th>\n",
       "      <td>100</td>\n",
       "    </tr>\n",
       "    <tr>\n",
       "      <th>4</th>\n",
       "      <td>100</td>\n",
       "    </tr>\n",
       "    <tr>\n",
       "      <th>...</th>\n",
       "      <td>...</td>\n",
       "    </tr>\n",
       "    <tr>\n",
       "      <th>360</th>\n",
       "      <td>200</td>\n",
       "    </tr>\n",
       "    <tr>\n",
       "      <th>361</th>\n",
       "      <td>200</td>\n",
       "    </tr>\n",
       "    <tr>\n",
       "      <th>362</th>\n",
       "      <td>155</td>\n",
       "    </tr>\n",
       "    <tr>\n",
       "      <th>363</th>\n",
       "      <td>144</td>\n",
       "    </tr>\n",
       "    <tr>\n",
       "      <th>364</th>\n",
       "      <td>172</td>\n",
       "    </tr>\n",
       "  </tbody>\n",
       "</table>\n",
       "<p>365 rows × 1 columns</p>\n",
       "</div>"
      ],
      "text/plain": [
       "     Subscribers gained\n",
       "0                   100\n",
       "1                   100\n",
       "2                   100\n",
       "3                   100\n",
       "4                   100\n",
       "..                  ...\n",
       "360                 200\n",
       "361                 200\n",
       "362                 155\n",
       "363                 144\n",
       "364                 172\n",
       "\n",
       "[365 rows x 1 columns]"
      ]
     },
     "execution_count": 162,
     "metadata": {},
     "output_type": "execute_result"
    }
   ],
   "source": [
    "subs.clip(100,200)"
   ]
  },
  {
   "cell_type": "code",
   "execution_count": 163,
   "id": "7ee4be5c-050e-4100-9e6f-a708b89eee47",
   "metadata": {},
   "outputs": [],
   "source": [
    "# drop_duplicates \n",
    "\n",
    "temp = pd.Series([1,1,1,1,2,3,4,4,5,5,6])"
   ]
  },
  {
   "cell_type": "code",
   "execution_count": 164,
   "id": "85d6646b-017c-4741-b225-f7da6c88b345",
   "metadata": {},
   "outputs": [
    {
     "data": {
      "text/plain": [
       "0     1\n",
       "1     1\n",
       "2     1\n",
       "3     1\n",
       "4     2\n",
       "5     3\n",
       "6     4\n",
       "7     4\n",
       "8     5\n",
       "9     5\n",
       "10    6\n",
       "dtype: int64"
      ]
     },
     "execution_count": 164,
     "metadata": {},
     "output_type": "execute_result"
    }
   ],
   "source": [
    "temp"
   ]
  },
  {
   "cell_type": "code",
   "execution_count": 166,
   "id": "1ae9c054-d4b5-426a-bb83-966ed2a1f49d",
   "metadata": {},
   "outputs": [
    {
     "data": {
      "text/plain": [
       "0     1\n",
       "4     2\n",
       "5     3\n",
       "6     4\n",
       "8     5\n",
       "10    6\n",
       "dtype: int64"
      ]
     },
     "execution_count": 166,
     "metadata": {},
     "output_type": "execute_result"
    }
   ],
   "source": [
    "temp.drop_duplicates()"
   ]
  },
  {
   "cell_type": "code",
   "execution_count": 167,
   "id": "f04e72dd-efd5-411d-b24d-307c868eb41d",
   "metadata": {},
   "outputs": [
    {
     "data": {
      "text/plain": [
       "3     1\n",
       "4     2\n",
       "5     3\n",
       "7     4\n",
       "9     5\n",
       "10    6\n",
       "dtype: int64"
      ]
     },
     "execution_count": 167,
     "metadata": {},
     "output_type": "execute_result"
    }
   ],
   "source": [
    "temp.drop_duplicates(keep='last')"
   ]
  },
  {
   "cell_type": "code",
   "execution_count": 168,
   "id": "0c5b7313-2846-40fc-a987-2a4c7d217658",
   "metadata": {},
   "outputs": [
    {
     "data": {
      "text/plain": [
       "movie\n",
       "1920 (film)               Rajniesh Duggall\n",
       "1920: London                 Sharman Joshi\n",
       "1920: The Evil Returns         Vicky Ahuja\n",
       "1971 (2007 film)            Manoj Bajpayee\n",
       "2 States (2014 film)          Arjun Kapoor\n",
       "                                ...       \n",
       "Yeh Khula Aasmaan               Anya Anand\n",
       "Yeh Saali Aashiqui            Vardhan Puri\n",
       "Zed Plus                     Vinod Acharya\n",
       "Zid (2014 film)             Mannara Chopra\n",
       "Zor Lagaa Ke...Haiya!        Meghan Jadhav\n",
       "Name: lead, Length: 565, dtype: object"
      ]
     },
     "execution_count": 168,
     "metadata": {},
     "output_type": "execute_result"
    }
   ],
   "source": [
    "movies.drop_duplicates()"
   ]
  },
  {
   "cell_type": "code",
   "execution_count": 169,
   "id": "00727a21-13db-4f55-a343-fe88e02725c3",
   "metadata": {},
   "outputs": [
    {
     "data": {
      "text/plain": [
       "0     False\n",
       "1      True\n",
       "2      True\n",
       "3      True\n",
       "4     False\n",
       "5     False\n",
       "6     False\n",
       "7      True\n",
       "8     False\n",
       "9      True\n",
       "10    False\n",
       "dtype: bool"
      ]
     },
     "execution_count": 169,
     "metadata": {},
     "output_type": "execute_result"
    }
   ],
   "source": [
    "temp.duplicated()"
   ]
  },
  {
   "cell_type": "code",
   "execution_count": 170,
   "id": "3bff6c89-062a-4ac3-82df-29ad87f41cfc",
   "metadata": {},
   "outputs": [
    {
     "data": {
      "text/plain": [
       "5"
      ]
     },
     "execution_count": 170,
     "metadata": {},
     "output_type": "execute_result"
    }
   ],
   "source": [
    "temp.duplicated().sum()"
   ]
  },
  {
   "cell_type": "code",
   "execution_count": 171,
   "id": "6c6659db-8cd2-4aeb-90d0-2232e3b48f48",
   "metadata": {},
   "outputs": [],
   "source": [
    "temp1=pd.Series([1,2,3,4,np.nan,6,np.nan,8,9])"
   ]
  },
  {
   "cell_type": "code",
   "execution_count": 172,
   "id": "a93f1cc8-b48b-4fff-865e-c9bc43d149ed",
   "metadata": {},
   "outputs": [
    {
     "data": {
      "text/plain": [
       "0    1.0\n",
       "1    2.0\n",
       "2    3.0\n",
       "3    4.0\n",
       "4    NaN\n",
       "5    6.0\n",
       "6    NaN\n",
       "7    8.0\n",
       "8    9.0\n",
       "dtype: float64"
      ]
     },
     "execution_count": 172,
     "metadata": {},
     "output_type": "execute_result"
    }
   ],
   "source": [
    "temp1"
   ]
  },
  {
   "cell_type": "code",
   "execution_count": 173,
   "id": "a6e039a9-a3c4-4be3-aa5e-7afb74541e44",
   "metadata": {},
   "outputs": [
    {
     "data": {
      "text/plain": [
       "9"
      ]
     },
     "execution_count": 173,
     "metadata": {},
     "output_type": "execute_result"
    }
   ],
   "source": [
    "temp1.size"
   ]
  },
  {
   "cell_type": "code",
   "execution_count": 174,
   "id": "c2bddaf9-8f99-4a7d-8288-08bd9e583060",
   "metadata": {},
   "outputs": [
    {
     "data": {
      "text/plain": [
       "7"
      ]
     },
     "execution_count": 174,
     "metadata": {},
     "output_type": "execute_result"
    }
   ],
   "source": [
    "temp1.count()"
   ]
  },
  {
   "cell_type": "code",
   "execution_count": 175,
   "id": "5c4419cc-4a76-42b9-aa0f-c8c763805ca7",
   "metadata": {},
   "outputs": [
    {
     "data": {
      "text/plain": [
       "match_no\n",
       "1      False\n",
       "2      False\n",
       "3      False\n",
       "4      False\n",
       "5      False\n",
       "       ...  \n",
       "211    False\n",
       "212    False\n",
       "213    False\n",
       "214    False\n",
       "215    False\n",
       "Name: runs, Length: 215, dtype: bool"
      ]
     },
     "execution_count": 175,
     "metadata": {},
     "output_type": "execute_result"
    }
   ],
   "source": [
    "#isnull\n",
    "\n",
    "vk.isnull()"
   ]
  },
  {
   "cell_type": "code",
   "execution_count": 176,
   "id": "3fb7fa18-5e82-45a4-9d52-2b51b930061a",
   "metadata": {},
   "outputs": [
    {
     "data": {
      "text/plain": [
       "0"
      ]
     },
     "execution_count": 176,
     "metadata": {},
     "output_type": "execute_result"
    }
   ],
   "source": [
    "vk.isnull().sum()"
   ]
  },
  {
   "cell_type": "code",
   "execution_count": 177,
   "id": "9aa2de9e-b723-4771-9cf4-6d7a39866c94",
   "metadata": {},
   "outputs": [
    {
     "data": {
      "text/plain": [
       "0    False\n",
       "1    False\n",
       "2    False\n",
       "3    False\n",
       "4     True\n",
       "5    False\n",
       "6     True\n",
       "7    False\n",
       "8    False\n",
       "dtype: bool"
      ]
     },
     "execution_count": 177,
     "metadata": {},
     "output_type": "execute_result"
    }
   ],
   "source": [
    "temp1.isnull()"
   ]
  },
  {
   "cell_type": "code",
   "execution_count": 178,
   "id": "efafb07b-af0c-4640-a0da-738b9d2c814e",
   "metadata": {},
   "outputs": [
    {
     "data": {
      "text/plain": [
       "2"
      ]
     },
     "execution_count": 178,
     "metadata": {},
     "output_type": "execute_result"
    }
   ],
   "source": [
    "temp1.isnull().sum()"
   ]
  },
  {
   "cell_type": "code",
   "execution_count": 179,
   "id": "6077daf5-c8d9-4683-ae95-9491b0c9c262",
   "metadata": {},
   "outputs": [
    {
     "data": {
      "text/plain": [
       "2"
      ]
     },
     "execution_count": 179,
     "metadata": {},
     "output_type": "execute_result"
    }
   ],
   "source": [
    "temp1[temp1.isnull()].size"
   ]
  },
  {
   "cell_type": "code",
   "execution_count": 180,
   "id": "c2f6978a-e5f5-4749-887b-d933e63c61e5",
   "metadata": {},
   "outputs": [
    {
     "data": {
      "text/plain": [
       "0    1.0\n",
       "1    2.0\n",
       "2    3.0\n",
       "3    4.0\n",
       "5    6.0\n",
       "7    8.0\n",
       "8    9.0\n",
       "dtype: float64"
      ]
     },
     "execution_count": 180,
     "metadata": {},
     "output_type": "execute_result"
    }
   ],
   "source": [
    "#dropna \n",
    "\n",
    "temp1.dropna()"
   ]
  },
  {
   "cell_type": "code",
   "execution_count": 181,
   "id": "f5a54c51-0a85-42b3-8ce3-8dd3d1895849",
   "metadata": {},
   "outputs": [
    {
     "data": {
      "text/plain": [
       "0    1.0\n",
       "1    2.0\n",
       "2    3.0\n",
       "3    4.0\n",
       "4    0.0\n",
       "5    6.0\n",
       "6    0.0\n",
       "7    8.0\n",
       "8    9.0\n",
       "dtype: float64"
      ]
     },
     "execution_count": 181,
     "metadata": {},
     "output_type": "execute_result"
    }
   ],
   "source": [
    "temp1.fillna(0)"
   ]
  },
  {
   "cell_type": "code",
   "execution_count": 183,
   "id": "2ef2dfed-e2c4-46f5-8ba5-eb3c0e04ed21",
   "metadata": {},
   "outputs": [
    {
     "data": {
      "text/plain": [
       "0    1.000000\n",
       "1    2.000000\n",
       "2    3.000000\n",
       "3    4.000000\n",
       "4    4.714286\n",
       "5    6.000000\n",
       "6    4.714286\n",
       "7    8.000000\n",
       "8    9.000000\n",
       "dtype: float64"
      ]
     },
     "execution_count": 183,
     "metadata": {},
     "output_type": "execute_result"
    }
   ],
   "source": [
    "temp1.fillna(temp1.mean())"
   ]
  },
  {
   "cell_type": "code",
   "execution_count": 184,
   "id": "196b5d49-0632-454e-84c8-74d65a1b4091",
   "metadata": {},
   "outputs": [],
   "source": [
    "#isin"
   ]
  },
  {
   "cell_type": "code",
   "execution_count": 186,
   "id": "e3824d0a-351b-4077-951d-63273fd95471",
   "metadata": {},
   "outputs": [
    {
     "data": {
      "text/plain": [
       "match_no\n",
       "1      False\n",
       "2      False\n",
       "3      False\n",
       "4      False\n",
       "5      False\n",
       "       ...  \n",
       "211    False\n",
       "212    False\n",
       "213    False\n",
       "214    False\n",
       "215    False\n",
       "Name: runs, Length: 215, dtype: bool"
      ]
     },
     "execution_count": 186,
     "metadata": {},
     "output_type": "execute_result"
    }
   ],
   "source": [
    "(vk==49) | (vk==99)"
   ]
  },
  {
   "cell_type": "code",
   "execution_count": 187,
   "id": "b1f7a42b-69b0-4b2f-89e7-f441ca9e9ee3",
   "metadata": {},
   "outputs": [
    {
     "data": {
      "text/plain": [
       "match_no\n",
       "82    99\n",
       "86    49\n",
       "Name: runs, dtype: int64"
      ]
     },
     "execution_count": 187,
     "metadata": {},
     "output_type": "execute_result"
    }
   ],
   "source": [
    "vk[(vk==49) | (vk==99)]"
   ]
  },
  {
   "cell_type": "code",
   "execution_count": 189,
   "id": "d381703f-d38e-4aa7-b662-3f158f4cdaca",
   "metadata": {},
   "outputs": [
    {
     "data": {
      "text/plain": [
       "match_no\n",
       "82    99\n",
       "86    49\n",
       "Name: runs, dtype: int64"
      ]
     },
     "execution_count": 189,
     "metadata": {},
     "output_type": "execute_result"
    }
   ],
   "source": [
    "vk[vk.isin([49,99])]"
   ]
  },
  {
   "cell_type": "code",
   "execution_count": 190,
   "id": "aeb85d9a-356e-4a5d-90b2-72ddec34d68f",
   "metadata": {},
   "outputs": [],
   "source": [
    "#apply"
   ]
  },
  {
   "cell_type": "code",
   "execution_count": 191,
   "id": "165b6bb6-c696-4f23-a59a-aa4d1a4c194c",
   "metadata": {},
   "outputs": [
    {
     "data": {
      "text/plain": [
       "movie\n",
       "1920 (film)                   Rajniesh Duggall\n",
       "1920: London                     Sharman Joshi\n",
       "1920: The Evil Returns             Vicky Ahuja\n",
       "1971 (2007 film)                Manoj Bajpayee\n",
       "2 States (2014 film)              Arjun Kapoor\n",
       "                                   ...        \n",
       "Zindagi 50-50                       Alia Bhatt\n",
       "Zindagi Na Milegi Dobara        Hrithik Roshan\n",
       "Zindagi Tere Naam           Mithun Chakraborty\n",
       "Zokkomon                       Darsheel Safary\n",
       "Zor Lagaa Ke...Haiya!            Meghan Jadhav\n",
       "Name: lead, Length: 1500, dtype: object"
      ]
     },
     "execution_count": 191,
     "metadata": {},
     "output_type": "execute_result"
    }
   ],
   "source": [
    "movies"
   ]
  },
  {
   "cell_type": "code",
   "execution_count": 193,
   "id": "2cecc740-20b5-4a0a-90c2-521a78f9228e",
   "metadata": {},
   "outputs": [
    {
     "data": {
      "text/plain": [
       "movie\n",
       "1920 (film)                   [Rajniesh, Duggall]\n",
       "1920: London                     [Sharman, Joshi]\n",
       "1920: The Evil Returns             [Vicky, Ahuja]\n",
       "1971 (2007 film)                [Manoj, Bajpayee]\n",
       "2 States (2014 film)              [Arjun, Kapoor]\n",
       "                                    ...          \n",
       "Zindagi 50-50                       [Alia, Bhatt]\n",
       "Zindagi Na Milegi Dobara        [Hrithik, Roshan]\n",
       "Zindagi Tere Naam           [Mithun, Chakraborty]\n",
       "Zokkomon                       [Darsheel, Safary]\n",
       "Zor Lagaa Ke...Haiya!            [Meghan, Jadhav]\n",
       "Name: lead, Length: 1500, dtype: object"
      ]
     },
     "execution_count": 193,
     "metadata": {},
     "output_type": "execute_result"
    }
   ],
   "source": [
    "movies.apply(lambda x:x.split())"
   ]
  },
  {
   "cell_type": "code",
   "execution_count": 192,
   "id": "25d05992-2833-41ca-85c1-e7d16f423254",
   "metadata": {},
   "outputs": [
    {
     "data": {
      "text/plain": [
       "movie\n",
       "1920 (film)                 Rajniesh\n",
       "1920: London                 Sharman\n",
       "1920: The Evil Returns         Vicky\n",
       "1971 (2007 film)               Manoj\n",
       "2 States (2014 film)           Arjun\n",
       "                              ...   \n",
       "Zindagi 50-50                   Alia\n",
       "Zindagi Na Milegi Dobara     Hrithik\n",
       "Zindagi Tere Naam             Mithun\n",
       "Zokkomon                    Darsheel\n",
       "Zor Lagaa Ke...Haiya!         Meghan\n",
       "Name: lead, Length: 1500, dtype: object"
      ]
     },
     "execution_count": 192,
     "metadata": {},
     "output_type": "execute_result"
    }
   ],
   "source": [
    "movies.apply(lambda x:x.split()[0])"
   ]
  },
  {
   "cell_type": "code",
   "execution_count": 195,
   "id": "43fa50b7-3794-4fad-a9b5-5d3bb05fc1b9",
   "metadata": {},
   "outputs": [
    {
     "data": {
      "text/plain": [
       "movie\n",
       "1920 (film)                 RAJNIESH\n",
       "1920: London                 SHARMAN\n",
       "1920: The Evil Returns         VICKY\n",
       "1971 (2007 film)               MANOJ\n",
       "2 States (2014 film)           ARJUN\n",
       "                              ...   \n",
       "Zindagi 50-50                   ALIA\n",
       "Zindagi Na Milegi Dobara     HRITHIK\n",
       "Zindagi Tere Naam             MITHUN\n",
       "Zokkomon                    DARSHEEL\n",
       "Zor Lagaa Ke...Haiya!         MEGHAN\n",
       "Name: lead, Length: 1500, dtype: object"
      ]
     },
     "execution_count": 195,
     "metadata": {},
     "output_type": "execute_result"
    }
   ],
   "source": [
    "movies.apply(lambda x:x.split()[0].upper())"
   ]
  },
  {
   "cell_type": "code",
   "execution_count": 196,
   "id": "50811f0d-04d7-44db-a4fc-ae8d567bb782",
   "metadata": {},
   "outputs": [
    {
     "data": {
      "text/html": [
       "<div>\n",
       "<style scoped>\n",
       "    .dataframe tbody tr th:only-of-type {\n",
       "        vertical-align: middle;\n",
       "    }\n",
       "\n",
       "    .dataframe tbody tr th {\n",
       "        vertical-align: top;\n",
       "    }\n",
       "\n",
       "    .dataframe thead th {\n",
       "        text-align: right;\n",
       "    }\n",
       "</style>\n",
       "<table border=\"1\" class=\"dataframe\">\n",
       "  <thead>\n",
       "    <tr style=\"text-align: right;\">\n",
       "      <th></th>\n",
       "      <th>Subscribers gained</th>\n",
       "    </tr>\n",
       "  </thead>\n",
       "  <tbody>\n",
       "    <tr>\n",
       "      <th>0</th>\n",
       "      <td>48</td>\n",
       "    </tr>\n",
       "    <tr>\n",
       "      <th>1</th>\n",
       "      <td>57</td>\n",
       "    </tr>\n",
       "    <tr>\n",
       "      <th>2</th>\n",
       "      <td>40</td>\n",
       "    </tr>\n",
       "    <tr>\n",
       "      <th>3</th>\n",
       "      <td>43</td>\n",
       "    </tr>\n",
       "    <tr>\n",
       "      <th>4</th>\n",
       "      <td>44</td>\n",
       "    </tr>\n",
       "    <tr>\n",
       "      <th>...</th>\n",
       "      <td>...</td>\n",
       "    </tr>\n",
       "    <tr>\n",
       "      <th>360</th>\n",
       "      <td>231</td>\n",
       "    </tr>\n",
       "    <tr>\n",
       "      <th>361</th>\n",
       "      <td>226</td>\n",
       "    </tr>\n",
       "    <tr>\n",
       "      <th>362</th>\n",
       "      <td>155</td>\n",
       "    </tr>\n",
       "    <tr>\n",
       "      <th>363</th>\n",
       "      <td>144</td>\n",
       "    </tr>\n",
       "    <tr>\n",
       "      <th>364</th>\n",
       "      <td>172</td>\n",
       "    </tr>\n",
       "  </tbody>\n",
       "</table>\n",
       "<p>365 rows × 1 columns</p>\n",
       "</div>"
      ],
      "text/plain": [
       "     Subscribers gained\n",
       "0                    48\n",
       "1                    57\n",
       "2                    40\n",
       "3                    43\n",
       "4                    44\n",
       "..                  ...\n",
       "360                 231\n",
       "361                 226\n",
       "362                 155\n",
       "363                 144\n",
       "364                 172\n",
       "\n",
       "[365 rows x 1 columns]"
      ]
     },
     "execution_count": 196,
     "metadata": {},
     "output_type": "execute_result"
    }
   ],
   "source": [
    "subs"
   ]
  },
  {
   "cell_type": "code",
   "execution_count": 197,
   "id": "c05da4f0-f727-4b25-825e-64db800d302f",
   "metadata": {},
   "outputs": [],
   "source": [
    "subs = subs.squeeze()"
   ]
  },
  {
   "cell_type": "code",
   "execution_count": 198,
   "id": "a2bbf5b8-f4e5-4b1f-bfcb-1ef98ec1b842",
   "metadata": {},
   "outputs": [
    {
     "data": {
      "text/plain": [
       "0       48\n",
       "1       57\n",
       "2       40\n",
       "3       43\n",
       "4       44\n",
       "      ... \n",
       "360    231\n",
       "361    226\n",
       "362    155\n",
       "363    144\n",
       "364    172\n",
       "Name: Subscribers gained, Length: 365, dtype: int64"
      ]
     },
     "execution_count": 198,
     "metadata": {},
     "output_type": "execute_result"
    }
   ],
   "source": [
    "subs"
   ]
  },
  {
   "cell_type": "code",
   "execution_count": 199,
   "id": "2652d4a0-fdbd-47ee-99f8-c89a7b4c5ab3",
   "metadata": {},
   "outputs": [
    {
     "data": {
      "text/plain": [
       "0       Bad day\n",
       "1       Bad day\n",
       "2       Bad day\n",
       "3       Bad day\n",
       "4       Bad day\n",
       "         ...   \n",
       "360    Good day\n",
       "361    Good day\n",
       "362    Good day\n",
       "363    Good day\n",
       "364    Good day\n",
       "Name: Subscribers gained, Length: 365, dtype: object"
      ]
     },
     "execution_count": 199,
     "metadata": {},
     "output_type": "execute_result"
    }
   ],
   "source": [
    "subs.apply(lambda x:'Good day' if x>subs.mean() else 'Bad day')"
   ]
  },
  {
   "cell_type": "code",
   "execution_count": 200,
   "id": "8c92fb9d-fd90-496b-8e83-5b5cf8afcb13",
   "metadata": {},
   "outputs": [],
   "source": [
    "#copy"
   ]
  },
  {
   "cell_type": "code",
   "execution_count": 201,
   "id": "7e7b6c4d-8c3d-46db-b06e-a1d965394b20",
   "metadata": {},
   "outputs": [
    {
     "data": {
      "text/plain": [
       "match_no\n",
       "1       1\n",
       "2      23\n",
       "3      13\n",
       "4      12\n",
       "5       1\n",
       "       ..\n",
       "211     0\n",
       "212    20\n",
       "213    73\n",
       "214    25\n",
       "215     7\n",
       "Name: runs, Length: 215, dtype: int64"
      ]
     },
     "execution_count": 201,
     "metadata": {},
     "output_type": "execute_result"
    }
   ],
   "source": [
    "vk"
   ]
  },
  {
   "cell_type": "code",
   "execution_count": 202,
   "id": "422b69b0-1278-4350-bffb-d9cd7d39e512",
   "metadata": {},
   "outputs": [],
   "source": [
    "new = vk.head()"
   ]
  },
  {
   "cell_type": "code",
   "execution_count": 203,
   "id": "2fdaeba6-38a6-49f9-9772-db07a9aa71aa",
   "metadata": {},
   "outputs": [],
   "source": [
    "new[0]=1"
   ]
  },
  {
   "cell_type": "code",
   "execution_count": 204,
   "id": "5cecf67d-8ea0-4422-94bf-0d970f03faac",
   "metadata": {},
   "outputs": [
    {
     "data": {
      "text/plain": [
       "match_no\n",
       "1       1\n",
       "2      23\n",
       "3      13\n",
       "4      12\n",
       "5       1\n",
       "       ..\n",
       "211     0\n",
       "212    20\n",
       "213    73\n",
       "214    25\n",
       "215     7\n",
       "Name: runs, Length: 215, dtype: int64"
      ]
     },
     "execution_count": 204,
     "metadata": {},
     "output_type": "execute_result"
    }
   ],
   "source": [
    "vk"
   ]
  },
  {
   "cell_type": "code",
   "execution_count": null,
   "id": "a843aaf9-02f8-48f1-98b9-d5cfb50b1470",
   "metadata": {},
   "outputs": [],
   "source": []
  }
 ],
 "metadata": {
  "kernelspec": {
   "display_name": "Python 3 (ipykernel)",
   "language": "python",
   "name": "python3"
  },
  "language_info": {
   "codemirror_mode": {
    "name": "ipython",
    "version": 3
   },
   "file_extension": ".py",
   "mimetype": "text/x-python",
   "name": "python",
   "nbconvert_exporter": "python",
   "pygments_lexer": "ipython3",
   "version": "3.11.6"
  }
 },
 "nbformat": 4,
 "nbformat_minor": 5
}
